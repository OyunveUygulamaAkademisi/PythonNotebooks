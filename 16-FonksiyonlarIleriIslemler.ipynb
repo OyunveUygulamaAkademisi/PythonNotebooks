{
 "cells": [
  {
   "cell_type": "code",
   "execution_count": 1,
   "id": "aed862ac",
   "metadata": {},
   "outputs": [],
   "source": [
    "def uce_bolme(num):\n",
    "    return num / 3"
   ]
  },
  {
   "cell_type": "code",
   "execution_count": 2,
   "id": "abcebd2d",
   "metadata": {},
   "outputs": [
    {
     "data": {
      "text/plain": [
       "3.0"
      ]
     },
     "execution_count": 2,
     "metadata": {},
     "output_type": "execute_result"
    }
   ],
   "source": [
    "uce_bolme(9)"
   ]
  },
  {
   "cell_type": "code",
   "execution_count": 3,
   "id": "c3e2bacd",
   "metadata": {},
   "outputs": [],
   "source": [
    "numara_listesi = [9,12,15,18,21,24]"
   ]
  },
  {
   "cell_type": "code",
   "execution_count": 4,
   "id": "4a60c1ad",
   "metadata": {},
   "outputs": [],
   "source": [
    "sonuc_listesi = []\n",
    "for num in numara_listesi:\n",
    "    sonuc_listesi.append(uce_bolme(num))"
   ]
  },
  {
   "cell_type": "code",
   "execution_count": 5,
   "id": "a87f325d",
   "metadata": {},
   "outputs": [
    {
     "data": {
      "text/plain": [
       "[3.0, 4.0, 5.0, 6.0, 7.0, 8.0]"
      ]
     },
     "execution_count": 5,
     "metadata": {},
     "output_type": "execute_result"
    }
   ],
   "source": [
    "sonuc_listesi"
   ]
  },
  {
   "cell_type": "code",
   "execution_count": 6,
   "id": "b0312c89",
   "metadata": {},
   "outputs": [],
   "source": [
    "# map, filter"
   ]
  },
  {
   "cell_type": "code",
   "execution_count": 7,
   "id": "58001ce8",
   "metadata": {},
   "outputs": [
    {
     "name": "stdout",
     "output_type": "stream",
     "text": [
      "Help on class map in module builtins:\n",
      "\n",
      "class map(object)\n",
      " |  map(func, *iterables) --> map object\n",
      " |  \n",
      " |  Make an iterator that computes the function using arguments from\n",
      " |  each of the iterables.  Stops when the shortest iterable is exhausted.\n",
      " |  \n",
      " |  Methods defined here:\n",
      " |  \n",
      " |  __getattribute__(self, name, /)\n",
      " |      Return getattr(self, name).\n",
      " |  \n",
      " |  __iter__(self, /)\n",
      " |      Implement iter(self).\n",
      " |  \n",
      " |  __next__(self, /)\n",
      " |      Implement next(self).\n",
      " |  \n",
      " |  __reduce__(...)\n",
      " |      Return state information for pickling.\n",
      " |  \n",
      " |  ----------------------------------------------------------------------\n",
      " |  Static methods defined here:\n",
      " |  \n",
      " |  __new__(*args, **kwargs) from builtins.type\n",
      " |      Create and return a new object.  See help(type) for accurate signature.\n",
      "\n"
     ]
    }
   ],
   "source": [
    "help(map)"
   ]
  },
  {
   "cell_type": "code",
   "execution_count": 8,
   "id": "773308f8",
   "metadata": {},
   "outputs": [
    {
     "data": {
      "text/plain": [
       "[3.0, 4.0, 5.0, 6.0, 7.0, 8.0]"
      ]
     },
     "execution_count": 8,
     "metadata": {},
     "output_type": "execute_result"
    }
   ],
   "source": [
    "list(map(uce_bolme,numara_listesi))"
   ]
  },
  {
   "cell_type": "code",
   "execution_count": 9,
   "id": "5b932b7a",
   "metadata": {},
   "outputs": [],
   "source": [
    "def icinde_a_geciyor_mu(string):\n",
    "    return \"A\" in string"
   ]
  },
  {
   "cell_type": "code",
   "execution_count": 10,
   "id": "39852fe3",
   "metadata": {},
   "outputs": [
    {
     "data": {
      "text/plain": [
       "False"
      ]
     },
     "execution_count": 10,
     "metadata": {},
     "output_type": "execute_result"
    }
   ],
   "source": [
    "\"b\" in \"atıl\""
   ]
  },
  {
   "cell_type": "code",
   "execution_count": 11,
   "id": "15bb7291",
   "metadata": {},
   "outputs": [
    {
     "data": {
      "text/plain": [
       "True"
      ]
     },
     "execution_count": 11,
     "metadata": {},
     "output_type": "execute_result"
    }
   ],
   "source": [
    "icinde_a_geciyor_mu(\"Atıl\")"
   ]
  },
  {
   "cell_type": "code",
   "execution_count": 12,
   "id": "27b9bcf6",
   "metadata": {},
   "outputs": [],
   "source": [
    "string_listesi = [\"Atıl\", \"Samancıoğlu\", \"Ahmet\", \"Burçin\"]"
   ]
  },
  {
   "cell_type": "code",
   "execution_count": 13,
   "id": "9e0edfce",
   "metadata": {},
   "outputs": [
    {
     "data": {
      "text/plain": [
       "[True, False, True, False]"
      ]
     },
     "execution_count": 13,
     "metadata": {},
     "output_type": "execute_result"
    }
   ],
   "source": [
    "list(map(icinde_a_geciyor_mu,string_listesi))"
   ]
  },
  {
   "cell_type": "code",
   "execution_count": 14,
   "id": "4476f005",
   "metadata": {},
   "outputs": [
    {
     "data": {
      "text/plain": [
       "['Atıl', 'Ahmet']"
      ]
     },
     "execution_count": 14,
     "metadata": {},
     "output_type": "execute_result"
    }
   ],
   "source": [
    "list(filter(icinde_a_geciyor_mu,string_listesi))"
   ]
  },
  {
   "cell_type": "code",
   "execution_count": 15,
   "id": "297073a0",
   "metadata": {},
   "outputs": [],
   "source": [
    "#list(filter(uce_bolme,numara_listesi))"
   ]
  },
  {
   "cell_type": "code",
   "execution_count": 16,
   "id": "8691ef51",
   "metadata": {},
   "outputs": [],
   "source": [
    "#lambda"
   ]
  },
  {
   "cell_type": "code",
   "execution_count": 17,
   "id": "76f92b2d",
   "metadata": {},
   "outputs": [
    {
     "data": {
      "text/plain": [
       "[9, 12, 15, 18, 21, 24]"
      ]
     },
     "execution_count": 17,
     "metadata": {},
     "output_type": "execute_result"
    }
   ],
   "source": [
    "numara_listesi"
   ]
  },
  {
   "cell_type": "code",
   "execution_count": 18,
   "id": "382f0537",
   "metadata": {},
   "outputs": [
    {
     "data": {
      "text/plain": [
       "[4.5, 6.0, 7.5, 9.0, 10.5, 12.0]"
      ]
     },
     "execution_count": 18,
     "metadata": {},
     "output_type": "execute_result"
    }
   ],
   "source": [
    "list(map(lambda num : num / 2,numara_listesi))"
   ]
  },
  {
   "cell_type": "code",
   "execution_count": 19,
   "id": "780d7e3c",
   "metadata": {},
   "outputs": [],
   "source": [
    "def ikiye_bol(num):\n",
    "    return num / 2"
   ]
  },
  {
   "cell_type": "code",
   "execution_count": 20,
   "id": "6ffbb53d",
   "metadata": {},
   "outputs": [],
   "source": [
    "numara_listesi = [10,20,30,40,50,60,70]"
   ]
  },
  {
   "cell_type": "code",
   "execution_count": 21,
   "id": "2dd1e9a9",
   "metadata": {},
   "outputs": [],
   "source": [
    "yeni_liste = []\n",
    "for num in numara_listesi:\n",
    "    if num % 6 == 0:\n",
    "        yeni_liste.append(num)"
   ]
  },
  {
   "cell_type": "code",
   "execution_count": 22,
   "id": "ab6d7d28",
   "metadata": {},
   "outputs": [
    {
     "data": {
      "text/plain": [
       "[30, 60]"
      ]
     },
     "execution_count": 22,
     "metadata": {},
     "output_type": "execute_result"
    }
   ],
   "source": [
    "yeni_liste"
   ]
  },
  {
   "cell_type": "code",
   "execution_count": 23,
   "id": "426ea542",
   "metadata": {},
   "outputs": [
    {
     "data": {
      "text/plain": [
       "[30, 60]"
      ]
     },
     "execution_count": 23,
     "metadata": {},
     "output_type": "execute_result"
    }
   ],
   "source": [
    "list(filter(lambda num : num % 6 == 0,numara_listesi))"
   ]
  },
  {
   "cell_type": "code",
   "execution_count": 24,
   "id": "d3f9f3c2",
   "metadata": {},
   "outputs": [],
   "source": [
    "#scope (kapsam)"
   ]
  },
  {
   "cell_type": "code",
   "execution_count": 25,
   "id": "4b184b7e",
   "metadata": {},
   "outputs": [],
   "source": [
    "x = 20\n",
    "def carpma(num):\n",
    "    x = 5\n",
    "    return num * x"
   ]
  },
  {
   "cell_type": "code",
   "execution_count": 26,
   "id": "526c4e85",
   "metadata": {},
   "outputs": [
    {
     "name": "stdout",
     "output_type": "stream",
     "text": [
      "20\n"
     ]
    }
   ],
   "source": [
    "print(x)"
   ]
  },
  {
   "cell_type": "code",
   "execution_count": 27,
   "id": "c8c76d82",
   "metadata": {},
   "outputs": [
    {
     "data": {
      "text/plain": [
       "50"
      ]
     },
     "execution_count": 27,
     "metadata": {},
     "output_type": "execute_result"
    }
   ],
   "source": [
    "carpma(10)"
   ]
  },
  {
   "cell_type": "code",
   "execution_count": 28,
   "id": "01f57a7b",
   "metadata": {},
   "outputs": [
    {
     "name": "stdout",
     "output_type": "stream",
     "text": [
      "20\n"
     ]
    }
   ],
   "source": [
    "print(x)"
   ]
  },
  {
   "cell_type": "code",
   "execution_count": 29,
   "id": "02def4d2",
   "metadata": {},
   "outputs": [],
   "source": [
    "#  LEGB -> Local, Enclosing, Global, Built-in"
   ]
  },
  {
   "cell_type": "code",
   "execution_count": 30,
   "id": "853b31fd",
   "metadata": {},
   "outputs": [],
   "source": [
    "isim = \"Atıl\"\n",
    "\n",
    "def ornek_fonksiyon():\n",
    "    #enclosing\n",
    "    #isim = \"Atıl 2\"\n",
    "    print(isim)\n",
    "    \n",
    "    def ic_fonksiyon():\n",
    "        #local\n",
    "        #isim = \"Atıl 3\"\n",
    "        print(isim)\n",
    "\n",
    "    ic_fonksiyon()"
   ]
  },
  {
   "cell_type": "code",
   "execution_count": 31,
   "id": "bf8f4ca0",
   "metadata": {},
   "outputs": [
    {
     "name": "stdout",
     "output_type": "stream",
     "text": [
      "Atıl\n",
      "Atıl\n"
     ]
    }
   ],
   "source": [
    "ornek_fonksiyon()"
   ]
  },
  {
   "cell_type": "code",
   "execution_count": 32,
   "id": "5745a003",
   "metadata": {},
   "outputs": [],
   "source": [
    "x = 20\n",
    "def carpma(num):\n",
    "    x = 5\n",
    "    return num * x"
   ]
  },
  {
   "cell_type": "code",
   "execution_count": 33,
   "id": "8fa1a55f",
   "metadata": {},
   "outputs": [
    {
     "data": {
      "text/plain": [
       "50"
      ]
     },
     "execution_count": 33,
     "metadata": {},
     "output_type": "execute_result"
    }
   ],
   "source": [
    "carpma(10)"
   ]
  },
  {
   "cell_type": "code",
   "execution_count": 34,
   "id": "a6677994",
   "metadata": {},
   "outputs": [],
   "source": [
    "#def bolme(a):\n",
    "#    return a / y"
   ]
  },
  {
   "cell_type": "code",
   "execution_count": 35,
   "id": "a5e32f6a",
   "metadata": {},
   "outputs": [],
   "source": [
    "#bolme(20)"
   ]
  },
  {
   "cell_type": "code",
   "execution_count": 36,
   "id": "976df1d9",
   "metadata": {},
   "outputs": [],
   "source": [
    "# global değişkeni fonksiyon içinden de etkileyebiliriz"
   ]
  },
  {
   "cell_type": "code",
   "execution_count": 37,
   "id": "6de48ced",
   "metadata": {},
   "outputs": [],
   "source": [
    "y = 10\n",
    "def y_degissin():\n",
    "    global y\n",
    "    y = 5\n",
    "    return y * 5"
   ]
  },
  {
   "cell_type": "code",
   "execution_count": 38,
   "id": "373867ed",
   "metadata": {},
   "outputs": [
    {
     "data": {
      "text/plain": [
       "25"
      ]
     },
     "execution_count": 38,
     "metadata": {},
     "output_type": "execute_result"
    }
   ],
   "source": [
    "y_degissin()"
   ]
  },
  {
   "cell_type": "code",
   "execution_count": 39,
   "id": "c6ff4a78",
   "metadata": {},
   "outputs": [
    {
     "name": "stdout",
     "output_type": "stream",
     "text": [
      "5\n"
     ]
    }
   ],
   "source": [
    "print(y)"
   ]
  },
  {
   "cell_type": "code",
   "execution_count": null,
   "id": "327a50b7",
   "metadata": {},
   "outputs": [],
   "source": []
  }
 ],
 "metadata": {
  "kernelspec": {
   "display_name": "Python 3 (ipykernel)",
   "language": "python",
   "name": "python3"
  },
  "language_info": {
   "codemirror_mode": {
    "name": "ipython",
    "version": 3
   },
   "file_extension": ".py",
   "mimetype": "text/x-python",
   "name": "python",
   "nbconvert_exporter": "python",
   "pygments_lexer": "ipython3",
   "version": "3.10.9"
  }
 },
 "nbformat": 4,
 "nbformat_minor": 5
}
