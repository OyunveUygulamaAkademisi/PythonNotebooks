{
 "cells": [
  {
   "cell_type": "code",
   "execution_count": 1,
   "id": "5f02c491",
   "metadata": {},
   "outputs": [
    {
     "name": "stdout",
     "output_type": "stream",
     "text": [
      "yaşınızı giriniz: 390\n"
     ]
    }
   ],
   "source": [
    "kullanici_yasi = input(\"yaşınızı giriniz: \")"
   ]
  },
  {
   "cell_type": "code",
   "execution_count": 2,
   "id": "83e3a870",
   "metadata": {},
   "outputs": [
    {
     "data": {
      "text/plain": [
       "str"
      ]
     },
     "execution_count": 2,
     "metadata": {},
     "output_type": "execute_result"
    }
   ],
   "source": [
    "type(kullanici_yasi)"
   ]
  },
  {
   "cell_type": "code",
   "execution_count": 3,
   "id": "0f0cac53",
   "metadata": {},
   "outputs": [],
   "source": [
    "#int(kullanici_yasi) * 2"
   ]
  },
  {
   "cell_type": "code",
   "execution_count": 4,
   "id": "24fc9f3e",
   "metadata": {},
   "outputs": [],
   "source": [
    "#try - except"
   ]
  },
  {
   "cell_type": "code",
   "execution_count": 6,
   "id": "4d93330c",
   "metadata": {},
   "outputs": [
    {
     "name": "stdout",
     "output_type": "stream",
     "text": [
      "yaşınızı giriniz: fklsdf\n",
      "yaşınızı sayı olarak giriniz\n",
      "finally çalıştırıldı\n",
      "yaşınızı giriniz: 40\n",
      "80\n",
      "else çalıştırıldı\n",
      "finally çalıştırıldı\n"
     ]
    }
   ],
   "source": [
    "while True:\n",
    "    try:\n",
    "        yas = int(input(\"yaşınızı giriniz: \"))\n",
    "        print(yas * 2)\n",
    "        #break\n",
    "    except:\n",
    "        print(\"yaşınızı sayı olarak giriniz\")\n",
    "    else:\n",
    "        print(\"else çalıştırıldı\")\n",
    "        break\n",
    "    finally:\n",
    "        print(\"finally çalıştırıldı\")"
   ]
  },
  {
   "cell_type": "code",
   "execution_count": null,
   "id": "43bd58b3",
   "metadata": {},
   "outputs": [],
   "source": []
  }
 ],
 "metadata": {
  "kernelspec": {
   "display_name": "Python 3 (ipykernel)",
   "language": "python",
   "name": "python3"
  },
  "language_info": {
   "codemirror_mode": {
    "name": "ipython",
    "version": 3
   },
   "file_extension": ".py",
   "mimetype": "text/x-python",
   "name": "python",
   "nbconvert_exporter": "python",
   "pygments_lexer": "ipython3",
   "version": "3.10.9"
  }
 },
 "nbformat": 4,
 "nbformat_minor": 5
}
