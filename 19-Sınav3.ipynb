{
 "cells": [
  {
   "cell_type": "code",
   "execution_count": 1,
   "id": "118e2634",
   "metadata": {},
   "outputs": [],
   "source": [
    "#1) Aşağıdaki kodun çıktısı ne olacaktır?"
   ]
  },
  {
   "cell_type": "code",
   "execution_count": 2,
   "id": "b1123db8",
   "metadata": {},
   "outputs": [],
   "source": [
    "def cikarma(a,b):\n",
    "    print(a-b)"
   ]
  },
  {
   "cell_type": "code",
   "execution_count": 3,
   "id": "f8ddcb99",
   "metadata": {},
   "outputs": [
    {
     "data": {
      "text/plain": [
       "'\\nx = cikarma(3,4)\\nprint(x)\\n'"
      ]
     },
     "execution_count": 3,
     "metadata": {},
     "output_type": "execute_result"
    }
   ],
   "source": [
    "'''\n",
    "x = cikarma(3,4)\n",
    "print(x)\n",
    "'''"
   ]
  },
  {
   "cell_type": "code",
   "execution_count": 4,
   "id": "7b58c9fd",
   "metadata": {},
   "outputs": [],
   "source": [
    "#2) Aşağıdaki kodun çıktısı ne olacaktır?"
   ]
  },
  {
   "cell_type": "code",
   "execution_count": 5,
   "id": "f4d49496",
   "metadata": {},
   "outputs": [],
   "source": [
    "def ussunu_al(x=4,y=3):\n",
    "    print(x ** y)"
   ]
  },
  {
   "cell_type": "markdown",
   "id": "95881f41",
   "metadata": {},
   "source": [
    "ussunu_al(2,4)"
   ]
  },
  {
   "cell_type": "code",
   "execution_count": 6,
   "id": "8ed14d8c",
   "metadata": {},
   "outputs": [],
   "source": [
    "#3) Aynı fonksiyonu aşağıdaki gibi çağırırsak çıktı ne olur?"
   ]
  },
  {
   "cell_type": "markdown",
   "id": "f34e72e9",
   "metadata": {},
   "source": [
    "ussunu_al()"
   ]
  },
  {
   "cell_type": "code",
   "execution_count": 7,
   "id": "fc00645a",
   "metadata": {},
   "outputs": [],
   "source": [
    "#4) Aşağıdaki kodun çıktısı ne olacaktır?"
   ]
  },
  {
   "cell_type": "code",
   "execution_count": 8,
   "id": "3a074bc4",
   "metadata": {},
   "outputs": [],
   "source": [
    "def loop_yap(*args):\n",
    "    for eleman in args:\n",
    "        print(eleman / 2)"
   ]
  },
  {
   "cell_type": "markdown",
   "id": "e30a1551",
   "metadata": {},
   "source": [
    "loop_yap(3,2,1,5,3,4)"
   ]
  },
  {
   "cell_type": "code",
   "execution_count": 9,
   "id": "94d94706",
   "metadata": {},
   "outputs": [],
   "source": [
    "#5) Aşağıdaki dizide belirtilen rakamları, benim_fonksiyonum fonksiyonuna tabi tutup, yeni bir dizi oluşturunuz"
   ]
  },
  {
   "cell_type": "code",
   "execution_count": 10,
   "id": "15d1ad5c",
   "metadata": {},
   "outputs": [],
   "source": [
    "def benim_fonksiyonum(num):\n",
    "    return num ** 3"
   ]
  },
  {
   "cell_type": "code",
   "execution_count": 11,
   "id": "05b24ada",
   "metadata": {},
   "outputs": [],
   "source": [
    "benim_listem = [5,7,8,10,12]"
   ]
  },
  {
   "cell_type": "code",
   "execution_count": 12,
   "id": "b603f688",
   "metadata": {},
   "outputs": [],
   "source": [
    "#6) Aşağıdaki string dizisinde, içinde sadece ABC geçen barkodları gösterecek yeni bir liste oluşturunuz"
   ]
  },
  {
   "cell_type": "code",
   "execution_count": 13,
   "id": "e05d2808",
   "metadata": {},
   "outputs": [],
   "source": [
    "barkod_dizisi= [\"ABC231\",\"SA3123XYZ\",\"XYZA123Q\",\"QREABC1KJ\",\"X112QGL\"]"
   ]
  },
  {
   "cell_type": "code",
   "execution_count": 14,
   "id": "ca74a89c",
   "metadata": {},
   "outputs": [],
   "source": [
    "#7) Aşağıdaki kodu okursanız, ornek_fonksiyon çalıştırıldığında en altta yazdırılan print size neyi yazdıracaktır?"
   ]
  },
  {
   "cell_type": "code",
   "execution_count": 15,
   "id": "d7eba44a",
   "metadata": {},
   "outputs": [],
   "source": [
    "degisken = \"Atil Samancioglu\"\n",
    "\n",
    "def ornek_fonksiyon():\n",
    "    degisken = \"Atil\"\n",
    "    \n",
    "    def diger_fonksiyon():\n",
    "        print(degisken)\n",
    "    \n",
    "    diger_fonksiyon()"
   ]
  },
  {
   "cell_type": "code",
   "execution_count": 16,
   "id": "1b5be8e2",
   "metadata": {},
   "outputs": [],
   "source": [
    "#8) Aşağıda yazdırılan sınıfı incelediğinizde kopek.yasi_carp() kodunun çıktısı ne olacaktır?"
   ]
  },
  {
   "cell_type": "code",
   "execution_count": 17,
   "id": "4c5de8ce",
   "metadata": {},
   "outputs": [],
   "source": [
    "class Kopek():\n",
    "        \n",
    "    def __init__(self,isim,yas=3):\n",
    "        self.isim = isim\n",
    "        self.yas = yas\n",
    "    \n",
    "    def yasi_carp(self):\n",
    "        return self.yas * 4"
   ]
  },
  {
   "cell_type": "code",
   "execution_count": 18,
   "id": "457baa48",
   "metadata": {},
   "outputs": [],
   "source": [
    "kopek = Kopek(\"Barley\")"
   ]
  },
  {
   "cell_type": "markdown",
   "id": "545ff231",
   "metadata": {},
   "source": [
    "kopek.yasi_carp()"
   ]
  },
  {
   "cell_type": "code",
   "execution_count": 19,
   "id": "a00a7b6c",
   "metadata": {},
   "outputs": [],
   "source": [
    "#9) Aşağıdaki kodun (ogrenci.notu_goster()) çıktısı ne olacaktır?"
   ]
  },
  {
   "cell_type": "code",
   "execution_count": 20,
   "id": "1c21a852",
   "metadata": {},
   "outputs": [],
   "source": [
    "class Ogrenci():\n",
    "    \n",
    "    def __init__(self,isim,sinav_notu):\n",
    "        self.isim = isim\n",
    "        self.__sinav_notu = sinav_notu\n",
    "    \n",
    "    def notu_goster(self):\n",
    "        print(f\"{self.isim} sınav notu: {self.__sinav_notu}\")"
   ]
  },
  {
   "cell_type": "code",
   "execution_count": 21,
   "id": "5619538c",
   "metadata": {},
   "outputs": [],
   "source": [
    "ogrenci = Ogrenci(\"Atıl\",75)"
   ]
  },
  {
   "cell_type": "code",
   "execution_count": 22,
   "id": "b6625c8a",
   "metadata": {},
   "outputs": [],
   "source": [
    "ogrenci.__sinav_notu = 95"
   ]
  },
  {
   "cell_type": "code",
   "execution_count": 23,
   "id": "55df7b76",
   "metadata": {},
   "outputs": [],
   "source": [
    "#ogrenci.notu_goster()"
   ]
  },
  {
   "cell_type": "code",
   "execution_count": 24,
   "id": "2e12454b",
   "metadata": {},
   "outputs": [],
   "source": [
    "#10) Soyut sınıflar ve methodlar oluşturmamıza olanak tanıyan, kodlarımızı daha planlı şekilde yazmamızı\n",
    "# mümkün kılan aynı zamanda büyük projelerde bize yapısal olarak fayda sağlayabilecek OOP prensibinin adı nedir?"
   ]
  },
  {
   "cell_type": "code",
   "execution_count": null,
   "id": "6d32b92b",
   "metadata": {},
   "outputs": [],
   "source": []
  }
 ],
 "metadata": {
  "kernelspec": {
   "display_name": "Python 3 (ipykernel)",
   "language": "python",
   "name": "python3"
  },
  "language_info": {
   "codemirror_mode": {
    "name": "ipython",
    "version": 3
   },
   "file_extension": ".py",
   "mimetype": "text/x-python",
   "name": "python",
   "nbconvert_exporter": "python",
   "pygments_lexer": "ipython3",
   "version": "3.10.9"
  }
 },
 "nbformat": 4,
 "nbformat_minor": 5
}
