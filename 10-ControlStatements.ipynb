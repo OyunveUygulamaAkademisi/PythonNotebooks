{
 "cells": [
  {
   "cell_type": "code",
   "execution_count": 1,
   "id": "bf3dc7a4-adb0-4653-8d62-0b769c7034e0",
   "metadata": {},
   "outputs": [
    {
     "data": {
      "text/plain": [
       "True"
      ]
     },
     "execution_count": 1,
     "metadata": {},
     "output_type": "execute_result"
    }
   ],
   "source": [
    "3 > 2"
   ]
  },
  {
   "cell_type": "code",
   "execution_count": 2,
   "id": "408fabf5-4729-4dc6-9e81-d94326b01e87",
   "metadata": {},
   "outputs": [
    {
     "data": {
      "text/plain": [
       "True"
      ]
     },
     "execution_count": 2,
     "metadata": {},
     "output_type": "execute_result"
    }
   ],
   "source": [
    "4 < 5"
   ]
  },
  {
   "cell_type": "code",
   "execution_count": 3,
   "id": "11d3bdc5-6de1-43b5-8771-a43f4a389573",
   "metadata": {},
   "outputs": [
    {
     "data": {
      "text/plain": [
       "False"
      ]
     },
     "execution_count": 3,
     "metadata": {},
     "output_type": "execute_result"
    }
   ],
   "source": [
    "4 > 5"
   ]
  },
  {
   "cell_type": "code",
   "execution_count": 4,
   "id": "fcdbd303-428d-4c28-a136-413f48ea46aa",
   "metadata": {},
   "outputs": [],
   "source": [
    "# > -> büyüktür\n",
    "# < -> küçuktür\n",
    "# >= -> büyük eşittir\n",
    "# <= -> küçuk eşittir\n",
    "# == -> eşittir\n",
    "# != -> eşit değildir\n",
    "# and -> ve\n",
    "# or -> veya"
   ]
  },
  {
   "cell_type": "code",
   "execution_count": 5,
   "id": "df882b30-d1c6-488b-b37e-f5782955baad",
   "metadata": {},
   "outputs": [],
   "source": [
    "x = 5\n",
    "y = 4"
   ]
  },
  {
   "cell_type": "code",
   "execution_count": 6,
   "id": "8dc33c1d-0e54-4806-95f3-57e084ae0e6e",
   "metadata": {},
   "outputs": [
    {
     "data": {
      "text/plain": [
       "True"
      ]
     },
     "execution_count": 6,
     "metadata": {},
     "output_type": "execute_result"
    }
   ],
   "source": [
    "x > y"
   ]
  },
  {
   "cell_type": "code",
   "execution_count": 7,
   "id": "d61a3a05-b69a-4208-9925-679e2401e555",
   "metadata": {},
   "outputs": [
    {
     "data": {
      "text/plain": [
       "True"
      ]
     },
     "execution_count": 7,
     "metadata": {},
     "output_type": "execute_result"
    }
   ],
   "source": [
    "x >= y"
   ]
  },
  {
   "cell_type": "code",
   "execution_count": 8,
   "id": "66d53aaa-9f94-4b9f-afd1-4996b7334f79",
   "metadata": {},
   "outputs": [
    {
     "data": {
      "text/plain": [
       "False"
      ]
     },
     "execution_count": 8,
     "metadata": {},
     "output_type": "execute_result"
    }
   ],
   "source": [
    "x == y"
   ]
  },
  {
   "cell_type": "code",
   "execution_count": 9,
   "id": "2e8572b2-c836-46b2-a225-3a4f5631f0af",
   "metadata": {},
   "outputs": [
    {
     "data": {
      "text/plain": [
       "True"
      ]
     },
     "execution_count": 9,
     "metadata": {},
     "output_type": "execute_result"
    }
   ],
   "source": [
    "x != y"
   ]
  },
  {
   "cell_type": "code",
   "execution_count": 10,
   "id": "1e29c7af-3c36-47cf-b6c6-0d4493854aab",
   "metadata": {},
   "outputs": [
    {
     "data": {
      "text/plain": [
       "True"
      ]
     },
     "execution_count": 10,
     "metadata": {},
     "output_type": "execute_result"
    }
   ],
   "source": [
    "\"atıl\" == \"atıl\""
   ]
  },
  {
   "cell_type": "code",
   "execution_count": 11,
   "id": "f61150d8-187f-463f-901a-ced87a08f6e4",
   "metadata": {},
   "outputs": [
    {
     "data": {
      "text/plain": [
       "True"
      ]
     },
     "execution_count": 11,
     "metadata": {},
     "output_type": "execute_result"
    }
   ],
   "source": [
    "\"atıl\" != \"atlas\""
   ]
  },
  {
   "cell_type": "code",
   "execution_count": 12,
   "id": "3db4c387-26b9-4aa7-aaf5-d4ca7e41a152",
   "metadata": {},
   "outputs": [
    {
     "data": {
      "text/plain": [
       "True"
      ]
     },
     "execution_count": 12,
     "metadata": {},
     "output_type": "execute_result"
    }
   ],
   "source": [
    "3 > 2 and 4 > 3"
   ]
  },
  {
   "cell_type": "code",
   "execution_count": 13,
   "id": "b421bc3a-a4df-4bb6-89bf-71193dc66ec4",
   "metadata": {},
   "outputs": [
    {
     "data": {
      "text/plain": [
       "False"
      ]
     },
     "execution_count": 13,
     "metadata": {},
     "output_type": "execute_result"
    }
   ],
   "source": [
    "3 < 2 and 4 > 3"
   ]
  },
  {
   "cell_type": "code",
   "execution_count": 14,
   "id": "552f814b-e892-4e62-8696-1e282cdc175e",
   "metadata": {},
   "outputs": [
    {
     "data": {
      "text/plain": [
       "True"
      ]
     },
     "execution_count": 14,
     "metadata": {},
     "output_type": "execute_result"
    }
   ],
   "source": [
    "3 < 2 or 4 > 3"
   ]
  },
  {
   "cell_type": "code",
   "execution_count": 15,
   "id": "fb49a861-87a4-4c82-b9e6-784ff18edfac",
   "metadata": {},
   "outputs": [],
   "source": [
    "# not -> not keyword'ü olumsuzluk belirtir"
   ]
  },
  {
   "cell_type": "code",
   "execution_count": 17,
   "id": "ad3f5e24-0577-42b6-9eab-76296863890c",
   "metadata": {},
   "outputs": [
    {
     "data": {
      "text/plain": [
       "False"
      ]
     },
     "execution_count": 17,
     "metadata": {},
     "output_type": "execute_result"
    }
   ],
   "source": [
    "not 1 == 1"
   ]
  },
  {
   "cell_type": "code",
   "execution_count": 18,
   "id": "d1bfcd05-1a35-44aa-ad24-4815792b1ab5",
   "metadata": {},
   "outputs": [
    {
     "data": {
      "text/plain": [
       "True"
      ]
     },
     "execution_count": 18,
     "metadata": {},
     "output_type": "execute_result"
    }
   ],
   "source": [
    "10 in [10,20,30]"
   ]
  },
  {
   "cell_type": "code",
   "execution_count": 19,
   "id": "81501eef-34f5-451d-9154-684f383cb6b3",
   "metadata": {},
   "outputs": [
    {
     "data": {
      "text/plain": [
       "False"
      ]
     },
     "execution_count": 19,
     "metadata": {},
     "output_type": "execute_result"
    }
   ],
   "source": [
    "15 in [10,20,30]"
   ]
  },
  {
   "cell_type": "code",
   "execution_count": 20,
   "id": "03fc1c48-5b84-47ef-9434-d82f608b8010",
   "metadata": {},
   "outputs": [
    {
     "data": {
      "text/plain": [
       "False"
      ]
     },
     "execution_count": 20,
     "metadata": {},
     "output_type": "execute_result"
    }
   ],
   "source": [
    "10 not in [10,20,30]"
   ]
  },
  {
   "cell_type": "code",
   "execution_count": 21,
   "id": "2943e3ba-b863-4d23-a562-719e8bfc6c65",
   "metadata": {},
   "outputs": [
    {
     "data": {
      "text/plain": [
       "True"
      ]
     },
     "execution_count": 21,
     "metadata": {},
     "output_type": "execute_result"
    }
   ],
   "source": [
    "15 not in [10,20,30]"
   ]
  },
  {
   "cell_type": "code",
   "execution_count": 22,
   "id": "413ee71e-ebd0-4582-8cc6-65e4499926a3",
   "metadata": {},
   "outputs": [
    {
     "data": {
      "text/plain": [
       "True"
      ]
     },
     "execution_count": 22,
     "metadata": {},
     "output_type": "execute_result"
    }
   ],
   "source": [
    "10 in {10,20,30}"
   ]
  },
  {
   "cell_type": "code",
   "execution_count": 23,
   "id": "d7c0f608-e79b-46ee-b7fb-d27f738c6b6d",
   "metadata": {},
   "outputs": [
    {
     "data": {
      "text/plain": [
       "True"
      ]
     },
     "execution_count": 23,
     "metadata": {},
     "output_type": "execute_result"
    }
   ],
   "source": [
    "10 in (10,20,30,40)"
   ]
  },
  {
   "cell_type": "code",
   "execution_count": 24,
   "id": "bd96abe6-05fe-4545-a233-a5a00f072ef3",
   "metadata": {},
   "outputs": [],
   "source": [
    "ornek_sozluk = {\"a\":10, \"b\":20, \"c\":30}"
   ]
  },
  {
   "cell_type": "code",
   "execution_count": 26,
   "id": "08eb455d-418c-4947-99e1-ed4938a60f11",
   "metadata": {},
   "outputs": [
    {
     "data": {
      "text/plain": [
       "True"
      ]
     },
     "execution_count": 26,
     "metadata": {},
     "output_type": "execute_result"
    }
   ],
   "source": [
    "\"a\" in ornek_sozluk"
   ]
  },
  {
   "cell_type": "code",
   "execution_count": 28,
   "id": "cd6e3ba8-f8c4-4c9e-8730-15600b3b4576",
   "metadata": {},
   "outputs": [
    {
     "data": {
      "text/plain": [
       "True"
      ]
     },
     "execution_count": 28,
     "metadata": {},
     "output_type": "execute_result"
    }
   ],
   "source": [
    "\"b\" in ornek_sozluk.keys()"
   ]
  },
  {
   "cell_type": "code",
   "execution_count": 29,
   "id": "00ec244a-29e0-4cfb-816b-e249e7543b91",
   "metadata": {},
   "outputs": [
    {
     "data": {
      "text/plain": [
       "True"
      ]
     },
     "execution_count": 29,
     "metadata": {},
     "output_type": "execute_result"
    }
   ],
   "source": [
    "30 in ornek_sozluk.values()"
   ]
  },
  {
   "cell_type": "code",
   "execution_count": 31,
   "id": "2d74c7ba-483e-4400-87e9-4231bb610b97",
   "metadata": {},
   "outputs": [],
   "source": [
    "# if controls, indentation"
   ]
  },
  {
   "cell_type": "code",
   "execution_count": 43,
   "id": "2b3bb515-2e17-4886-b225-6c343fcd48f3",
   "metadata": {},
   "outputs": [],
   "source": [
    "sinav_sonucu = 90"
   ]
  },
  {
   "cell_type": "code",
   "execution_count": 44,
   "id": "dd666788-b444-4fd5-8260-7054b1fc28f9",
   "metadata": {},
   "outputs": [
    {
     "name": "stdout",
     "output_type": "stream",
     "text": [
      "sınav sonucun gayet iyi\n",
      "burada çalıştırılacak kodların if ile hiç bir ilgisi bulunmamakta\n"
     ]
    }
   ],
   "source": [
    "if sinav_sonucu < 40:\n",
    "    print(\"sınıfta kaldınız\")\n",
    "    print(\"bu satırlar sadece sinav_sonucu 40'tan düşükse çalıştırılacak\")\n",
    "elif sinav_sonucu >= 40 and sinav_sonucu < 60:\n",
    "    print(\"sınav sonucun 40-60 arasında, düşük bir sonuç almışsın\")\n",
    "elif sinav_sonucu >= 60 and sinav_sonucu < 80:\n",
    "    print(\"sınav sonucun ortalama ve üstünde, iyi denilebilir\")\n",
    "else:\n",
    "    print(\"sınav sonucun gayet iyi\")\n",
    "\n",
    "print(\"burada çalıştırılacak kodların if ile hiç bir ilgisi bulunmamakta\")"
   ]
  },
  {
   "cell_type": "code",
   "execution_count": 47,
   "id": "8f9a0612-f426-4ead-8554-c3a02be2d2d6",
   "metadata": {},
   "outputs": [],
   "source": [
    "isim = \"atlas\""
   ]
  },
  {
   "cell_type": "code",
   "execution_count": 48,
   "id": "83e3e8c5-c3ac-4d38-b481-507537bb85cf",
   "metadata": {},
   "outputs": [
    {
     "name": "stdout",
     "output_type": "stream",
     "text": [
      "isminiz atıl değilmiş\n"
     ]
    }
   ],
   "source": [
    "if isim == \"atıl\":\n",
    "    print(\"tebrikler isminiz atıl\")\n",
    "else:\n",
    "    print(\"isminiz atıl değilmiş\")"
   ]
  },
  {
   "cell_type": "code",
   "execution_count": null,
   "id": "15ce86ea-2acd-44a6-b6ae-b4c72cc9baf3",
   "metadata": {},
   "outputs": [],
   "source": []
  }
 ],
 "metadata": {
  "kernelspec": {
   "display_name": "Python 3 (ipykernel)",
   "language": "python",
   "name": "python3"
  },
  "language_info": {
   "codemirror_mode": {
    "name": "ipython",
    "version": 3
   },
   "file_extension": ".py",
   "mimetype": "text/x-python",
   "name": "python",
   "nbconvert_exporter": "python",
   "pygments_lexer": "ipython3",
   "version": "3.12.7"
  }
 },
 "nbformat": 4,
 "nbformat_minor": 5
}
