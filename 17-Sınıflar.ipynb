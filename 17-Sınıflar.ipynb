{
 "cells": [
  {
   "cell_type": "code",
   "execution_count": 1,
   "id": "f0e92ddc",
   "metadata": {},
   "outputs": [],
   "source": [
    "kullanici_isim = \"atıl\""
   ]
  },
  {
   "cell_type": "code",
   "execution_count": 2,
   "id": "20e72ec7",
   "metadata": {},
   "outputs": [],
   "source": [
    "kullanici_yas = 70"
   ]
  },
  {
   "cell_type": "code",
   "execution_count": 3,
   "id": "27b1fc73",
   "metadata": {},
   "outputs": [],
   "source": [
    "kullanici_cinsiyet = \"erkek\""
   ]
  },
  {
   "cell_type": "code",
   "execution_count": 4,
   "id": "9c04423c",
   "metadata": {},
   "outputs": [],
   "source": [
    "class Kullanici:\n",
    "    isim = \"\"\n",
    "    yas = 0\n",
    "    cinsiyet = \"\""
   ]
  },
  {
   "cell_type": "code",
   "execution_count": 5,
   "id": "8787ab5b",
   "metadata": {},
   "outputs": [],
   "source": [
    "atil = Kullanici()"
   ]
  },
  {
   "cell_type": "code",
   "execution_count": 6,
   "id": "b8d7a7f4",
   "metadata": {},
   "outputs": [],
   "source": [
    "zeynep = Kullanici()"
   ]
  },
  {
   "cell_type": "code",
   "execution_count": 8,
   "id": "d3fcf97a",
   "metadata": {},
   "outputs": [],
   "source": [
    "atil.cinsiyet = \"erkek\""
   ]
  },
  {
   "cell_type": "code",
   "execution_count": 9,
   "id": "3be5c937",
   "metadata": {},
   "outputs": [
    {
     "data": {
      "text/plain": [
       "'erkek'"
      ]
     },
     "execution_count": 9,
     "metadata": {},
     "output_type": "execute_result"
    }
   ],
   "source": [
    "atil.cinsiyet"
   ]
  },
  {
   "cell_type": "code",
   "execution_count": 11,
   "id": "b429af17",
   "metadata": {},
   "outputs": [],
   "source": [
    "zeynep.cinsiyet = \"kadın\""
   ]
  },
  {
   "cell_type": "code",
   "execution_count": 12,
   "id": "8757a300",
   "metadata": {},
   "outputs": [
    {
     "data": {
      "text/plain": [
       "'kadın'"
      ]
     },
     "execution_count": 12,
     "metadata": {},
     "output_type": "execute_result"
    }
   ],
   "source": [
    "zeynep.cinsiyet"
   ]
  },
  {
   "cell_type": "code",
   "execution_count": 39,
   "id": "6004a6f2",
   "metadata": {},
   "outputs": [],
   "source": [
    "class Kullanici:\n",
    "    \n",
    "    meslek = \"\"\n",
    "    \n",
    "    def __init__(self, isim, yas, cinsiyet):\n",
    "        self.isim = isim\n",
    "        self.yas = yas\n",
    "        self.cinsiyet = cinsiyet\n",
    "        \n",
    "    def ismi_yazdir(self):\n",
    "        print(self.isim)"
   ]
  },
  {
   "cell_type": "code",
   "execution_count": 40,
   "id": "b3f67ca4",
   "metadata": {},
   "outputs": [],
   "source": [
    "atil = Kullanici(\"atıl\", 50, \"erkek\")"
   ]
  },
  {
   "cell_type": "code",
   "execution_count": 41,
   "id": "cb525a04",
   "metadata": {},
   "outputs": [
    {
     "name": "stdout",
     "output_type": "stream",
     "text": [
      "atıl\n"
     ]
    }
   ],
   "source": [
    "atil.ismi_yazdir()"
   ]
  },
  {
   "cell_type": "code",
   "execution_count": 42,
   "id": "0dc5f02e",
   "metadata": {},
   "outputs": [
    {
     "data": {
      "text/plain": [
       "'atıl'"
      ]
     },
     "execution_count": 42,
     "metadata": {},
     "output_type": "execute_result"
    }
   ],
   "source": [
    "atil.isim"
   ]
  },
  {
   "cell_type": "code",
   "execution_count": 43,
   "id": "0afbd49c",
   "metadata": {},
   "outputs": [
    {
     "data": {
      "text/plain": [
       "50"
      ]
     },
     "execution_count": 43,
     "metadata": {},
     "output_type": "execute_result"
    }
   ],
   "source": [
    "atil.yas"
   ]
  },
  {
   "cell_type": "code",
   "execution_count": 45,
   "id": "944e9e66",
   "metadata": {},
   "outputs": [],
   "source": [
    "atil.meslek = \"yazılımcı\""
   ]
  },
  {
   "cell_type": "code",
   "execution_count": 46,
   "id": "6ab8c108",
   "metadata": {},
   "outputs": [
    {
     "data": {
      "text/plain": [
       "'yazılımcı'"
      ]
     },
     "execution_count": 46,
     "metadata": {},
     "output_type": "execute_result"
    }
   ],
   "source": [
    "atil.meslek"
   ]
  },
  {
   "cell_type": "code",
   "execution_count": 67,
   "id": "94efc71e",
   "metadata": {},
   "outputs": [],
   "source": [
    "class Kopek():\n",
    "    \n",
    "    tuy_rengi = \"sarı\"\n",
    "    \n",
    "    def __init__(self, isim, yas=0):\n",
    "        self.isim = isim\n",
    "        self.yas = yas\n",
    "        self.insan_yasi = self.yas * 7\n",
    "        \n",
    "    def tuy_rengini_yazdir(self):\n",
    "        print(Kopek.tuy_rengi) # -> Kopek.tuy_rengi -> self.tuy_rengi"
   ]
  },
  {
   "cell_type": "code",
   "execution_count": 68,
   "id": "ef52b622",
   "metadata": {},
   "outputs": [],
   "source": [
    "barley = Kopek(\"Barley\", 7)"
   ]
  },
  {
   "cell_type": "code",
   "execution_count": 69,
   "id": "91a59ed3",
   "metadata": {},
   "outputs": [
    {
     "data": {
      "text/plain": [
       "7"
      ]
     },
     "execution_count": 69,
     "metadata": {},
     "output_type": "execute_result"
    }
   ],
   "source": [
    "barley.yas"
   ]
  },
  {
   "cell_type": "code",
   "execution_count": 70,
   "id": "a41ac278",
   "metadata": {},
   "outputs": [
    {
     "data": {
      "text/plain": [
       "49"
      ]
     },
     "execution_count": 70,
     "metadata": {},
     "output_type": "execute_result"
    }
   ],
   "source": [
    "barley.insan_yasi"
   ]
  },
  {
   "cell_type": "code",
   "execution_count": 71,
   "id": "e96d7e82",
   "metadata": {},
   "outputs": [
    {
     "name": "stdout",
     "output_type": "stream",
     "text": [
      "sarı\n"
     ]
    }
   ],
   "source": [
    "barley.tuy_rengini_yazdir()"
   ]
  },
  {
   "cell_type": "code",
   "execution_count": 72,
   "id": "fe24cde9",
   "metadata": {},
   "outputs": [
    {
     "data": {
      "text/plain": [
       "__main__.Kopek"
      ]
     },
     "execution_count": 72,
     "metadata": {},
     "output_type": "execute_result"
    }
   ],
   "source": [
    "type(barley)"
   ]
  },
  {
   "cell_type": "code",
   "execution_count": 73,
   "id": "f1aed593",
   "metadata": {},
   "outputs": [
    {
     "data": {
      "text/plain": [
       "__main__.Kullanici"
      ]
     },
     "execution_count": 73,
     "metadata": {},
     "output_type": "execute_result"
    }
   ],
   "source": [
    "type(atil)"
   ]
  },
  {
   "cell_type": "code",
   "execution_count": null,
   "id": "369099de",
   "metadata": {},
   "outputs": [],
   "source": []
  }
 ],
 "metadata": {
  "kernelspec": {
   "display_name": "Python 3 (ipykernel)",
   "language": "python",
   "name": "python3"
  },
  "language_info": {
   "codemirror_mode": {
    "name": "ipython",
    "version": 3
   },
   "file_extension": ".py",
   "mimetype": "text/x-python",
   "name": "python",
   "nbconvert_exporter": "python",
   "pygments_lexer": "ipython3",
   "version": "3.10.9"
  }
 },
 "nbformat": 4,
 "nbformat_minor": 5
}
