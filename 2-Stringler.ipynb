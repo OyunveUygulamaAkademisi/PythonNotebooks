{
 "cells": [
  {
   "cell_type": "code",
   "execution_count": 1,
   "id": "df4c1977-f96e-4b52-97d8-b1b64574262b",
   "metadata": {},
   "outputs": [],
   "source": [
    "# str - string -> metinler"
   ]
  },
  {
   "cell_type": "code",
   "execution_count": 3,
   "id": "bcbf4885-e1a4-46fe-af13-149084581815",
   "metadata": {},
   "outputs": [],
   "source": [
    "isim = \"atıl samancıoğlu\""
   ]
  },
  {
   "cell_type": "code",
   "execution_count": 4,
   "id": "8ed08b33-b18d-4738-9e12-b18be8cad222",
   "metadata": {},
   "outputs": [
    {
     "data": {
      "text/plain": [
       "str"
      ]
     },
     "execution_count": 4,
     "metadata": {},
     "output_type": "execute_result"
    }
   ],
   "source": [
    "type(isim)"
   ]
  },
  {
   "cell_type": "code",
   "execution_count": 5,
   "id": "98da05c3-284c-4fcc-8f97-6418b3312e92",
   "metadata": {},
   "outputs": [],
   "source": [
    "isim = \"atıl\""
   ]
  },
  {
   "cell_type": "code",
   "execution_count": 6,
   "id": "d8128346-abf7-43b3-85e4-f38bc605631f",
   "metadata": {},
   "outputs": [],
   "source": [
    "soyisim = \"samancıoğlu\""
   ]
  },
  {
   "cell_type": "code",
   "execution_count": 7,
   "id": "487857d5-a25c-4c3e-93c5-e7e460662e57",
   "metadata": {},
   "outputs": [
    {
     "data": {
      "text/plain": [
       "'Atıl'"
      ]
     },
     "execution_count": 7,
     "metadata": {},
     "output_type": "execute_result"
    }
   ],
   "source": [
    "isim.capitalize()"
   ]
  },
  {
   "cell_type": "code",
   "execution_count": 8,
   "id": "8615ff33-740a-4733-ab72-38f46234b5cb",
   "metadata": {},
   "outputs": [
    {
     "data": {
      "text/plain": [
       "'ATIL'"
      ]
     },
     "execution_count": 8,
     "metadata": {},
     "output_type": "execute_result"
    }
   ],
   "source": [
    "isim.upper()"
   ]
  },
  {
   "cell_type": "code",
   "execution_count": 9,
   "id": "50ff0a32-12cc-4230-9389-4b0af38c42e3",
   "metadata": {},
   "outputs": [],
   "source": [
    "x = 10"
   ]
  },
  {
   "cell_type": "code",
   "execution_count": 10,
   "id": "18a8b088-6639-4d38-9589-b4e6cdb07859",
   "metadata": {},
   "outputs": [
    {
     "data": {
      "text/plain": [
       "int"
      ]
     },
     "execution_count": 10,
     "metadata": {},
     "output_type": "execute_result"
    }
   ],
   "source": [
    "type(x)"
   ]
  },
  {
   "cell_type": "code",
   "execution_count": null,
   "id": "37ac8ab2-78d6-447b-b4cd-35bdb99849fe",
   "metadata": {},
   "outputs": [],
   "source": []
  }
 ],
 "metadata": {
  "kernelspec": {
   "display_name": "Python 3 (ipykernel)",
   "language": "python",
   "name": "python3"
  },
  "language_info": {
   "codemirror_mode": {
    "name": "ipython",
    "version": 3
   },
   "file_extension": ".py",
   "mimetype": "text/x-python",
   "name": "python",
   "nbconvert_exporter": "python",
   "pygments_lexer": "ipython3",
   "version": "3.12.7"
  }
 },
 "nbformat": 4,
 "nbformat_minor": 5
}
