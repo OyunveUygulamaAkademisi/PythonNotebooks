{
 "cells": [
  {
   "cell_type": "code",
   "execution_count": 1,
   "id": "df4c1977-f96e-4b52-97d8-b1b64574262b",
   "metadata": {},
   "outputs": [],
   "source": [
    "# str - string -> metinler"
   ]
  },
  {
   "cell_type": "code",
   "execution_count": 2,
   "id": "bcbf4885-e1a4-46fe-af13-149084581815",
   "metadata": {},
   "outputs": [],
   "source": [
    "isim = \"atıl samancıoğlu\""
   ]
  },
  {
   "cell_type": "code",
   "execution_count": 3,
   "id": "8ed08b33-b18d-4738-9e12-b18be8cad222",
   "metadata": {},
   "outputs": [
    {
     "data": {
      "text/plain": [
       "str"
      ]
     },
     "execution_count": 3,
     "metadata": {},
     "output_type": "execute_result"
    }
   ],
   "source": [
    "type(isim)"
   ]
  },
  {
   "cell_type": "code",
   "execution_count": 4,
   "id": "98da05c3-284c-4fcc-8f97-6418b3312e92",
   "metadata": {},
   "outputs": [],
   "source": [
    "isim = \"atıl\""
   ]
  },
  {
   "cell_type": "code",
   "execution_count": 5,
   "id": "d8128346-abf7-43b3-85e4-f38bc605631f",
   "metadata": {},
   "outputs": [],
   "source": [
    "soyisim = \"samancıoğlu\""
   ]
  },
  {
   "cell_type": "code",
   "execution_count": 6,
   "id": "487857d5-a25c-4c3e-93c5-e7e460662e57",
   "metadata": {},
   "outputs": [
    {
     "data": {
      "text/plain": [
       "'Atıl'"
      ]
     },
     "execution_count": 6,
     "metadata": {},
     "output_type": "execute_result"
    }
   ],
   "source": [
    "isim.capitalize()"
   ]
  },
  {
   "cell_type": "code",
   "execution_count": 7,
   "id": "8615ff33-740a-4733-ab72-38f46234b5cb",
   "metadata": {},
   "outputs": [
    {
     "data": {
      "text/plain": [
       "'ATIL'"
      ]
     },
     "execution_count": 7,
     "metadata": {},
     "output_type": "execute_result"
    }
   ],
   "source": [
    "isim.upper()"
   ]
  },
  {
   "cell_type": "code",
   "execution_count": 8,
   "id": "50ff0a32-12cc-4230-9389-4b0af38c42e3",
   "metadata": {},
   "outputs": [],
   "source": [
    "x = 10"
   ]
  },
  {
   "cell_type": "code",
   "execution_count": 9,
   "id": "18a8b088-6639-4d38-9589-b4e6cdb07859",
   "metadata": {},
   "outputs": [
    {
     "data": {
      "text/plain": [
       "int"
      ]
     },
     "execution_count": 9,
     "metadata": {},
     "output_type": "execute_result"
    }
   ],
   "source": [
    "type(x)"
   ]
  },
  {
   "cell_type": "code",
   "execution_count": 10,
   "id": "37ac8ab2-78d6-447b-b4cd-35bdb99849fe",
   "metadata": {},
   "outputs": [
    {
     "data": {
      "text/plain": [
       "'atılsamancıoğlu'"
      ]
     },
     "execution_count": 10,
     "metadata": {},
     "output_type": "execute_result"
    }
   ],
   "source": [
    "isim + soyisim"
   ]
  },
  {
   "cell_type": "code",
   "execution_count": 13,
   "id": "ced5000b-d421-4e22-aa60-7bc7cb8c83ee",
   "metadata": {},
   "outputs": [],
   "source": [
    "tam_isim = isim + \" \" + soyisim"
   ]
  },
  {
   "cell_type": "code",
   "execution_count": 14,
   "id": "6fcdcfb1-9693-4528-92c0-4f01733b7d1b",
   "metadata": {},
   "outputs": [
    {
     "data": {
      "text/plain": [
       "'atıl samancıoğlu'"
      ]
     },
     "execution_count": 14,
     "metadata": {},
     "output_type": "execute_result"
    }
   ],
   "source": [
    "tam_isim"
   ]
  },
  {
   "cell_type": "code",
   "execution_count": 15,
   "id": "c42a3a32-c5ee-4173-94f7-ebd2edb353dd",
   "metadata": {},
   "outputs": [
    {
     "data": {
      "text/plain": [
       "'atılatılatılatılatıl'"
      ]
     },
     "execution_count": 15,
     "metadata": {},
     "output_type": "execute_result"
    }
   ],
   "source": [
    "isim * 5"
   ]
  },
  {
   "cell_type": "code",
   "execution_count": 19,
   "id": "d1f70beb-c1f0-47a2-8f52-b9fc207d47bb",
   "metadata": {},
   "outputs": [
    {
     "data": {
      "text/plain": [
       "'ATIL'"
      ]
     },
     "execution_count": 19,
     "metadata": {},
     "output_type": "execute_result"
    }
   ],
   "source": [
    "isim.upper()"
   ]
  },
  {
   "cell_type": "code",
   "execution_count": 20,
   "id": "2b74d42e-2bb9-41e1-b59a-1f31ee74ee08",
   "metadata": {},
   "outputs": [
    {
     "name": "stdout",
     "output_type": "stream",
     "text": [
      "Help on built-in function count:\n",
      "\n",
      "count(...) method of builtins.str instance\n",
      "    S.count(sub[, start[, end]]) -> int\n",
      "\n",
      "    Return the number of non-overlapping occurrences of substring sub in\n",
      "    string S[start:end].  Optional arguments start and end are\n",
      "    interpreted as in slice notation.\n",
      "\n"
     ]
    }
   ],
   "source": [
    "help(isim.count)"
   ]
  },
  {
   "cell_type": "code",
   "execution_count": 21,
   "id": "9dad902e-357c-4fdd-b477-2ac7fc66bde2",
   "metadata": {},
   "outputs": [
    {
     "data": {
      "text/plain": [
       "1"
      ]
     },
     "execution_count": 21,
     "metadata": {},
     "output_type": "execute_result"
    }
   ],
   "source": [
    "isim.count(\"a\")"
   ]
  },
  {
   "cell_type": "code",
   "execution_count": 22,
   "id": "5bfd42de-702b-49f2-92d8-27be5ca119f5",
   "metadata": {},
   "outputs": [
    {
     "data": {
      "text/plain": [
       "0"
      ]
     },
     "execution_count": 22,
     "metadata": {},
     "output_type": "execute_result"
    }
   ],
   "source": [
    "isim.count(\"ğ\")"
   ]
  },
  {
   "cell_type": "code",
   "execution_count": 23,
   "id": "b36a7f39-e2aa-4e82-9dd4-263e3de957e7",
   "metadata": {},
   "outputs": [
    {
     "data": {
      "text/plain": [
       "True"
      ]
     },
     "execution_count": 23,
     "metadata": {},
     "output_type": "execute_result"
    }
   ],
   "source": [
    "isim.islower()"
   ]
  },
  {
   "cell_type": "code",
   "execution_count": 24,
   "id": "7b117947-6fd0-4642-b7b3-bf51c1dd5a25",
   "metadata": {},
   "outputs": [
    {
     "data": {
      "text/plain": [
       "'atıl'"
      ]
     },
     "execution_count": 24,
     "metadata": {},
     "output_type": "execute_result"
    }
   ],
   "source": [
    "isim"
   ]
  },
  {
   "cell_type": "code",
   "execution_count": 25,
   "id": "4e12be87-1ab5-4662-bc04-78a8e823a6c9",
   "metadata": {},
   "outputs": [
    {
     "data": {
      "text/plain": [
       "'ATIL'"
      ]
     },
     "execution_count": 25,
     "metadata": {},
     "output_type": "execute_result"
    }
   ],
   "source": [
    "isim.upper()"
   ]
  },
  {
   "cell_type": "code",
   "execution_count": 26,
   "id": "42eaa762-3ed2-47f0-a968-884dafdee779",
   "metadata": {},
   "outputs": [
    {
     "data": {
      "text/plain": [
       "'atıl'"
      ]
     },
     "execution_count": 26,
     "metadata": {},
     "output_type": "execute_result"
    }
   ],
   "source": [
    "isim"
   ]
  },
  {
   "cell_type": "code",
   "execution_count": 27,
   "id": "1722ac7a-e709-47f5-b75d-5165bcb7ceca",
   "metadata": {},
   "outputs": [],
   "source": [
    "isim_buyuk_harf = isim.upper()"
   ]
  },
  {
   "cell_type": "code",
   "execution_count": 28,
   "id": "39dc0e86-65f2-4a98-86e0-d10b09f18ed3",
   "metadata": {},
   "outputs": [
    {
     "data": {
      "text/plain": [
       "'atıl'"
      ]
     },
     "execution_count": 28,
     "metadata": {},
     "output_type": "execute_result"
    }
   ],
   "source": [
    "isim"
   ]
  },
  {
   "cell_type": "code",
   "execution_count": 29,
   "id": "c826c3ff-01e7-49f1-8c29-0f6ec01f66d7",
   "metadata": {},
   "outputs": [
    {
     "data": {
      "text/plain": [
       "'ATIL'"
      ]
     },
     "execution_count": 29,
     "metadata": {},
     "output_type": "execute_result"
    }
   ],
   "source": [
    "isim_buyuk_harf"
   ]
  },
  {
   "cell_type": "code",
   "execution_count": 31,
   "id": "236335dd-e877-4bef-8d26-e450e090f705",
   "metadata": {},
   "outputs": [
    {
     "data": {
      "text/plain": [
       "0"
      ]
     },
     "execution_count": 31,
     "metadata": {},
     "output_type": "execute_result"
    }
   ],
   "source": [
    "isim.count(\"o\")"
   ]
  },
  {
   "cell_type": "code",
   "execution_count": 32,
   "id": "b3dcc57e-ca2f-43c4-840c-b2e513087ed4",
   "metadata": {},
   "outputs": [
    {
     "name": "stdout",
     "output_type": "stream",
     "text": [
      "Help on built-in function endswith:\n",
      "\n",
      "endswith(...) method of builtins.str instance\n",
      "    S.endswith(suffix[, start[, end]]) -> bool\n",
      "\n",
      "    Return True if S ends with the specified suffix, False otherwise.\n",
      "    With optional start, test S beginning at that position.\n",
      "    With optional end, stop comparing S at that position.\n",
      "    suffix can also be a tuple of strings to try.\n",
      "\n"
     ]
    }
   ],
   "source": [
    "help(isim.endswith)"
   ]
  },
  {
   "cell_type": "code",
   "execution_count": 33,
   "id": "8dc72c45-fbfb-4d28-93a7-a2db6f0ee331",
   "metadata": {},
   "outputs": [
    {
     "data": {
      "text/plain": [
       "True"
      ]
     },
     "execution_count": 33,
     "metadata": {},
     "output_type": "execute_result"
    }
   ],
   "source": [
    "isim.endswith(\"ıl\")"
   ]
  },
  {
   "cell_type": "code",
   "execution_count": 34,
   "id": "8c8556a2-467d-4b0a-ba36-dc5982f7e78b",
   "metadata": {},
   "outputs": [
    {
     "data": {
      "text/plain": [
       "False"
      ]
     },
     "execution_count": 34,
     "metadata": {},
     "output_type": "execute_result"
    }
   ],
   "source": [
    "isim.endswith(\"ğ\")"
   ]
  },
  {
   "cell_type": "code",
   "execution_count": 35,
   "id": "91af7ca1-499b-4b08-9659-9b7e1a39f69d",
   "metadata": {},
   "outputs": [],
   "source": [
    "#index"
   ]
  },
  {
   "cell_type": "code",
   "execution_count": 36,
   "id": "49519819-b99a-4a20-a715-715941bfbd77",
   "metadata": {},
   "outputs": [],
   "source": [
    "isim = \"atıl samancıoğlu\""
   ]
  },
  {
   "cell_type": "code",
   "execution_count": 40,
   "id": "a27fd085-53c0-42e4-b3c1-d680418b82e8",
   "metadata": {},
   "outputs": [
    {
     "data": {
      "text/plain": [
       "'l'"
      ]
     },
     "execution_count": 40,
     "metadata": {},
     "output_type": "execute_result"
    }
   ],
   "source": [
    "isim[3]"
   ]
  },
  {
   "cell_type": "code",
   "execution_count": 41,
   "id": "53e811ce-bf8e-4153-8da2-7d2e36a8cc67",
   "metadata": {},
   "outputs": [
    {
     "data": {
      "text/plain": [
       "'n'"
      ]
     },
     "execution_count": 41,
     "metadata": {},
     "output_type": "execute_result"
    }
   ],
   "source": [
    "isim[9]"
   ]
  },
  {
   "cell_type": "code",
   "execution_count": 43,
   "id": "e0abe975-c3d3-497a-921b-8c254ebc4b2c",
   "metadata": {},
   "outputs": [
    {
     "data": {
      "text/plain": [
       "'a'"
      ]
     },
     "execution_count": 43,
     "metadata": {},
     "output_type": "execute_result"
    }
   ],
   "source": [
    "isim[0]"
   ]
  },
  {
   "cell_type": "code",
   "execution_count": 45,
   "id": "c75b5890-aa8d-469b-8faf-0cd38c3fa0b4",
   "metadata": {},
   "outputs": [
    {
     "data": {
      "text/plain": [
       "15"
      ]
     },
     "execution_count": 45,
     "metadata": {},
     "output_type": "execute_result"
    }
   ],
   "source": [
    "len(isim) - 1"
   ]
  },
  {
   "cell_type": "code",
   "execution_count": 46,
   "id": "52039227-b102-4421-ac51-f047ea552cc8",
   "metadata": {},
   "outputs": [
    {
     "data": {
      "text/plain": [
       "'u'"
      ]
     },
     "execution_count": 46,
     "metadata": {},
     "output_type": "execute_result"
    }
   ],
   "source": [
    "isim[len(isim) - 1]"
   ]
  },
  {
   "cell_type": "code",
   "execution_count": 47,
   "id": "9ea774c9-ad2d-41fc-8c0d-c66d32e6b214",
   "metadata": {},
   "outputs": [],
   "source": [
    "isim = \"atıl\""
   ]
  },
  {
   "cell_type": "code",
   "execution_count": 48,
   "id": "edb560f0-8d7d-4257-94ff-dfaa2ab426f3",
   "metadata": {},
   "outputs": [
    {
     "data": {
      "text/plain": [
       "'l'"
      ]
     },
     "execution_count": 48,
     "metadata": {},
     "output_type": "execute_result"
    }
   ],
   "source": [
    "isim[len(isim) - 1]"
   ]
  },
  {
   "cell_type": "code",
   "execution_count": 49,
   "id": "16dc4b55-153a-4f83-8cca-1257cb3bc909",
   "metadata": {},
   "outputs": [
    {
     "data": {
      "text/plain": [
       "'l'"
      ]
     },
     "execution_count": 49,
     "metadata": {},
     "output_type": "execute_result"
    }
   ],
   "source": [
    "isim[-1]"
   ]
  },
  {
   "cell_type": "code",
   "execution_count": 50,
   "id": "93b16e9f-63aa-42ca-8455-2d7b7a2a1048",
   "metadata": {},
   "outputs": [
    {
     "data": {
      "text/plain": [
       "'ı'"
      ]
     },
     "execution_count": 50,
     "metadata": {},
     "output_type": "execute_result"
    }
   ],
   "source": [
    "isim[-2]"
   ]
  },
  {
   "cell_type": "code",
   "execution_count": 51,
   "id": "76da8e59-a610-4472-bcb7-728e3d5ce3b1",
   "metadata": {},
   "outputs": [],
   "source": [
    "isim = \"atıl samancıoğlu\""
   ]
  },
  {
   "cell_type": "code",
   "execution_count": 52,
   "id": "fbf5c7e2-0dfe-4bb3-94c5-b14adcba8c2d",
   "metadata": {},
   "outputs": [
    {
     "data": {
      "text/plain": [
       "'a'"
      ]
     },
     "execution_count": 52,
     "metadata": {},
     "output_type": "execute_result"
    }
   ],
   "source": [
    "isim[0]"
   ]
  },
  {
   "cell_type": "code",
   "execution_count": 53,
   "id": "c55badb6-5e36-4511-9a08-b3b2e5531412",
   "metadata": {},
   "outputs": [
    {
     "data": {
      "text/plain": [
       "'u'"
      ]
     },
     "execution_count": 53,
     "metadata": {},
     "output_type": "execute_result"
    }
   ],
   "source": [
    "isim[-1]"
   ]
  },
  {
   "cell_type": "code",
   "execution_count": 54,
   "id": "6dc82f0d-8e49-452d-b2f7-4de61f8c5147",
   "metadata": {},
   "outputs": [
    {
     "data": {
      "text/plain": [
       "'au'"
      ]
     },
     "execution_count": 54,
     "metadata": {},
     "output_type": "execute_result"
    }
   ],
   "source": [
    "isim[0] + isim[-1]"
   ]
  },
  {
   "cell_type": "code",
   "execution_count": 55,
   "id": "2578d1c6-c335-48aa-96d4-5e9f01b3649e",
   "metadata": {},
   "outputs": [
    {
     "data": {
      "text/plain": [
       "'atı'"
      ]
     },
     "execution_count": 55,
     "metadata": {},
     "output_type": "execute_result"
    }
   ],
   "source": [
    "isim[0] + isim[1] + isim[2]"
   ]
  },
  {
   "cell_type": "code",
   "execution_count": 56,
   "id": "a6d24e3c-e08d-407f-8258-caa57a9b2e21",
   "metadata": {},
   "outputs": [],
   "source": [
    "# slicing (dilimleme)"
   ]
  },
  {
   "cell_type": "code",
   "execution_count": 57,
   "id": "5d5ceefb-118d-41ed-8d5f-f2bc846f9d77",
   "metadata": {},
   "outputs": [],
   "source": [
    "barkod = \"ABCDEF123456\""
   ]
  },
  {
   "cell_type": "code",
   "execution_count": 58,
   "id": "d2d87db2-b39c-4fe2-a0fc-c1a787c352bc",
   "metadata": {},
   "outputs": [],
   "source": [
    "# [starting_index:stopping_index:step_size]"
   ]
  },
  {
   "cell_type": "code",
   "execution_count": 59,
   "id": "037ffc91-17fb-47bf-93b3-702361f43d44",
   "metadata": {},
   "outputs": [
    {
     "data": {
      "text/plain": [
       "'ABCDEF123456'"
      ]
     },
     "execution_count": 59,
     "metadata": {},
     "output_type": "execute_result"
    }
   ],
   "source": [
    "barkod[::]"
   ]
  },
  {
   "cell_type": "code",
   "execution_count": 60,
   "id": "6869152b-0ec9-4be5-b9d5-aa6e720bdeef",
   "metadata": {},
   "outputs": [
    {
     "data": {
      "text/plain": [
       "'EF123456'"
      ]
     },
     "execution_count": 60,
     "metadata": {},
     "output_type": "execute_result"
    }
   ],
   "source": [
    "barkod[4::]"
   ]
  },
  {
   "cell_type": "code",
   "execution_count": 61,
   "id": "745c9e48-4ffb-4f1e-9878-3806019102c8",
   "metadata": {},
   "outputs": [
    {
     "data": {
      "text/plain": [
       "'ABCDEF'"
      ]
     },
     "execution_count": 61,
     "metadata": {},
     "output_type": "execute_result"
    }
   ],
   "source": [
    "barkod[:6:]"
   ]
  },
  {
   "cell_type": "code",
   "execution_count": 62,
   "id": "eb690350-0e2f-40be-9d1b-539b689d3dcf",
   "metadata": {},
   "outputs": [
    {
     "data": {
      "text/plain": [
       "'CDEF1'"
      ]
     },
     "execution_count": 62,
     "metadata": {},
     "output_type": "execute_result"
    }
   ],
   "source": [
    "barkod[2:7:]"
   ]
  },
  {
   "cell_type": "code",
   "execution_count": 64,
   "id": "4467faa3-8716-43e3-9f2c-581e8d5e4153",
   "metadata": {},
   "outputs": [
    {
     "data": {
      "text/plain": [
       "'AD14'"
      ]
     },
     "execution_count": 64,
     "metadata": {},
     "output_type": "execute_result"
    }
   ],
   "source": [
    "barkod[::3]"
   ]
  },
  {
   "cell_type": "code",
   "execution_count": 65,
   "id": "102ed9ab-269d-48dc-bdc6-c08806853aad",
   "metadata": {},
   "outputs": [
    {
     "data": {
      "text/plain": [
       "'ABCDEF123456'"
      ]
     },
     "execution_count": 65,
     "metadata": {},
     "output_type": "execute_result"
    }
   ],
   "source": [
    "barkod"
   ]
  },
  {
   "cell_type": "code",
   "execution_count": 66,
   "id": "43075af5-3093-418b-aeb0-cc6b5ac5b1a5",
   "metadata": {},
   "outputs": [
    {
     "data": {
      "text/plain": [
       "'CE1'"
      ]
     },
     "execution_count": 66,
     "metadata": {},
     "output_type": "execute_result"
    }
   ],
   "source": [
    "barkod[2:8:2]"
   ]
  },
  {
   "cell_type": "code",
   "execution_count": 67,
   "id": "af33c61a-15e9-413b-ab94-46010edd1f5c",
   "metadata": {},
   "outputs": [],
   "source": [
    "# step size -> - verirsek tersten başlıyor"
   ]
  },
  {
   "cell_type": "code",
   "execution_count": 68,
   "id": "6a0e6749-8010-4ead-a745-85a44de3dc99",
   "metadata": {},
   "outputs": [
    {
     "data": {
      "text/plain": [
       "'ABCDEF123456'"
      ]
     },
     "execution_count": 68,
     "metadata": {},
     "output_type": "execute_result"
    }
   ],
   "source": [
    "barkod"
   ]
  },
  {
   "cell_type": "code",
   "execution_count": 69,
   "id": "21c6b206-6848-42be-ae65-bda979fec7ea",
   "metadata": {},
   "outputs": [
    {
     "data": {
      "text/plain": [
       "'654321FEDCBA'"
      ]
     },
     "execution_count": 69,
     "metadata": {},
     "output_type": "execute_result"
    }
   ],
   "source": [
    "barkod[::-1]"
   ]
  },
  {
   "cell_type": "code",
   "execution_count": 70,
   "id": "edca0069-a639-41ad-9c5a-f9084a12397b",
   "metadata": {},
   "outputs": [
    {
     "data": {
      "text/plain": [
       "'ABCDEF123456'"
      ]
     },
     "execution_count": 70,
     "metadata": {},
     "output_type": "execute_result"
    }
   ],
   "source": [
    "barkod[::1]"
   ]
  },
  {
   "cell_type": "code",
   "execution_count": 71,
   "id": "a57b9b89-2dd7-4987-8fe2-6e763e0743e8",
   "metadata": {},
   "outputs": [
    {
     "data": {
      "text/plain": [
       "'atıl samancıoğlu'"
      ]
     },
     "execution_count": 71,
     "metadata": {},
     "output_type": "execute_result"
    }
   ],
   "source": [
    "isim"
   ]
  },
  {
   "cell_type": "code",
   "execution_count": 72,
   "id": "cd009f88-4b39-4fa1-aecd-1703c2eef1e4",
   "metadata": {},
   "outputs": [
    {
     "data": {
      "text/plain": [
       "3"
      ]
     },
     "execution_count": 72,
     "metadata": {},
     "output_type": "execute_result"
    }
   ],
   "source": [
    "isim.find(\"l\")"
   ]
  },
  {
   "cell_type": "code",
   "execution_count": 73,
   "id": "734413c5-dadc-4472-ac16-f91099bc712e",
   "metadata": {},
   "outputs": [
    {
     "data": {
      "text/plain": [
       "3"
      ]
     },
     "execution_count": 73,
     "metadata": {},
     "output_type": "execute_result"
    }
   ],
   "source": [
    "isim.index(\"l\")"
   ]
  },
  {
   "cell_type": "code",
   "execution_count": 74,
   "id": "ef98846c-8757-4918-992e-3c72551a8760",
   "metadata": {},
   "outputs": [
    {
     "name": "stdout",
     "output_type": "stream",
     "text": [
      "Help on built-in function find:\n",
      "\n",
      "find(...) method of builtins.str instance\n",
      "    S.find(sub[, start[, end]]) -> int\n",
      "\n",
      "    Return the lowest index in S where substring sub is found,\n",
      "    such that sub is contained within S[start:end].  Optional\n",
      "    arguments start and end are interpreted as in slice notation.\n",
      "\n",
      "    Return -1 on failure.\n",
      "\n"
     ]
    }
   ],
   "source": [
    "help(isim.find)"
   ]
  },
  {
   "cell_type": "code",
   "execution_count": 75,
   "id": "2800e889-2fd1-4fc5-9c1d-c99ec120ed66",
   "metadata": {},
   "outputs": [
    {
     "name": "stdout",
     "output_type": "stream",
     "text": [
      "Help on built-in function index:\n",
      "\n",
      "index(...) method of builtins.str instance\n",
      "    S.index(sub[, start[, end]]) -> int\n",
      "\n",
      "    Return the lowest index in S where substring sub is found,\n",
      "    such that sub is contained within S[start:end].  Optional\n",
      "    arguments start and end are interpreted as in slice notation.\n",
      "\n",
      "    Raises ValueError when the substring is not found.\n",
      "\n"
     ]
    }
   ],
   "source": [
    "help(isim.index)"
   ]
  },
  {
   "cell_type": "code",
   "execution_count": 76,
   "id": "a8b609b3-fe70-4494-83db-7d2f0cb9a12c",
   "metadata": {},
   "outputs": [
    {
     "data": {
      "text/plain": [
       "2"
      ]
     },
     "execution_count": 76,
     "metadata": {},
     "output_type": "execute_result"
    }
   ],
   "source": [
    "isim.index(\"ıl\")"
   ]
  },
  {
   "cell_type": "code",
   "execution_count": 77,
   "id": "0802fa37-733b-4e92-9659-5f219e6fd5d4",
   "metadata": {},
   "outputs": [
    {
     "data": {
      "text/plain": [
       "-1"
      ]
     },
     "execution_count": 77,
     "metadata": {},
     "output_type": "execute_result"
    }
   ],
   "source": [
    "isim.find(\"ş\")"
   ]
  },
  {
   "cell_type": "code",
   "execution_count": 79,
   "id": "87163531-2b16-4db0-80dd-5538830e20e3",
   "metadata": {},
   "outputs": [
    {
     "data": {
      "text/plain": [
       "15"
      ]
     },
     "execution_count": 79,
     "metadata": {},
     "output_type": "execute_result"
    }
   ],
   "source": [
    "isim.index(\"u\")"
   ]
  },
  {
   "cell_type": "code",
   "execution_count": 80,
   "id": "fa8b4adb-2419-4c80-9f74-e342cfb3ce60",
   "metadata": {},
   "outputs": [
    {
     "data": {
      "text/plain": [
       "15"
      ]
     },
     "execution_count": 80,
     "metadata": {},
     "output_type": "execute_result"
    }
   ],
   "source": [
    "isim.find(\"u\")"
   ]
  },
  {
   "cell_type": "code",
   "execution_count": 81,
   "id": "c5883037-9bbe-4019-8d85-bd8f3a94a8c4",
   "metadata": {},
   "outputs": [
    {
     "data": {
      "text/plain": [
       "'atıl samancıoğlu'"
      ]
     },
     "execution_count": 81,
     "metadata": {},
     "output_type": "execute_result"
    }
   ],
   "source": [
    "isim"
   ]
  },
  {
   "cell_type": "code",
   "execution_count": 83,
   "id": "5b187c23-bee5-45ae-9628-40332953a69d",
   "metadata": {},
   "outputs": [],
   "source": [
    "isimler = \"atıl,mehmet\""
   ]
  },
  {
   "cell_type": "code",
   "execution_count": 84,
   "id": "36726716-19c8-44bd-9025-d68c2762c9a5",
   "metadata": {},
   "outputs": [
    {
     "name": "stdout",
     "output_type": "stream",
     "text": [
      "Help on built-in function split:\n",
      "\n",
      "split(sep=None, maxsplit=-1) method of builtins.str instance\n",
      "    Return a list of the substrings in the string, using sep as the separator string.\n",
      "\n",
      "      sep\n",
      "        The separator used to split the string.\n",
      "\n",
      "        When set to None (the default value), will split on any whitespace\n",
      "        character (including \\n \\r \\t \\f and spaces) and will discard\n",
      "        empty strings from the result.\n",
      "      maxsplit\n",
      "        Maximum number of splits.\n",
      "        -1 (the default value) means no limit.\n",
      "\n",
      "    Splitting starts at the front of the string and works to the end.\n",
      "\n",
      "    Note, str.split() is mainly useful for data that has been intentionally\n",
      "    delimited.  With natural text that includes punctuation, consider using\n",
      "    the regular expression module.\n",
      "\n"
     ]
    }
   ],
   "source": [
    "help(isimler.split)"
   ]
  },
  {
   "cell_type": "code",
   "execution_count": 85,
   "id": "5d0df1bf-901a-4bb2-8207-42bb407a6f95",
   "metadata": {},
   "outputs": [
    {
     "data": {
      "text/plain": [
       "['atıl', 'samancıoğlu']"
      ]
     },
     "execution_count": 85,
     "metadata": {},
     "output_type": "execute_result"
    }
   ],
   "source": [
    "isim.split()"
   ]
  },
  {
   "cell_type": "code",
   "execution_count": 87,
   "id": "2fa05a41-34c3-4009-8a77-fdf89afd6bb9",
   "metadata": {},
   "outputs": [
    {
     "data": {
      "text/plain": [
       "['atıl', 'mehmet']"
      ]
     },
     "execution_count": 87,
     "metadata": {},
     "output_type": "execute_result"
    }
   ],
   "source": [
    "isimler.split(\",\")"
   ]
  },
  {
   "cell_type": "code",
   "execution_count": 88,
   "id": "67e1e3e4-72da-4478-89a1-b20cb997de9f",
   "metadata": {},
   "outputs": [
    {
     "data": {
      "text/plain": [
       "list"
      ]
     },
     "execution_count": 88,
     "metadata": {},
     "output_type": "execute_result"
    }
   ],
   "source": [
    "type(isim.split())"
   ]
  },
  {
   "cell_type": "code",
   "execution_count": null,
   "id": "4c24117f-7998-4b0c-9467-86e7f52aaeb6",
   "metadata": {},
   "outputs": [],
   "source": []
  }
 ],
 "metadata": {
  "kernelspec": {
   "display_name": "Python 3 (ipykernel)",
   "language": "python",
   "name": "python3"
  },
  "language_info": {
   "codemirror_mode": {
    "name": "ipython",
    "version": 3
   },
   "file_extension": ".py",
   "mimetype": "text/x-python",
   "name": "python",
   "nbconvert_exporter": "python",
   "pygments_lexer": "ipython3",
   "version": "3.12.7"
  }
 },
 "nbformat": 4,
 "nbformat_minor": 5
}
