{
 "cells": [
  {
   "cell_type": "code",
   "execution_count": 1,
   "id": "3a8fbd34-42ca-470b-9115-c3cb5d6601bc",
   "metadata": {},
   "outputs": [],
   "source": [
    "# set -> unique & unordered collection of elements"
   ]
  },
  {
   "cell_type": "code",
   "execution_count": 2,
   "id": "6b877323-9e61-434c-8ccb-0864cfe45011",
   "metadata": {},
   "outputs": [],
   "source": [
    "ornek_liste = [10,10,10,10,10,10,20,30]"
   ]
  },
  {
   "cell_type": "code",
   "execution_count": 3,
   "id": "4f502e26-0ff1-4d6b-b354-abd92c22769b",
   "metadata": {},
   "outputs": [
    {
     "data": {
      "text/plain": [
       "[10, 10, 10, 10, 10, 10, 20, 30]"
      ]
     },
     "execution_count": 3,
     "metadata": {},
     "output_type": "execute_result"
    }
   ],
   "source": [
    "ornek_liste"
   ]
  },
  {
   "cell_type": "code",
   "execution_count": 4,
   "id": "7cbd47be-9b75-4741-83a0-609bb4809196",
   "metadata": {},
   "outputs": [
    {
     "data": {
      "text/plain": [
       "8"
      ]
     },
     "execution_count": 4,
     "metadata": {},
     "output_type": "execute_result"
    }
   ],
   "source": [
    "len(ornek_liste)"
   ]
  },
  {
   "cell_type": "code",
   "execution_count": 5,
   "id": "705eb1ec-9514-45e0-a723-96e3037bb8a8",
   "metadata": {},
   "outputs": [],
   "source": [
    "ornek_set = {10,10,10,10,10,10,20,30}"
   ]
  },
  {
   "cell_type": "code",
   "execution_count": 6,
   "id": "ce3de42b-98ef-439a-ba67-6c82e944da3e",
   "metadata": {},
   "outputs": [
    {
     "data": {
      "text/plain": [
       "set"
      ]
     },
     "execution_count": 6,
     "metadata": {},
     "output_type": "execute_result"
    }
   ],
   "source": [
    "type(ornek_set)"
   ]
  },
  {
   "cell_type": "code",
   "execution_count": 7,
   "id": "be5c9ce9-5572-4996-a1dd-34f33d6daea6",
   "metadata": {},
   "outputs": [
    {
     "data": {
      "text/plain": [
       "{10, 20, 30}"
      ]
     },
     "execution_count": 7,
     "metadata": {},
     "output_type": "execute_result"
    }
   ],
   "source": [
    "ornek_set"
   ]
  },
  {
   "cell_type": "code",
   "execution_count": 8,
   "id": "907f1329-cf12-4ab3-be40-c4baf0e257a1",
   "metadata": {},
   "outputs": [],
   "source": [
    "string_set = {\"atıl\", \"atıl\", \"atıl\", \"atlas\"}"
   ]
  },
  {
   "cell_type": "code",
   "execution_count": 9,
   "id": "57507658-bd25-4b06-9fa1-693f3ed0421e",
   "metadata": {},
   "outputs": [
    {
     "data": {
      "text/plain": [
       "{'atlas', 'atıl'}"
      ]
     },
     "execution_count": 9,
     "metadata": {},
     "output_type": "execute_result"
    }
   ],
   "source": [
    "string_set"
   ]
  },
  {
   "cell_type": "code",
   "execution_count": 10,
   "id": "575fd161-e604-4ad5-966d-c0a622cf6496",
   "metadata": {},
   "outputs": [],
   "source": [
    "x = 3.14"
   ]
  },
  {
   "cell_type": "code",
   "execution_count": 11,
   "id": "fb664c03-fda2-4855-8775-9c7175f1e089",
   "metadata": {},
   "outputs": [
    {
     "data": {
      "text/plain": [
       "3"
      ]
     },
     "execution_count": 11,
     "metadata": {},
     "output_type": "execute_result"
    }
   ],
   "source": [
    "int(x)"
   ]
  },
  {
   "cell_type": "code",
   "execution_count": 12,
   "id": "9db833c4-8c06-4db7-a94e-535299e684fb",
   "metadata": {},
   "outputs": [],
   "source": [
    "int_x = int(x)"
   ]
  },
  {
   "cell_type": "code",
   "execution_count": 13,
   "id": "147fe8d0-9ba3-4ac2-8972-fe2733ac438a",
   "metadata": {},
   "outputs": [
    {
     "data": {
      "text/plain": [
       "3"
      ]
     },
     "execution_count": 13,
     "metadata": {},
     "output_type": "execute_result"
    }
   ],
   "source": [
    "int_x"
   ]
  },
  {
   "cell_type": "code",
   "execution_count": 14,
   "id": "59601b40-9939-4cb8-bc86-31a95df8405c",
   "metadata": {},
   "outputs": [
    {
     "data": {
      "text/plain": [
       "3.14"
      ]
     },
     "execution_count": 14,
     "metadata": {},
     "output_type": "execute_result"
    }
   ],
   "source": [
    "x"
   ]
  },
  {
   "cell_type": "code",
   "execution_count": 15,
   "id": "a570af48-f03f-422e-a58a-cc1040bcc88c",
   "metadata": {},
   "outputs": [
    {
     "data": {
      "text/plain": [
       "5.0"
      ]
     },
     "execution_count": 15,
     "metadata": {},
     "output_type": "execute_result"
    }
   ],
   "source": [
    "float(5)"
   ]
  },
  {
   "cell_type": "code",
   "execution_count": 16,
   "id": "3fb1f8de-f682-48c8-a562-7c5fdf4d291d",
   "metadata": {},
   "outputs": [],
   "source": [
    "kullanici_yasi = \"38\""
   ]
  },
  {
   "cell_type": "code",
   "execution_count": 17,
   "id": "6c1586b1-35f3-4405-a87c-115f63700a9f",
   "metadata": {},
   "outputs": [
    {
     "data": {
      "text/plain": [
       "'3838'"
      ]
     },
     "execution_count": 17,
     "metadata": {},
     "output_type": "execute_result"
    }
   ],
   "source": [
    "kullanici_yasi * 2"
   ]
  },
  {
   "cell_type": "code",
   "execution_count": 18,
   "id": "63ed3c4a-e2bf-41de-bc23-5adf7cac8b5b",
   "metadata": {},
   "outputs": [
    {
     "data": {
      "text/plain": [
       "76"
      ]
     },
     "execution_count": 18,
     "metadata": {},
     "output_type": "execute_result"
    }
   ],
   "source": [
    "int(kullanici_yasi) * 2"
   ]
  },
  {
   "cell_type": "code",
   "execution_count": 23,
   "id": "b54e7ade-390a-41aa-95e9-9a0826ce9755",
   "metadata": {},
   "outputs": [],
   "source": [
    "kullanici_yasi = \"10\""
   ]
  },
  {
   "cell_type": "code",
   "execution_count": 24,
   "id": "960ea322-aec9-4fc9-b45c-a37af2ee0c74",
   "metadata": {},
   "outputs": [
    {
     "data": {
      "text/plain": [
       "10"
      ]
     },
     "execution_count": 24,
     "metadata": {},
     "output_type": "execute_result"
    }
   ],
   "source": [
    "int(kullanici_yasi)"
   ]
  },
  {
   "cell_type": "code",
   "execution_count": 25,
   "id": "5bd480a6-75d5-45aa-bd30-82317081b247",
   "metadata": {},
   "outputs": [
    {
     "data": {
      "text/plain": [
       "'30'"
      ]
     },
     "execution_count": 25,
     "metadata": {},
     "output_type": "execute_result"
    }
   ],
   "source": [
    "str(30)"
   ]
  },
  {
   "cell_type": "code",
   "execution_count": 26,
   "id": "1c35978e-d6ea-4f33-8389-909e2911d3c4",
   "metadata": {},
   "outputs": [],
   "source": [
    "sehir_listesi = [\"izm\", \"izm\", \"ist\", \"ist\", \"ist\", \"ank\", \"ank\", \"ank\"]"
   ]
  },
  {
   "cell_type": "code",
   "execution_count": 27,
   "id": "784099d8-984a-48d5-8d1d-584dfd049bb3",
   "metadata": {},
   "outputs": [
    {
     "data": {
      "text/plain": [
       "8"
      ]
     },
     "execution_count": 27,
     "metadata": {},
     "output_type": "execute_result"
    }
   ],
   "source": [
    "len(sehir_listesi)"
   ]
  },
  {
   "cell_type": "code",
   "execution_count": 29,
   "id": "1ef2d349-9ac9-4665-8f0d-87707b9aff53",
   "metadata": {},
   "outputs": [
    {
     "data": {
      "text/plain": [
       "3"
      ]
     },
     "execution_count": 29,
     "metadata": {},
     "output_type": "execute_result"
    }
   ],
   "source": [
    "len(set(sehir_listesi))"
   ]
  },
  {
   "cell_type": "code",
   "execution_count": 30,
   "id": "cbe141a6-b4fc-4d61-ac98-f4e3f99fdf72",
   "metadata": {},
   "outputs": [
    {
     "data": {
      "text/plain": [
       "{'ank', 'ist', 'izm'}"
      ]
     },
     "execution_count": 30,
     "metadata": {},
     "output_type": "execute_result"
    }
   ],
   "source": [
    "set(sehir_listesi)"
   ]
  },
  {
   "cell_type": "code",
   "execution_count": 31,
   "id": "7f015740-c47c-4a7f-bb91-9cf15b8aff50",
   "metadata": {},
   "outputs": [],
   "source": [
    "sehir_seti = set(sehir_listesi)"
   ]
  },
  {
   "cell_type": "code",
   "execution_count": 32,
   "id": "ac1e3cf8-9ccc-4157-bf33-3ddc2d00d67c",
   "metadata": {},
   "outputs": [
    {
     "data": {
      "text/plain": [
       "{'ank', 'ist', 'izm'}"
      ]
     },
     "execution_count": 32,
     "metadata": {},
     "output_type": "execute_result"
    }
   ],
   "source": [
    "sehir_seti"
   ]
  },
  {
   "cell_type": "code",
   "execution_count": 33,
   "id": "72c95302-c5a4-4cf6-b15f-6478c2d6c730",
   "metadata": {},
   "outputs": [
    {
     "data": {
      "text/plain": [
       "['ank', 'izm', 'ist']"
      ]
     },
     "execution_count": 33,
     "metadata": {},
     "output_type": "execute_result"
    }
   ],
   "source": [
    "list(sehir_seti)"
   ]
  },
  {
   "cell_type": "code",
   "execution_count": 34,
   "id": "0507aa05-6489-42f6-8d8b-4f8fffe40e63",
   "metadata": {},
   "outputs": [],
   "source": [
    "sehir_seti.add(\"ank\")"
   ]
  },
  {
   "cell_type": "code",
   "execution_count": 35,
   "id": "e2988bdb-0f0a-40be-b5ec-1430c8571229",
   "metadata": {},
   "outputs": [
    {
     "data": {
      "text/plain": [
       "{'ank', 'ist', 'izm'}"
      ]
     },
     "execution_count": 35,
     "metadata": {},
     "output_type": "execute_result"
    }
   ],
   "source": [
    "sehir_seti"
   ]
  },
  {
   "cell_type": "code",
   "execution_count": 36,
   "id": "d940353f-0063-4799-bc23-955a761ba4e6",
   "metadata": {},
   "outputs": [],
   "source": [
    "sehir_seti.add(\"brs\")"
   ]
  },
  {
   "cell_type": "code",
   "execution_count": 37,
   "id": "2c0c65f3-03fb-4d78-a15e-bb21ecf68d5c",
   "metadata": {},
   "outputs": [
    {
     "data": {
      "text/plain": [
       "{'ank', 'brs', 'ist', 'izm'}"
      ]
     },
     "execution_count": 37,
     "metadata": {},
     "output_type": "execute_result"
    }
   ],
   "source": [
    "sehir_seti"
   ]
  },
  {
   "cell_type": "code",
   "execution_count": 39,
   "id": "731d4fe6-eb74-43bf-822e-50a980aa755d",
   "metadata": {},
   "outputs": [],
   "source": [
    "# sehir_seti[0] -> set'te index mantığı yok"
   ]
  },
  {
   "cell_type": "code",
   "execution_count": 40,
   "id": "51863601-6640-4a51-8011-271ec23ff0ef",
   "metadata": {},
   "outputs": [],
   "source": [
    "sehir_seti.remove(\"brs\")"
   ]
  },
  {
   "cell_type": "code",
   "execution_count": 41,
   "id": "b80011c5-7797-4d6d-bcf7-6e812c667125",
   "metadata": {},
   "outputs": [
    {
     "data": {
      "text/plain": [
       "{'ank', 'ist', 'izm'}"
      ]
     },
     "execution_count": 41,
     "metadata": {},
     "output_type": "execute_result"
    }
   ],
   "source": [
    "sehir_seti"
   ]
  },
  {
   "cell_type": "code",
   "execution_count": 42,
   "id": "fdd40860-2933-4e66-a935-7303aa0e0e00",
   "metadata": {},
   "outputs": [],
   "source": [
    "birinci_set = {10,20,30,40}\n",
    "ikinci_set = {20,30,40,50}"
   ]
  },
  {
   "cell_type": "code",
   "execution_count": 43,
   "id": "ebf4df0b-3b5f-4f7d-84b3-3c12d722338f",
   "metadata": {},
   "outputs": [
    {
     "data": {
      "text/plain": [
       "{10}"
      ]
     },
     "execution_count": 43,
     "metadata": {},
     "output_type": "execute_result"
    }
   ],
   "source": [
    "birinci_set.difference(ikinci_set)"
   ]
  },
  {
   "cell_type": "code",
   "execution_count": 44,
   "id": "fc5e2189-a9d3-4d58-a3ed-e2917b24a2c0",
   "metadata": {},
   "outputs": [
    {
     "data": {
      "text/plain": [
       "{20, 30, 40}"
      ]
     },
     "execution_count": 44,
     "metadata": {},
     "output_type": "execute_result"
    }
   ],
   "source": [
    "birinci_set.intersection(ikinci_set)"
   ]
  },
  {
   "cell_type": "code",
   "execution_count": 45,
   "id": "78fa74d3-4b26-49d6-b2a8-4254d301347d",
   "metadata": {},
   "outputs": [
    {
     "data": {
      "text/plain": [
       "False"
      ]
     },
     "execution_count": 45,
     "metadata": {},
     "output_type": "execute_result"
    }
   ],
   "source": [
    "birinci_set.issubset(ikinci_set)"
   ]
  },
  {
   "cell_type": "code",
   "execution_count": 46,
   "id": "c9c05c8b-ee8b-4b40-a835-bfedabba9e36",
   "metadata": {},
   "outputs": [
    {
     "data": {
      "text/plain": [
       "{10, 20, 30, 40, 50}"
      ]
     },
     "execution_count": 46,
     "metadata": {},
     "output_type": "execute_result"
    }
   ],
   "source": [
    "birinci_set.union(ikinci_set)"
   ]
  },
  {
   "cell_type": "code",
   "execution_count": 50,
   "id": "676000b8-9e2b-48c7-bdea-d6d17cf4259d",
   "metadata": {},
   "outputs": [
    {
     "data": {
      "text/plain": [
       "{10}"
      ]
     },
     "execution_count": 50,
     "metadata": {},
     "output_type": "execute_result"
    }
   ],
   "source": [
    "birinci_set - ikinci_set"
   ]
  },
  {
   "cell_type": "code",
   "execution_count": 53,
   "id": "6e5e0ebc-99b2-4eb5-ac07-4c5aec418a82",
   "metadata": {},
   "outputs": [
    {
     "data": {
      "text/plain": [
       "{50}"
      ]
     },
     "execution_count": 53,
     "metadata": {},
     "output_type": "execute_result"
    }
   ],
   "source": [
    "ikinci_set - birinci_set"
   ]
  },
  {
   "cell_type": "code",
   "execution_count": 54,
   "id": "ddab89b0-adab-4448-80c6-964b506867cf",
   "metadata": {},
   "outputs": [],
   "source": [
    "bos_liste = []"
   ]
  },
  {
   "cell_type": "code",
   "execution_count": 55,
   "id": "11d797b1-4e46-4a29-bf24-2ff432122fce",
   "metadata": {},
   "outputs": [
    {
     "data": {
      "text/plain": [
       "list"
      ]
     },
     "execution_count": 55,
     "metadata": {},
     "output_type": "execute_result"
    }
   ],
   "source": [
    "type(bos_liste)"
   ]
  },
  {
   "cell_type": "code",
   "execution_count": 56,
   "id": "70d3d935-13f2-450b-b62b-c47f94e1202e",
   "metadata": {},
   "outputs": [
    {
     "data": {
      "text/plain": [
       "0"
      ]
     },
     "execution_count": 56,
     "metadata": {},
     "output_type": "execute_result"
    }
   ],
   "source": [
    "len(bos_liste)"
   ]
  },
  {
   "cell_type": "code",
   "execution_count": 57,
   "id": "e4286bd4-60ec-4e3f-9cce-9115d52474e7",
   "metadata": {},
   "outputs": [],
   "source": [
    "bos_liste.append(10)\n",
    "bos_liste.append(10)\n",
    "bos_liste.append(10)\n",
    "bos_liste.append(10)\n",
    "bos_liste.append(20)\n",
    "bos_liste.append(20)"
   ]
  },
  {
   "cell_type": "code",
   "execution_count": 58,
   "id": "f171a065-fa3c-4326-b0cc-ec51a0372ce9",
   "metadata": {},
   "outputs": [
    {
     "data": {
      "text/plain": [
       "[10, 10, 10, 10, 20, 20]"
      ]
     },
     "execution_count": 58,
     "metadata": {},
     "output_type": "execute_result"
    }
   ],
   "source": [
    "bos_liste"
   ]
  },
  {
   "cell_type": "code",
   "execution_count": 61,
   "id": "7851b860-726f-4cbe-87f7-f68b46163b7b",
   "metadata": {},
   "outputs": [],
   "source": [
    "bos_dict = {}"
   ]
  },
  {
   "cell_type": "code",
   "execution_count": 62,
   "id": "68925faa-baf0-4197-8424-aa169065d51f",
   "metadata": {},
   "outputs": [
    {
     "data": {
      "text/plain": [
       "dict"
      ]
     },
     "execution_count": 62,
     "metadata": {},
     "output_type": "execute_result"
    }
   ],
   "source": [
    "type(bos_dict)"
   ]
  },
  {
   "cell_type": "code",
   "execution_count": 63,
   "id": "8837007b-c42d-4a0f-9263-9fabebb2e6a8",
   "metadata": {},
   "outputs": [],
   "source": [
    "bos_dict[\"a\"] = 100"
   ]
  },
  {
   "cell_type": "code",
   "execution_count": 64,
   "id": "2b78fae4-a2d0-40c4-a2ea-66f587c9f90c",
   "metadata": {},
   "outputs": [
    {
     "data": {
      "text/plain": [
       "{'a': 100}"
      ]
     },
     "execution_count": 64,
     "metadata": {},
     "output_type": "execute_result"
    }
   ],
   "source": [
    "bos_dict"
   ]
  },
  {
   "cell_type": "code",
   "execution_count": 65,
   "id": "17328c42-6eb1-4f83-ba4b-877382150b2c",
   "metadata": {},
   "outputs": [],
   "source": [
    "bos_liste = list()"
   ]
  },
  {
   "cell_type": "code",
   "execution_count": 66,
   "id": "6caaeee0-b459-43e1-baba-5a0505123429",
   "metadata": {},
   "outputs": [
    {
     "data": {
      "text/plain": [
       "list"
      ]
     },
     "execution_count": 66,
     "metadata": {},
     "output_type": "execute_result"
    }
   ],
   "source": [
    "type(bos_liste)"
   ]
  },
  {
   "cell_type": "code",
   "execution_count": 67,
   "id": "1af3e578-7073-4baf-83d0-485ae316d674",
   "metadata": {},
   "outputs": [
    {
     "data": {
      "text/plain": [
       "0"
      ]
     },
     "execution_count": 67,
     "metadata": {},
     "output_type": "execute_result"
    }
   ],
   "source": [
    "len(bos_liste)"
   ]
  },
  {
   "cell_type": "code",
   "execution_count": 68,
   "id": "a712cda8-1d3f-4274-bf92-5d5a98d0c741",
   "metadata": {},
   "outputs": [],
   "source": [
    "bos_liste.append(10)\n",
    "bos_liste.append(20)"
   ]
  },
  {
   "cell_type": "code",
   "execution_count": 69,
   "id": "d2177a0b-a464-467f-b8d1-42eca01b18cd",
   "metadata": {},
   "outputs": [
    {
     "data": {
      "text/plain": [
       "[10, 20]"
      ]
     },
     "execution_count": 69,
     "metadata": {},
     "output_type": "execute_result"
    }
   ],
   "source": [
    "bos_liste"
   ]
  },
  {
   "cell_type": "code",
   "execution_count": 70,
   "id": "6bddbd3c-c30e-4ba8-9dfe-3a68e722db9a",
   "metadata": {},
   "outputs": [],
   "source": [
    "bos_sozluk = dict()"
   ]
  },
  {
   "cell_type": "code",
   "execution_count": 71,
   "id": "657aa7fa-033a-43f4-b61c-76e76c30d540",
   "metadata": {},
   "outputs": [],
   "source": [
    "bos_sozluk[\"a\"] = 100"
   ]
  },
  {
   "cell_type": "code",
   "execution_count": 72,
   "id": "ae5f40cd-856d-418e-90c4-c1e93a079167",
   "metadata": {},
   "outputs": [
    {
     "data": {
      "text/plain": [
       "{'a': 100}"
      ]
     },
     "execution_count": 72,
     "metadata": {},
     "output_type": "execute_result"
    }
   ],
   "source": [
    "bos_sozluk"
   ]
  },
  {
   "cell_type": "code",
   "execution_count": 73,
   "id": "b34efe54-6a3f-4fc2-bcdf-5be4e8c62c34",
   "metadata": {},
   "outputs": [],
   "source": [
    "bos_set = set()"
   ]
  },
  {
   "cell_type": "code",
   "execution_count": 74,
   "id": "80fc43ea-efa1-4fca-a3c1-3994e8d061d2",
   "metadata": {},
   "outputs": [
    {
     "data": {
      "text/plain": [
       "set"
      ]
     },
     "execution_count": 74,
     "metadata": {},
     "output_type": "execute_result"
    }
   ],
   "source": [
    "type(bos_set)"
   ]
  },
  {
   "cell_type": "code",
   "execution_count": 75,
   "id": "8598c7e2-c37c-4a19-959b-131fdf47a782",
   "metadata": {},
   "outputs": [
    {
     "data": {
      "text/plain": [
       "0"
      ]
     },
     "execution_count": 75,
     "metadata": {},
     "output_type": "execute_result"
    }
   ],
   "source": [
    "len(bos_set)"
   ]
  },
  {
   "cell_type": "code",
   "execution_count": 76,
   "id": "cfe7045a-914c-44f7-b146-cf764ffdb547",
   "metadata": {},
   "outputs": [],
   "source": [
    "bos_set.add(10)\n",
    "bos_set.add(10)\n",
    "bos_set.add(10)\n",
    "bos_set.add(10)\n",
    "bos_set.add(10)\n",
    "bos_set.add(10)"
   ]
  },
  {
   "cell_type": "code",
   "execution_count": 77,
   "id": "31313625-f0e9-4337-be7c-9aa853aed27f",
   "metadata": {},
   "outputs": [
    {
     "data": {
      "text/plain": [
       "{10}"
      ]
     },
     "execution_count": 77,
     "metadata": {},
     "output_type": "execute_result"
    }
   ],
   "source": [
    "bos_set"
   ]
  },
  {
   "cell_type": "code",
   "execution_count": null,
   "id": "8f793356-8bd7-46ed-a573-9d276b76f3df",
   "metadata": {},
   "outputs": [],
   "source": []
  }
 ],
 "metadata": {
  "kernelspec": {
   "display_name": "Python 3 (ipykernel)",
   "language": "python",
   "name": "python3"
  },
  "language_info": {
   "codemirror_mode": {
    "name": "ipython",
    "version": 3
   },
   "file_extension": ".py",
   "mimetype": "text/x-python",
   "name": "python",
   "nbconvert_exporter": "python",
   "pygments_lexer": "ipython3",
   "version": "3.12.7"
  }
 },
 "nbformat": 4,
 "nbformat_minor": 5
}
