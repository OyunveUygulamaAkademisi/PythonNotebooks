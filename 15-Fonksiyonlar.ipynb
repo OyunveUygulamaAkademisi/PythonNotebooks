{
 "cells": [
  {
   "cell_type": "code",
   "execution_count": 1,
   "id": "ea0948c2",
   "metadata": {},
   "outputs": [],
   "source": [
    "#method vs function"
   ]
  },
  {
   "cell_type": "code",
   "execution_count": 2,
   "id": "ea7a7765",
   "metadata": {},
   "outputs": [],
   "source": [
    "isim = \"atıl\""
   ]
  },
  {
   "cell_type": "code",
   "execution_count": 3,
   "id": "60ba59a1",
   "metadata": {},
   "outputs": [
    {
     "data": {
      "text/plain": [
       "'Atıl'"
      ]
     },
     "execution_count": 3,
     "metadata": {},
     "output_type": "execute_result"
    }
   ],
   "source": [
    "isim.capitalize()"
   ]
  },
  {
   "cell_type": "code",
   "execution_count": 4,
   "id": "42a3771b",
   "metadata": {},
   "outputs": [
    {
     "data": {
      "text/plain": [
       "'ATIL'"
      ]
     },
     "execution_count": 4,
     "metadata": {},
     "output_type": "execute_result"
    }
   ],
   "source": [
    "isim.upper()"
   ]
  },
  {
   "cell_type": "code",
   "execution_count": 5,
   "id": "012f7d56",
   "metadata": {},
   "outputs": [
    {
     "data": {
      "text/plain": [
       "'atıl'"
      ]
     },
     "execution_count": 5,
     "metadata": {},
     "output_type": "execute_result"
    }
   ],
   "source": [
    "isim"
   ]
  },
  {
   "cell_type": "code",
   "execution_count": 6,
   "id": "d3257e2d",
   "metadata": {},
   "outputs": [],
   "source": [
    "#fonskiyonlar"
   ]
  },
  {
   "cell_type": "code",
   "execution_count": 7,
   "id": "76cae430",
   "metadata": {},
   "outputs": [],
   "source": [
    "def merhaba_fonksiyonlar():\n",
    "    print(\"merhaba\")\n",
    "    print(\"fonksiyonlar\")"
   ]
  },
  {
   "cell_type": "code",
   "execution_count": 8,
   "id": "bd6d2b0f",
   "metadata": {},
   "outputs": [
    {
     "name": "stdout",
     "output_type": "stream",
     "text": [
      "merhaba\n",
      "fonksiyonlar\n"
     ]
    }
   ],
   "source": [
    "merhaba_fonksiyonlar()"
   ]
  },
  {
   "cell_type": "code",
   "execution_count": 9,
   "id": "6c461c58",
   "metadata": {},
   "outputs": [
    {
     "name": "stdout",
     "output_type": "stream",
     "text": [
      "merhaba\n",
      "fonksiyonlar\n"
     ]
    }
   ],
   "source": [
    "merhaba_fonksiyonlar()"
   ]
  },
  {
   "cell_type": "code",
   "execution_count": 10,
   "id": "6b02485f",
   "metadata": {},
   "outputs": [
    {
     "name": "stdout",
     "output_type": "stream",
     "text": [
      "merhaba\n",
      "fonksiyonlar\n"
     ]
    }
   ],
   "source": [
    "merhaba_fonksiyonlar()"
   ]
  },
  {
   "cell_type": "code",
   "execution_count": 11,
   "id": "a2fc401d",
   "metadata": {},
   "outputs": [],
   "source": [
    "ornek_liste = [20,10,50,40]"
   ]
  },
  {
   "cell_type": "code",
   "execution_count": 12,
   "id": "1522bfd0",
   "metadata": {},
   "outputs": [],
   "source": [
    "ornek_liste.sort()"
   ]
  },
  {
   "cell_type": "code",
   "execution_count": 13,
   "id": "dff98958",
   "metadata": {},
   "outputs": [
    {
     "data": {
      "text/plain": [
       "[10, 20, 40, 50]"
      ]
     },
     "execution_count": 13,
     "metadata": {},
     "output_type": "execute_result"
    }
   ],
   "source": [
    "ornek_liste"
   ]
  },
  {
   "cell_type": "code",
   "execution_count": 14,
   "id": "86ce9830",
   "metadata": {},
   "outputs": [],
   "source": [
    "# parameter input"
   ]
  },
  {
   "cell_type": "code",
   "execution_count": 19,
   "id": "ed8ab7fe",
   "metadata": {},
   "outputs": [
    {
     "data": {
      "text/plain": [
       "['atıl', 'samancıoğlu']"
      ]
     },
     "execution_count": 19,
     "metadata": {},
     "output_type": "execute_result"
    }
   ],
   "source": [
    "isim = \"atıl,samancıoğlu\"\n",
    "isim.split(\",\")"
   ]
  },
  {
   "cell_type": "code",
   "execution_count": 20,
   "id": "9f7f9eb4",
   "metadata": {},
   "outputs": [],
   "source": [
    "def merhaba_isim(input_stringi):\n",
    "    print(\"merhaba\")\n",
    "    print(input_stringi)"
   ]
  },
  {
   "cell_type": "code",
   "execution_count": 21,
   "id": "52db96c8",
   "metadata": {},
   "outputs": [
    {
     "name": "stdout",
     "output_type": "stream",
     "text": [
      "merhaba\n",
      "atıl\n"
     ]
    }
   ],
   "source": [
    "merhaba_isim(\"atıl\")"
   ]
  },
  {
   "cell_type": "code",
   "execution_count": 22,
   "id": "82a9ee20",
   "metadata": {},
   "outputs": [
    {
     "name": "stdout",
     "output_type": "stream",
     "text": [
      "merhaba\n",
      "python\n"
     ]
    }
   ],
   "source": [
    "merhaba_isim(\"python\")"
   ]
  },
  {
   "cell_type": "code",
   "execution_count": 23,
   "id": "39804e91",
   "metadata": {},
   "outputs": [],
   "source": [
    "def toplama(num1, num2):\n",
    "    print(num1 + num2)"
   ]
  },
  {
   "cell_type": "code",
   "execution_count": 24,
   "id": "738ab51e",
   "metadata": {},
   "outputs": [
    {
     "name": "stdout",
     "output_type": "stream",
     "text": [
      "15\n"
     ]
    }
   ],
   "source": [
    "toplama(5, 10)"
   ]
  },
  {
   "cell_type": "code",
   "execution_count": 25,
   "id": "92c2ea73",
   "metadata": {},
   "outputs": [],
   "source": [
    "def toplama(num1, num2):\n",
    "    sonuc = num1 + num2\n",
    "    print(\"hesaplama tamamlandı, sonuç: \")\n",
    "    print(sonuc)"
   ]
  },
  {
   "cell_type": "code",
   "execution_count": 26,
   "id": "0d55f9e8",
   "metadata": {},
   "outputs": [
    {
     "name": "stdout",
     "output_type": "stream",
     "text": [
      "hesaplama tamamlandı, sonuç: \n",
      "10\n"
     ]
    }
   ],
   "source": [
    "toplama(-10,20)"
   ]
  },
  {
   "cell_type": "code",
   "execution_count": 29,
   "id": "8c7df722",
   "metadata": {},
   "outputs": [],
   "source": [
    "def merhaba_soyisim(soyisim = \"samancıoğlu\"):\n",
    "    print(\"merhaba\", soyisim)"
   ]
  },
  {
   "cell_type": "code",
   "execution_count": 30,
   "id": "d5b213bd",
   "metadata": {},
   "outputs": [
    {
     "name": "stdout",
     "output_type": "stream",
     "text": [
      "merhaba samancıoğlu\n"
     ]
    }
   ],
   "source": [
    "merhaba_soyisim()"
   ]
  },
  {
   "cell_type": "code",
   "execution_count": 31,
   "id": "eb655982",
   "metadata": {},
   "outputs": [
    {
     "name": "stdout",
     "output_type": "stream",
     "text": [
      "merhaba yılmaz\n"
     ]
    }
   ],
   "source": [
    "merhaba_soyisim(\"yılmaz\")"
   ]
  },
  {
   "cell_type": "code",
   "execution_count": 32,
   "id": "2e11b053",
   "metadata": {},
   "outputs": [],
   "source": [
    "def toplama_ornek(num1 = 0, num2= 0):\n",
    "    print(num1 + num2)"
   ]
  },
  {
   "cell_type": "code",
   "execution_count": 35,
   "id": "aa9cd3c6",
   "metadata": {},
   "outputs": [
    {
     "name": "stdout",
     "output_type": "stream",
     "text": [
      "25\n"
     ]
    }
   ],
   "source": [
    "toplama_ornek(10,15)"
   ]
  },
  {
   "cell_type": "code",
   "execution_count": 36,
   "id": "491dd74d",
   "metadata": {},
   "outputs": [],
   "source": [
    "def uclu_toplama(a,b,c):\n",
    "    print(a+b+c)"
   ]
  },
  {
   "cell_type": "code",
   "execution_count": 37,
   "id": "1bc173c5",
   "metadata": {},
   "outputs": [
    {
     "name": "stdout",
     "output_type": "stream",
     "text": [
      "60\n"
     ]
    }
   ],
   "source": [
    "uclu_toplama(10,20,30)"
   ]
  },
  {
   "cell_type": "code",
   "execution_count": 38,
   "id": "c98135ab",
   "metadata": {},
   "outputs": [],
   "source": [
    "# return"
   ]
  },
  {
   "cell_type": "code",
   "execution_count": 39,
   "id": "7d21e87e",
   "metadata": {},
   "outputs": [],
   "source": [
    "def cikarma(x,y):\n",
    "    print(x-y)"
   ]
  },
  {
   "cell_type": "code",
   "execution_count": 40,
   "id": "9f1163fb",
   "metadata": {},
   "outputs": [
    {
     "name": "stdout",
     "output_type": "stream",
     "text": [
      "-10\n"
     ]
    }
   ],
   "source": [
    "cikarma(10,20)"
   ]
  },
  {
   "cell_type": "code",
   "execution_count": 41,
   "id": "f610f768",
   "metadata": {},
   "outputs": [],
   "source": [
    "isim = \"atıl\"\n",
    "buyuk_isim = isim.upper()"
   ]
  },
  {
   "cell_type": "code",
   "execution_count": 42,
   "id": "885327a8",
   "metadata": {},
   "outputs": [
    {
     "data": {
      "text/plain": [
       "'atıl'"
      ]
     },
     "execution_count": 42,
     "metadata": {},
     "output_type": "execute_result"
    }
   ],
   "source": [
    "isim"
   ]
  },
  {
   "cell_type": "code",
   "execution_count": 43,
   "id": "3ea098f0",
   "metadata": {},
   "outputs": [
    {
     "data": {
      "text/plain": [
       "'ATIL'"
      ]
     },
     "execution_count": 43,
     "metadata": {},
     "output_type": "execute_result"
    }
   ],
   "source": [
    "buyuk_isim"
   ]
  },
  {
   "cell_type": "code",
   "execution_count": 44,
   "id": "84d15b52",
   "metadata": {},
   "outputs": [
    {
     "name": "stdout",
     "output_type": "stream",
     "text": [
      "-10\n"
     ]
    }
   ],
   "source": [
    "sonuc = cikarma(20,30)"
   ]
  },
  {
   "cell_type": "code",
   "execution_count": 45,
   "id": "74ae7a75",
   "metadata": {},
   "outputs": [],
   "source": [
    "sonuc"
   ]
  },
  {
   "cell_type": "code",
   "execution_count": 46,
   "id": "46ba5b58",
   "metadata": {},
   "outputs": [
    {
     "name": "stdout",
     "output_type": "stream",
     "text": [
      "None\n"
     ]
    }
   ],
   "source": [
    "print(sonuc)"
   ]
  },
  {
   "cell_type": "code",
   "execution_count": 47,
   "id": "d46cbecf",
   "metadata": {},
   "outputs": [
    {
     "data": {
      "text/plain": [
       "NoneType"
      ]
     },
     "execution_count": 47,
     "metadata": {},
     "output_type": "execute_result"
    }
   ],
   "source": [
    "type(sonuc)"
   ]
  },
  {
   "cell_type": "code",
   "execution_count": 48,
   "id": "45c26001",
   "metadata": {},
   "outputs": [],
   "source": [
    "def cikarma(x,y):\n",
    "    sonuc = x -y\n",
    "    print(sonuc)\n",
    "    return sonuc"
   ]
  },
  {
   "cell_type": "code",
   "execution_count": 50,
   "id": "19f5e837",
   "metadata": {},
   "outputs": [
    {
     "name": "stdout",
     "output_type": "stream",
     "text": [
      "-10\n"
     ]
    }
   ],
   "source": [
    "sonuc = cikarma(10,20)"
   ]
  },
  {
   "cell_type": "code",
   "execution_count": 51,
   "id": "268c59f7",
   "metadata": {},
   "outputs": [
    {
     "data": {
      "text/plain": [
       "-10"
      ]
     },
     "execution_count": 51,
     "metadata": {},
     "output_type": "execute_result"
    }
   ],
   "source": [
    "sonuc"
   ]
  },
  {
   "cell_type": "code",
   "execution_count": 52,
   "id": "13009d9a",
   "metadata": {},
   "outputs": [
    {
     "data": {
      "text/plain": [
       "int"
      ]
     },
     "execution_count": 52,
     "metadata": {},
     "output_type": "execute_result"
    }
   ],
   "source": [
    "type(sonuc)"
   ]
  },
  {
   "cell_type": "code",
   "execution_count": 53,
   "id": "c072417f",
   "metadata": {},
   "outputs": [],
   "source": [
    "def anlamsiz_fonskiyon(a,b):\n",
    "    sonuc = a + b\n",
    "    return 10"
   ]
  },
  {
   "cell_type": "code",
   "execution_count": 54,
   "id": "f51c1c03",
   "metadata": {},
   "outputs": [],
   "source": [
    "degisken = anlamsiz_fonskiyon(20,4000)"
   ]
  },
  {
   "cell_type": "code",
   "execution_count": 55,
   "id": "0dd51b86",
   "metadata": {},
   "outputs": [
    {
     "data": {
      "text/plain": [
       "10"
      ]
     },
     "execution_count": 55,
     "metadata": {},
     "output_type": "execute_result"
    }
   ],
   "source": [
    "degisken"
   ]
  },
  {
   "cell_type": "code",
   "execution_count": 56,
   "id": "ee184fc9",
   "metadata": {},
   "outputs": [],
   "source": [
    "isim = \"atıl\""
   ]
  },
  {
   "cell_type": "code",
   "execution_count": 57,
   "id": "4ed417c9",
   "metadata": {},
   "outputs": [
    {
     "data": {
      "text/plain": [
       "True"
      ]
     },
     "execution_count": 57,
     "metadata": {},
     "output_type": "execute_result"
    }
   ],
   "source": [
    "isim.startswith(\"a\")"
   ]
  },
  {
   "cell_type": "code",
   "execution_count": 58,
   "id": "4a80c117",
   "metadata": {},
   "outputs": [
    {
     "data": {
      "text/plain": [
       "False"
      ]
     },
     "execution_count": 58,
     "metadata": {},
     "output_type": "execute_result"
    }
   ],
   "source": [
    "isim.startswith(\"b\")"
   ]
  },
  {
   "cell_type": "code",
   "execution_count": 59,
   "id": "ed125810",
   "metadata": {},
   "outputs": [],
   "source": [
    "def string_harf_ile_basliyor_mu(metin, harf):\n",
    "    if metin[0] == harf:\n",
    "        return True\n",
    "    else:\n",
    "        return False"
   ]
  },
  {
   "cell_type": "code",
   "execution_count": 60,
   "id": "8b021880",
   "metadata": {},
   "outputs": [
    {
     "data": {
      "text/plain": [
       "True"
      ]
     },
     "execution_count": 60,
     "metadata": {},
     "output_type": "execute_result"
    }
   ],
   "source": [
    "string_harf_ile_basliyor_mu(\"atıl\", \"a\")"
   ]
  },
  {
   "cell_type": "code",
   "execution_count": 61,
   "id": "3d2dfc47",
   "metadata": {},
   "outputs": [
    {
     "data": {
      "text/plain": [
       "False"
      ]
     },
     "execution_count": 61,
     "metadata": {},
     "output_type": "execute_result"
    }
   ],
   "source": [
    "string_harf_ile_basliyor_mu(\"atıl\", \"b\")"
   ]
  },
  {
   "cell_type": "code",
   "execution_count": 62,
   "id": "4036e384",
   "metadata": {},
   "outputs": [],
   "source": [
    "def liste_stringlerini_buyuten_fonksiyon(ornek_liste):\n",
    "    for eleman in ornek_liste:\n",
    "        print(eleman.upper())"
   ]
  },
  {
   "cell_type": "code",
   "execution_count": 63,
   "id": "7dcb0378",
   "metadata": {},
   "outputs": [],
   "source": [
    "ornek_liste = [\"atıl\", \"samancıoğlu\", \"örnek\", \"liste\"]"
   ]
  },
  {
   "cell_type": "code",
   "execution_count": 64,
   "id": "7cfc25f5",
   "metadata": {},
   "outputs": [
    {
     "name": "stdout",
     "output_type": "stream",
     "text": [
      "ATIL\n",
      "SAMANCIOĞLU\n",
      "ÖRNEK\n",
      "LISTE\n"
     ]
    }
   ],
   "source": [
    "liste_stringlerini_buyuten_fonksiyon(ornek_liste)"
   ]
  },
  {
   "cell_type": "code",
   "execution_count": 65,
   "id": "5c9545d1",
   "metadata": {},
   "outputs": [],
   "source": [
    "def toplama(a,b,c):\n",
    "    return a+b+c"
   ]
  },
  {
   "cell_type": "code",
   "execution_count": 66,
   "id": "16437932",
   "metadata": {},
   "outputs": [
    {
     "data": {
      "text/plain": [
       "60"
      ]
     },
     "execution_count": 66,
     "metadata": {},
     "output_type": "execute_result"
    }
   ],
   "source": [
    "toplama(10,20,30)"
   ]
  },
  {
   "cell_type": "code",
   "execution_count": 68,
   "id": "3d03a164",
   "metadata": {},
   "outputs": [],
   "source": [
    "sayi_listem = [20,30,40]"
   ]
  },
  {
   "cell_type": "code",
   "execution_count": 69,
   "id": "5acd17fb",
   "metadata": {},
   "outputs": [
    {
     "data": {
      "text/plain": [
       "90"
      ]
     },
     "execution_count": 69,
     "metadata": {},
     "output_type": "execute_result"
    }
   ],
   "source": [
    "sum(sayi_listem)"
   ]
  },
  {
   "cell_type": "code",
   "execution_count": 70,
   "id": "92d89905",
   "metadata": {},
   "outputs": [],
   "source": [
    "# args, kwargs (arguments, key word arguments)"
   ]
  },
  {
   "cell_type": "code",
   "execution_count": 71,
   "id": "bb052745",
   "metadata": {},
   "outputs": [],
   "source": [
    "def sinirsiz_toplama(*args):\n",
    "    print(args)"
   ]
  },
  {
   "cell_type": "code",
   "execution_count": 72,
   "id": "7fd3ffcd",
   "metadata": {},
   "outputs": [
    {
     "name": "stdout",
     "output_type": "stream",
     "text": [
      "(10,)\n"
     ]
    }
   ],
   "source": [
    "sinirsiz_toplama(10)"
   ]
  },
  {
   "cell_type": "code",
   "execution_count": 73,
   "id": "b2659d11",
   "metadata": {},
   "outputs": [
    {
     "name": "stdout",
     "output_type": "stream",
     "text": [
      "(10, 20)\n"
     ]
    }
   ],
   "source": [
    "sinirsiz_toplama(10,20)"
   ]
  },
  {
   "cell_type": "code",
   "execution_count": 74,
   "id": "6cfb8b2e",
   "metadata": {
    "scrolled": true
   },
   "outputs": [
    {
     "name": "stdout",
     "output_type": "stream",
     "text": [
      "(10, 20, 30)\n"
     ]
    }
   ],
   "source": [
    "sinirsiz_toplama(10,20,30)"
   ]
  },
  {
   "cell_type": "code",
   "execution_count": 75,
   "id": "2d888c57",
   "metadata": {},
   "outputs": [],
   "source": [
    "def sinirsiz_toplama(*args):\n",
    "    print(sum(args))"
   ]
  },
  {
   "cell_type": "code",
   "execution_count": 76,
   "id": "efd47a0d",
   "metadata": {},
   "outputs": [
    {
     "name": "stdout",
     "output_type": "stream",
     "text": [
      "210\n"
     ]
    }
   ],
   "source": [
    "sinirsiz_toplama(10,20,30,40,50,60)"
   ]
  },
  {
   "cell_type": "code",
   "execution_count": 77,
   "id": "4164d4ed",
   "metadata": {},
   "outputs": [],
   "source": [
    "def kwargs_ornek(**kwargs):\n",
    "    print(kwargs)"
   ]
  },
  {
   "cell_type": "code",
   "execution_count": 78,
   "id": "0bb6e6f8",
   "metadata": {},
   "outputs": [
    {
     "name": "stdout",
     "output_type": "stream",
     "text": [
      "{'elma': 100, 'armut': 200, 'karpuz': 300}\n"
     ]
    }
   ],
   "source": [
    "kwargs_ornek(elma=100, armut=200, karpuz=300)"
   ]
  },
  {
   "cell_type": "code",
   "execution_count": 79,
   "id": "f8b03da4",
   "metadata": {},
   "outputs": [
    {
     "name": "stdout",
     "output_type": "stream",
     "text": [
      "{'elma': 100, 'armut': 200}\n"
     ]
    }
   ],
   "source": [
    "kwargs_ornek(elma=100, armut=200)"
   ]
  },
  {
   "cell_type": "code",
   "execution_count": 82,
   "id": "44b7ff73",
   "metadata": {},
   "outputs": [],
   "source": [
    "def kwargs_ornek(**kwargs):\n",
    "    print(sum(kwargs.values()))"
   ]
  },
  {
   "cell_type": "code",
   "execution_count": 83,
   "id": "35c593d4",
   "metadata": {},
   "outputs": [
    {
     "name": "stdout",
     "output_type": "stream",
     "text": [
      "600\n"
     ]
    }
   ],
   "source": [
    "kwargs_ornek(elma=100, armut=200, karpuz=300)"
   ]
  },
  {
   "cell_type": "code",
   "execution_count": null,
   "id": "18c0a1e0",
   "metadata": {},
   "outputs": [],
   "source": []
  }
 ],
 "metadata": {
  "kernelspec": {
   "display_name": "Python 3 (ipykernel)",
   "language": "python",
   "name": "python3"
  },
  "language_info": {
   "codemirror_mode": {
    "name": "ipython",
    "version": 3
   },
   "file_extension": ".py",
   "mimetype": "text/x-python",
   "name": "python",
   "nbconvert_exporter": "python",
   "pygments_lexer": "ipython3",
   "version": "3.10.9"
  }
 },
 "nbformat": 4,
 "nbformat_minor": 5
}
