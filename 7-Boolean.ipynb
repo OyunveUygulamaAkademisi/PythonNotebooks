{
 "cells": [
  {
   "cell_type": "code",
   "execution_count": 1,
   "id": "77ae585d-2901-4577-811d-43f1428b175e",
   "metadata": {},
   "outputs": [],
   "source": [
    "ornek_bool = True"
   ]
  },
  {
   "cell_type": "code",
   "execution_count": 2,
   "id": "e511df81-0b64-4cbe-9068-e9a858747cda",
   "metadata": {},
   "outputs": [],
   "source": [
    "ornek_bool = False"
   ]
  },
  {
   "cell_type": "code",
   "execution_count": 3,
   "id": "d4f738a4-e777-4425-9151-f91890d0c0da",
   "metadata": {},
   "outputs": [
    {
     "data": {
      "text/plain": [
       "bool"
      ]
     },
     "execution_count": 3,
     "metadata": {},
     "output_type": "execute_result"
    }
   ],
   "source": [
    "type(ornek_bool)"
   ]
  },
  {
   "cell_type": "code",
   "execution_count": 4,
   "id": "1411da0a-26b1-4176-87cb-ccb2c385c851",
   "metadata": {},
   "outputs": [],
   "source": [
    "karakter_canli = True"
   ]
  },
  {
   "cell_type": "code",
   "execution_count": 5,
   "id": "7af754b5-4b83-4d41-830d-5e5f1f11fb3b",
   "metadata": {},
   "outputs": [
    {
     "data": {
      "text/plain": [
       "True"
      ]
     },
     "execution_count": 5,
     "metadata": {},
     "output_type": "execute_result"
    }
   ],
   "source": [
    "3 > 2"
   ]
  },
  {
   "cell_type": "code",
   "execution_count": 6,
   "id": "673c9885-d5d9-4f1e-a26e-db0cf1919105",
   "metadata": {},
   "outputs": [],
   "source": [
    "isim = \"atıl\""
   ]
  },
  {
   "cell_type": "code",
   "execution_count": 7,
   "id": "2fef37e4-5c65-4d6b-912a-97c77d4e7630",
   "metadata": {},
   "outputs": [],
   "source": [
    "isim2 = \"atıl\""
   ]
  },
  {
   "cell_type": "code",
   "execution_count": 8,
   "id": "c16d34fa-1b7d-44f5-9e1f-03be2152382a",
   "metadata": {},
   "outputs": [
    {
     "data": {
      "text/plain": [
       "True"
      ]
     },
     "execution_count": 8,
     "metadata": {},
     "output_type": "execute_result"
    }
   ],
   "source": [
    "isim == isim2"
   ]
  },
  {
   "cell_type": "code",
   "execution_count": 9,
   "id": "adee8896-81fa-43f3-9075-b29593e27a36",
   "metadata": {},
   "outputs": [
    {
     "data": {
      "text/plain": [
       "False"
      ]
     },
     "execution_count": 9,
     "metadata": {},
     "output_type": "execute_result"
    }
   ],
   "source": [
    "isim != isim2"
   ]
  },
  {
   "cell_type": "code",
   "execution_count": 10,
   "id": "c2293d90-87f5-489e-bc1d-9a27755d36c4",
   "metadata": {},
   "outputs": [
    {
     "data": {
      "text/plain": [
       "True"
      ]
     },
     "execution_count": 10,
     "metadata": {},
     "output_type": "execute_result"
    }
   ],
   "source": [
    "isim.startswith(\"a\")"
   ]
  },
  {
   "cell_type": "code",
   "execution_count": 11,
   "id": "d0967a0e-3d7f-49cb-a55b-1a9ba3e6b6c8",
   "metadata": {},
   "outputs": [
    {
     "data": {
      "text/plain": [
       "False"
      ]
     },
     "execution_count": 11,
     "metadata": {},
     "output_type": "execute_result"
    }
   ],
   "source": [
    "isim.startswith(\"b\")"
   ]
  },
  {
   "cell_type": "code",
   "execution_count": null,
   "id": "cca7c681-94a4-4f9c-bccb-5a50b41e0e5d",
   "metadata": {},
   "outputs": [],
   "source": []
  }
 ],
 "metadata": {
  "kernelspec": {
   "display_name": "Python 3 (ipykernel)",
   "language": "python",
   "name": "python3"
  },
  "language_info": {
   "codemirror_mode": {
    "name": "ipython",
    "version": 3
   },
   "file_extension": ".py",
   "mimetype": "text/x-python",
   "name": "python",
   "nbconvert_exporter": "python",
   "pygments_lexer": "ipython3",
   "version": "3.12.7"
  }
 },
 "nbformat": 4,
 "nbformat_minor": 5
}
