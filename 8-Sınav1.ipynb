{
 "cells": [
  {
   "cell_type": "code",
   "execution_count": 1,
   "id": "216f08bd-56b8-47bb-98a1-9ad6fede0f4d",
   "metadata": {},
   "outputs": [],
   "source": [
    "# 1) Asagidaki string'in 8. harfini, index yöntemini kullanarak bir degiskene atayiniz"
   ]
  },
  {
   "cell_type": "code",
   "execution_count": 2,
   "id": "6a9def95-6119-4559-9599-afafcd8b35af",
   "metadata": {},
   "outputs": [],
   "source": [
    "my_string = \"YapayZekaVeTeknolojiAkademisi\""
   ]
  },
  {
   "cell_type": "code",
   "execution_count": 3,
   "id": "1d214f61-5ccc-4288-885b-20490daf0318",
   "metadata": {},
   "outputs": [],
   "source": [
    "# 2) Asagidaki String'in 8. ve 12. karakteri arasindaki tum harflerini yazdiriniz (8 ve 12 dahil)"
   ]
  },
  {
   "cell_type": "code",
   "execution_count": 4,
   "id": "49238a15-cddb-4c27-a745-855b2cff096f",
   "metadata": {},
   "outputs": [],
   "source": [
    "my_new_string = \"PythonaMerhabaDiyelim\""
   ]
  },
  {
   "cell_type": "code",
   "execution_count": 5,
   "id": "7a08f48d-9502-4ec8-9857-991b53957724",
   "metadata": {},
   "outputs": [],
   "source": [
    "# 3) Asagidaki String'i kod ile tersten yazin"
   ]
  },
  {
   "cell_type": "code",
   "execution_count": 6,
   "id": "0d3a2d49-388a-4fce-9e75-8af1740cf9b9",
   "metadata": {},
   "outputs": [],
   "source": [
    "my_last_string = \"Afyonkarahisarlilastiramadiklarimizdanmisiniz\""
   ]
  },
  {
   "cell_type": "code",
   "execution_count": 7,
   "id": "73306daf-4df2-43e9-b54c-5fec186c67cb",
   "metadata": {},
   "outputs": [],
   "source": [
    "# 4) Asagidaki islemin sonucu hangi veri tipinde olacaktir?"
   ]
  },
  {
   "cell_type": "markdown",
   "id": "506463fb-aaf6-4ad5-9377-59ff3b9a37b2",
   "metadata": {},
   "source": [
    "8 + 9.2 + 32"
   ]
  },
  {
   "cell_type": "code",
   "execution_count": 8,
   "id": "de82f8bf-d469-4608-b829-145df3b586a7",
   "metadata": {},
   "outputs": [],
   "source": [
    "# 5) Asagidaki islemin sonucu kactir?"
   ]
  },
  {
   "cell_type": "markdown",
   "id": "6684ccd5-0faa-4c2f-86ac-87b6d846d521",
   "metadata": {},
   "source": [
    "6 + 4 * 12"
   ]
  },
  {
   "cell_type": "code",
   "execution_count": 9,
   "id": "d2f2960d-9cef-4068-a85e-a8a56c7e2208",
   "metadata": {},
   "outputs": [],
   "source": [
    "# 6) Bu listeyi en az 2 farkli yoldan olusturunuz: [2,5,\"b\"]"
   ]
  },
  {
   "cell_type": "code",
   "execution_count": 10,
   "id": "0410bbf9-04e1-4a6a-b427-1a8c10b49ab9",
   "metadata": {},
   "outputs": [],
   "source": [
    "# 7) Asagidaki \"c\"'yi tek satirda yazdırınız:"
   ]
  },
  {
   "cell_type": "code",
   "execution_count": 11,
   "id": "543de5db-18fe-4c15-b935-37e1b92b9fd5",
   "metadata": {},
   "outputs": [],
   "source": [
    "my_list = [5.12,500,[1,4,\"c\"],False]"
   ]
  },
  {
   "cell_type": "code",
   "execution_count": 12,
   "id": "4f9b2730-42ac-49f8-8940-dded6a4a0b01",
   "metadata": {},
   "outputs": [],
   "source": [
    "# 8) Asagidaki \"g\"'yi tek satirda yazdırınız:"
   ]
  },
  {
   "cell_type": "code",
   "execution_count": 13,
   "id": "89fdb64a-4a1b-4cdc-a070-9e0e71c63dcd",
   "metadata": {},
   "outputs": [],
   "source": [
    "my_dictionary = {\"k1\":3.14, \"k2\":[320,{\"k3\":\"g\"}]}"
   ]
  },
  {
   "cell_type": "code",
   "execution_count": 14,
   "id": "d4968929-e341-4f32-adf3-bb7fb1c73cc7",
   "metadata": {},
   "outputs": [],
   "source": [
    "# 9) Asagidaki liste set'e cevirilince hangi degerler icinde kalacaktir?"
   ]
  },
  {
   "cell_type": "code",
   "execution_count": 15,
   "id": "865075b8-ae06-47ad-80c0-72a1409cd1e2",
   "metadata": {},
   "outputs": [],
   "source": [
    "my_list_to_be_set = [2,3,8,2,20,21,3,2,8,9,20,21]"
   ]
  },
  {
   "cell_type": "code",
   "execution_count": 16,
   "id": "e7c50cbe-e482-4d03-a39b-45c24d5c615c",
   "metadata": {},
   "outputs": [],
   "source": [
    "# 10) Asagidaki ifadenin sonucu ne olacaktir?"
   ]
  },
  {
   "cell_type": "code",
   "execution_count": 17,
   "id": "857ccd24-2584-4796-98a5-71b34c7811e1",
   "metadata": {},
   "outputs": [],
   "source": [
    "x = 40 * 5 + 3"
   ]
  },
  {
   "cell_type": "code",
   "execution_count": 18,
   "id": "b35bc769-23fa-4237-987a-34e5ff090bb0",
   "metadata": {},
   "outputs": [],
   "source": [
    "y = 208 - 2 * 4"
   ]
  },
  {
   "cell_type": "markdown",
   "id": "1bfb6756-1ea4-478e-937c-c66a7a06475a",
   "metadata": {},
   "source": [
    "x < y"
   ]
  },
  {
   "cell_type": "code",
   "execution_count": null,
   "id": "a7fcd4b2-1f85-4c47-af78-ae10915396c1",
   "metadata": {},
   "outputs": [],
   "source": []
  }
 ],
 "metadata": {
  "kernelspec": {
   "display_name": "Python 3 (ipykernel)",
   "language": "python",
   "name": "python3"
  },
  "language_info": {
   "codemirror_mode": {
    "name": "ipython",
    "version": 3
   },
   "file_extension": ".py",
   "mimetype": "text/x-python",
   "name": "python",
   "nbconvert_exporter": "python",
   "pygments_lexer": "ipython3",
   "version": "3.12.7"
  }
 },
 "nbformat": 4,
 "nbformat_minor": 5
}
