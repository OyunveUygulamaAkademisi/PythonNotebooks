{
 "cells": [
  {
   "cell_type": "code",
   "execution_count": 1,
   "id": "0363d1e1",
   "metadata": {},
   "outputs": [],
   "source": [
    "#for loop, while loop"
   ]
  },
  {
   "cell_type": "code",
   "execution_count": 2,
   "id": "35caf86b",
   "metadata": {},
   "outputs": [],
   "source": [
    "# for döngüsü"
   ]
  },
  {
   "cell_type": "code",
   "execution_count": 3,
   "id": "9fa2d688",
   "metadata": {},
   "outputs": [],
   "source": [
    "numara_listesi = [10,20,30,40,50,60,70]"
   ]
  },
  {
   "cell_type": "code",
   "execution_count": 4,
   "id": "e9dad805",
   "metadata": {},
   "outputs": [
    {
     "data": {
      "text/plain": [
       "7.5"
      ]
     },
     "execution_count": 4,
     "metadata": {},
     "output_type": "execute_result"
    }
   ],
   "source": [
    "numara_listesi[0] / 4 * 3"
   ]
  },
  {
   "cell_type": "code",
   "execution_count": 5,
   "id": "ad7dfbb0",
   "metadata": {},
   "outputs": [
    {
     "data": {
      "text/plain": [
       "15.0"
      ]
     },
     "execution_count": 5,
     "metadata": {},
     "output_type": "execute_result"
    }
   ],
   "source": [
    "numara_listesi[1] / 4 * 3"
   ]
  },
  {
   "cell_type": "code",
   "execution_count": 8,
   "id": "59c85a7e",
   "metadata": {},
   "outputs": [
    {
     "name": "stdout",
     "output_type": "stream",
     "text": [
      "7.5\n",
      "15.0\n",
      "22.5\n",
      "30.0\n",
      "37.5\n",
      "45.0\n",
      "52.5\n"
     ]
    }
   ],
   "source": [
    "for num in numara_listesi:\n",
    "    print(num / 4 * 3)"
   ]
  },
  {
   "cell_type": "code",
   "execution_count": 9,
   "id": "1940b9cb",
   "metadata": {},
   "outputs": [
    {
     "name": "stdout",
     "output_type": "stream",
     "text": [
      "döngü başladı\n",
      "20\n",
      "40\n",
      "60\n",
      "80\n",
      "100\n",
      "120\n",
      "140\n",
      "döngü bitti\n"
     ]
    }
   ],
   "source": [
    "print(\"döngü başladı\")\n",
    "for numara in numara_listesi:\n",
    "    print(numara * 2)\n",
    "print(\"döngü bitti\")"
   ]
  },
  {
   "cell_type": "code",
   "execution_count": 10,
   "id": "ea7a6632",
   "metadata": {},
   "outputs": [
    {
     "data": {
      "text/plain": [
       "[10, 20, 30, 40, 50, 60, 70]"
      ]
     },
     "execution_count": 10,
     "metadata": {},
     "output_type": "execute_result"
    }
   ],
   "source": [
    "numara_listesi"
   ]
  },
  {
   "cell_type": "code",
   "execution_count": 11,
   "id": "47113319",
   "metadata": {},
   "outputs": [],
   "source": [
    "sayi_dizisi = [1,2,3,4,5,6,7,8,9,10]"
   ]
  },
  {
   "cell_type": "code",
   "execution_count": 20,
   "id": "de628d8f",
   "metadata": {},
   "outputs": [
    {
     "name": "stdout",
     "output_type": "stream",
     "text": [
      "for loop bitti\n"
     ]
    }
   ],
   "source": [
    "cift_listesi = []\n",
    "tek_listesi = []\n",
    "for sayi in sayi_dizisi:\n",
    "    if sayi % 2 == 0:\n",
    "        cift_listesi.append(sayi)\n",
    "    else:\n",
    "        tek_listesi.append(sayi)\n",
    "print(\"for loop bitti\")"
   ]
  },
  {
   "cell_type": "code",
   "execution_count": 21,
   "id": "8a5d8840",
   "metadata": {},
   "outputs": [
    {
     "data": {
      "text/plain": [
       "[2, 4, 6, 8, 10]"
      ]
     },
     "execution_count": 21,
     "metadata": {},
     "output_type": "execute_result"
    }
   ],
   "source": [
    "cift_listesi"
   ]
  },
  {
   "cell_type": "code",
   "execution_count": 22,
   "id": "c315326c",
   "metadata": {},
   "outputs": [
    {
     "data": {
      "text/plain": [
       "[1, 3, 5, 7, 9]"
      ]
     },
     "execution_count": 22,
     "metadata": {},
     "output_type": "execute_result"
    }
   ],
   "source": [
    "tek_listesi"
   ]
  },
  {
   "cell_type": "code",
   "execution_count": 23,
   "id": "2aa91813",
   "metadata": {},
   "outputs": [],
   "source": [
    "isim = \"atıl samancıoğlu\""
   ]
  },
  {
   "cell_type": "code",
   "execution_count": 25,
   "id": "5ac7710a",
   "metadata": {},
   "outputs": [
    {
     "name": "stdout",
     "output_type": "stream",
     "text": [
      "A\n",
      "T\n",
      "I\n",
      "L\n",
      " \n",
      "S\n",
      "A\n",
      "M\n",
      "A\n",
      "N\n",
      "C\n",
      "I\n",
      "O\n",
      "Ğ\n",
      "L\n",
      "U\n"
     ]
    }
   ],
   "source": [
    "for karakter in isim:\n",
    "    print(karakter.upper())"
   ]
  },
  {
   "cell_type": "code",
   "execution_count": 26,
   "id": "6f1c3984",
   "metadata": {},
   "outputs": [],
   "source": [
    "ornek_tuple = (10,20,30,40,50,60,70,80)"
   ]
  },
  {
   "cell_type": "code",
   "execution_count": 27,
   "id": "70f18f15",
   "metadata": {},
   "outputs": [
    {
     "name": "stdout",
     "output_type": "stream",
     "text": [
      "5.0\n",
      "10.0\n",
      "15.0\n",
      "20.0\n",
      "25.0\n",
      "30.0\n",
      "35.0\n",
      "40.0\n"
     ]
    }
   ],
   "source": [
    "for num in ornek_tuple:\n",
    "    print(num / 2)"
   ]
  },
  {
   "cell_type": "code",
   "execution_count": 28,
   "id": "9efcedd1",
   "metadata": {},
   "outputs": [
    {
     "data": {
      "text/plain": [
       "(10, 20, 30, 40, 50, 60, 70, 80)"
      ]
     },
     "execution_count": 28,
     "metadata": {},
     "output_type": "execute_result"
    }
   ],
   "source": [
    "ornek_tuple"
   ]
  },
  {
   "cell_type": "code",
   "execution_count": 29,
   "id": "b7faf860",
   "metadata": {},
   "outputs": [],
   "source": [
    "liste_icinde_tuple = [(1,3), (4,5), (10,20), (5,2), (8,9)]"
   ]
  },
  {
   "cell_type": "code",
   "execution_count": 30,
   "id": "6529fbcc",
   "metadata": {},
   "outputs": [
    {
     "data": {
      "text/plain": [
       "5"
      ]
     },
     "execution_count": 30,
     "metadata": {},
     "output_type": "execute_result"
    }
   ],
   "source": [
    "len(liste_icinde_tuple)"
   ]
  },
  {
   "cell_type": "code",
   "execution_count": 31,
   "id": "a0a0575b",
   "metadata": {},
   "outputs": [
    {
     "data": {
      "text/plain": [
       "(1, 3)"
      ]
     },
     "execution_count": 31,
     "metadata": {},
     "output_type": "execute_result"
    }
   ],
   "source": [
    "liste_icinde_tuple[0]"
   ]
  },
  {
   "cell_type": "code",
   "execution_count": 32,
   "id": "efaba692",
   "metadata": {},
   "outputs": [
    {
     "name": "stdout",
     "output_type": "stream",
     "text": [
      "(1, 3)\n",
      "(4, 5)\n",
      "(10, 20)\n",
      "(5, 2)\n",
      "(8, 9)\n"
     ]
    }
   ],
   "source": [
    "for eleman in liste_icinde_tuple:\n",
    "    print(eleman)"
   ]
  },
  {
   "cell_type": "code",
   "execution_count": 33,
   "id": "0ebf464a",
   "metadata": {},
   "outputs": [],
   "source": [
    "# tuple unpacking"
   ]
  },
  {
   "cell_type": "code",
   "execution_count": 36,
   "id": "90f230b4",
   "metadata": {},
   "outputs": [
    {
     "data": {
      "text/plain": [
       "3"
      ]
     },
     "execution_count": 36,
     "metadata": {},
     "output_type": "execute_result"
    }
   ],
   "source": [
    "liste_icinde_tuple[0][1]"
   ]
  },
  {
   "cell_type": "code",
   "execution_count": 38,
   "id": "0b9002d4",
   "metadata": {},
   "outputs": [
    {
     "name": "stdout",
     "output_type": "stream",
     "text": [
      "3\n",
      "5\n",
      "20\n",
      "2\n",
      "9\n"
     ]
    }
   ],
   "source": [
    "for (x, y) in liste_icinde_tuple:\n",
    "    print(y)"
   ]
  },
  {
   "cell_type": "code",
   "execution_count": 39,
   "id": "77a1c22e",
   "metadata": {},
   "outputs": [],
   "source": [
    "tuple_list = [(1,2,3), (4,5,6), (7,8,9)]"
   ]
  },
  {
   "cell_type": "code",
   "execution_count": 43,
   "id": "e2c49766",
   "metadata": {},
   "outputs": [
    {
     "name": "stdout",
     "output_type": "stream",
     "text": [
      "3\n",
      "6\n",
      "9\n"
     ]
    }
   ],
   "source": [
    "for a,b,c in tuple_list:\n",
    "    print(c)"
   ]
  },
  {
   "cell_type": "code",
   "execution_count": 44,
   "id": "217cf81a",
   "metadata": {},
   "outputs": [],
   "source": [
    "sozluk_ornegi = {\"a\" : 10, \"b\":20, \"c\":30}"
   ]
  },
  {
   "cell_type": "code",
   "execution_count": 47,
   "id": "3c7723af",
   "metadata": {},
   "outputs": [
    {
     "data": {
      "text/plain": [
       "dict_items([('a', 10), ('b', 20), ('c', 30)])"
      ]
     },
     "execution_count": 47,
     "metadata": {},
     "output_type": "execute_result"
    }
   ],
   "source": [
    "sozluk_ornegi.items()"
   ]
  },
  {
   "cell_type": "code",
   "execution_count": 52,
   "id": "0a8b5635",
   "metadata": {},
   "outputs": [
    {
     "name": "stdout",
     "output_type": "stream",
     "text": [
      "10\n",
      "20\n",
      "30\n"
     ]
    }
   ],
   "source": [
    "for key,value in sozluk_ornegi.items():\n",
    "    print(value)"
   ]
  },
  {
   "cell_type": "code",
   "execution_count": 53,
   "id": "3e87c92f",
   "metadata": {},
   "outputs": [
    {
     "name": "stdout",
     "output_type": "stream",
     "text": [
      "10\n",
      "20\n",
      "30\n"
     ]
    }
   ],
   "source": [
    "for v in sozluk_ornegi.values():\n",
    "    print(v)"
   ]
  },
  {
   "cell_type": "code",
   "execution_count": 54,
   "id": "c69702c1",
   "metadata": {},
   "outputs": [],
   "source": [
    "ornek_set = {1,2,3,4,5,6,7}"
   ]
  },
  {
   "cell_type": "code",
   "execution_count": 55,
   "id": "e77e0227",
   "metadata": {},
   "outputs": [
    {
     "data": {
      "text/plain": [
       "{1, 2, 3, 4, 5, 6, 7}"
      ]
     },
     "execution_count": 55,
     "metadata": {},
     "output_type": "execute_result"
    }
   ],
   "source": [
    "ornek_set"
   ]
  },
  {
   "cell_type": "code",
   "execution_count": 58,
   "id": "1bdcc252",
   "metadata": {},
   "outputs": [
    {
     "name": "stdout",
     "output_type": "stream",
     "text": [
      "2\n",
      "4\n",
      "6\n",
      "8\n",
      "10\n",
      "12\n",
      "14\n"
     ]
    }
   ],
   "source": [
    "sonuc_listesi = []\n",
    "for num in ornek_set:\n",
    "    print(num * 2)\n",
    "    sonuc_listesi.append(num * 2)"
   ]
  },
  {
   "cell_type": "code",
   "execution_count": 59,
   "id": "459e49cc",
   "metadata": {},
   "outputs": [
    {
     "data": {
      "text/plain": [
       "[2, 4, 6, 8, 10, 12, 14]"
      ]
     },
     "execution_count": 59,
     "metadata": {},
     "output_type": "execute_result"
    }
   ],
   "source": [
    "sonuc_listesi"
   ]
  },
  {
   "cell_type": "code",
   "execution_count": 60,
   "id": "b5df720f",
   "metadata": {},
   "outputs": [],
   "source": [
    "karisik_set = {\"a\", 20, \"b\", 3.14, True}"
   ]
  },
  {
   "cell_type": "code",
   "execution_count": 62,
   "id": "777c1d20",
   "metadata": {},
   "outputs": [],
   "source": [
    "sonuc_listesi = []\n",
    "for eleman in karisik_set:\n",
    "    sonuc_listesi.append(eleman)"
   ]
  },
  {
   "cell_type": "code",
   "execution_count": 63,
   "id": "a5f7c905",
   "metadata": {},
   "outputs": [
    {
     "data": {
      "text/plain": [
       "[True, 3.14, 'b', 20, 'a']"
      ]
     },
     "execution_count": 63,
     "metadata": {},
     "output_type": "execute_result"
    }
   ],
   "source": [
    "sonuc_listesi"
   ]
  },
  {
   "cell_type": "code",
   "execution_count": 64,
   "id": "4aa7d4b9",
   "metadata": {},
   "outputs": [],
   "source": [
    "# continue, break, pass"
   ]
  },
  {
   "cell_type": "code",
   "execution_count": 65,
   "id": "62084d10",
   "metadata": {},
   "outputs": [],
   "source": [
    "numara_listesi = [10,20,30,40,50,60,70,80]"
   ]
  },
  {
   "cell_type": "code",
   "execution_count": 66,
   "id": "3d109f0a",
   "metadata": {},
   "outputs": [
    {
     "name": "stdout",
     "output_type": "stream",
     "text": [
      "döngü başladı\n",
      "10\n",
      "20\n",
      "30\n",
      "40\n",
      "50\n",
      "60\n",
      "70\n",
      "80\n",
      "döngü bitti\n"
     ]
    }
   ],
   "source": [
    "print(\"döngü başladı\")\n",
    "for num in numara_listesi:\n",
    "    print(num)\n",
    "print(\"döngü bitti\")"
   ]
  },
  {
   "cell_type": "code",
   "execution_count": 71,
   "id": "2bc9ea37",
   "metadata": {},
   "outputs": [
    {
     "name": "stdout",
     "output_type": "stream",
     "text": [
      "10\n",
      "20\n",
      "30\n",
      "40\n"
     ]
    }
   ],
   "source": [
    "for num in numara_listesi:\n",
    "    print(num)\n",
    "    if num == 40:\n",
    "        break"
   ]
  },
  {
   "cell_type": "code",
   "execution_count": 72,
   "id": "1afcfb9a",
   "metadata": {},
   "outputs": [
    {
     "name": "stdout",
     "output_type": "stream",
     "text": [
      "10\n",
      "20\n",
      "30\n",
      "50\n",
      "60\n",
      "70\n",
      "80\n"
     ]
    }
   ],
   "source": [
    "for num in numara_listesi:\n",
    "    if num == 40:\n",
    "        continue\n",
    "    print(num)"
   ]
  },
  {
   "cell_type": "code",
   "execution_count": 76,
   "id": "e5b39356",
   "metadata": {},
   "outputs": [],
   "source": [
    "if 4 > 3:\n",
    "    pass"
   ]
  },
  {
   "cell_type": "code",
   "execution_count": 77,
   "id": "e9e8667f",
   "metadata": {},
   "outputs": [],
   "source": [
    "for num in numara_listesi:\n",
    "    pass"
   ]
  },
  {
   "cell_type": "code",
   "execution_count": 78,
   "id": "1e065111",
   "metadata": {},
   "outputs": [],
   "source": [
    "# while döngüsü"
   ]
  },
  {
   "cell_type": "code",
   "execution_count": 79,
   "id": "94d7776a",
   "metadata": {},
   "outputs": [
    {
     "name": "stdout",
     "output_type": "stream",
     "text": [
      "döngü başladı\n",
      "0\n",
      "1\n",
      "2\n",
      "3\n",
      "4\n",
      "5\n",
      "6\n",
      "7\n",
      "8\n",
      "9\n",
      "döngü bitiyor\n"
     ]
    }
   ],
   "source": [
    "x = 0\n",
    "print(\"döngü başladı\")\n",
    "while x < 10:\n",
    "    print(x)\n",
    "    x = x + 1\n",
    "print(\"döngü bitiyor\")"
   ]
  },
  {
   "cell_type": "code",
   "execution_count": 80,
   "id": "bbfe5089",
   "metadata": {},
   "outputs": [],
   "source": [
    "ornek_liste = [10,10,10,20,30,40,50,60,50,50,60,70]"
   ]
  },
  {
   "cell_type": "code",
   "execution_count": 81,
   "id": "0a02c045",
   "metadata": {},
   "outputs": [
    {
     "data": {
      "text/plain": [
       "[10, 10, 10, 20, 30, 40, 50, 60, 50, 50, 60, 70]"
      ]
     },
     "execution_count": 81,
     "metadata": {},
     "output_type": "execute_result"
    }
   ],
   "source": [
    "ornek_liste"
   ]
  },
  {
   "cell_type": "code",
   "execution_count": 82,
   "id": "95b6dbb3",
   "metadata": {},
   "outputs": [],
   "source": [
    "ornek_liste.remove(10)"
   ]
  },
  {
   "cell_type": "code",
   "execution_count": 83,
   "id": "3b0cd95b",
   "metadata": {},
   "outputs": [
    {
     "data": {
      "text/plain": [
       "[10, 10, 20, 30, 40, 50, 60, 50, 50, 60, 70]"
      ]
     },
     "execution_count": 83,
     "metadata": {},
     "output_type": "execute_result"
    }
   ],
   "source": [
    "ornek_liste"
   ]
  },
  {
   "cell_type": "code",
   "execution_count": 84,
   "id": "c28d82aa",
   "metadata": {},
   "outputs": [
    {
     "name": "stdout",
     "output_type": "stream",
     "text": [
      "Help on built-in function remove:\n",
      "\n",
      "remove(value, /) method of builtins.list instance\n",
      "    Remove first occurrence of value.\n",
      "    \n",
      "    Raises ValueError if the value is not present.\n",
      "\n"
     ]
    }
   ],
   "source": [
    "help(ornek_liste.remove)"
   ]
  },
  {
   "cell_type": "code",
   "execution_count": 85,
   "id": "36625a3f",
   "metadata": {},
   "outputs": [],
   "source": [
    "while 50 in ornek_liste:\n",
    "    ornek_liste.remove(50)"
   ]
  },
  {
   "cell_type": "code",
   "execution_count": 86,
   "id": "c5717cd2",
   "metadata": {},
   "outputs": [
    {
     "data": {
      "text/plain": [
       "[10, 10, 20, 30, 40, 60, 60, 70]"
      ]
     },
     "execution_count": 86,
     "metadata": {},
     "output_type": "execute_result"
    }
   ],
   "source": [
    "ornek_liste"
   ]
  },
  {
   "cell_type": "code",
   "execution_count": null,
   "id": "2e5ee29b",
   "metadata": {},
   "outputs": [],
   "source": []
  }
 ],
 "metadata": {
  "kernelspec": {
   "display_name": "Python 3 (ipykernel)",
   "language": "python",
   "name": "python3"
  },
  "language_info": {
   "codemirror_mode": {
    "name": "ipython",
    "version": 3
   },
   "file_extension": ".py",
   "mimetype": "text/x-python",
   "name": "python",
   "nbconvert_exporter": "python",
   "pygments_lexer": "ipython3",
   "version": "3.10.9"
  }
 },
 "nbformat": 4,
 "nbformat_minor": 5
}
