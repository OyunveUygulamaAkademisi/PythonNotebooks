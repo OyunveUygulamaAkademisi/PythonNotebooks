{
 "cells": [
  {
   "cell_type": "code",
   "execution_count": 1,
   "id": "23a2e33a-359b-484d-bdd5-82ea32e31ee2",
   "metadata": {},
   "outputs": [],
   "source": [
    "# list, dict, set, tuple"
   ]
  },
  {
   "cell_type": "code",
   "execution_count": 2,
   "id": "ce375052-1a5f-42ab-88ce-8c7bee66608f",
   "metadata": {},
   "outputs": [],
   "source": [
    "numara_listesi = [10, 20, 30, 40, 50, 60, 70, 80]"
   ]
  },
  {
   "cell_type": "code",
   "execution_count": 3,
   "id": "6da13681-451a-419a-8584-1627155dcd67",
   "metadata": {},
   "outputs": [
    {
     "data": {
      "text/plain": [
       "10"
      ]
     },
     "execution_count": 3,
     "metadata": {},
     "output_type": "execute_result"
    }
   ],
   "source": [
    "numara_listesi[0]"
   ]
  },
  {
   "cell_type": "code",
   "execution_count": 4,
   "id": "278bd547-9e02-4b4c-b615-76fa36d6dd78",
   "metadata": {},
   "outputs": [
    {
     "data": {
      "text/plain": [
       "20"
      ]
     },
     "execution_count": 4,
     "metadata": {},
     "output_type": "execute_result"
    }
   ],
   "source": [
    "numara_listesi[1]"
   ]
  },
  {
   "cell_type": "code",
   "execution_count": 5,
   "id": "968266cb-1d67-4576-870b-fb9ece664ed5",
   "metadata": {},
   "outputs": [
    {
     "data": {
      "text/plain": [
       "80"
      ]
     },
     "execution_count": 5,
     "metadata": {},
     "output_type": "execute_result"
    }
   ],
   "source": [
    "numara_listesi[-1]"
   ]
  },
  {
   "cell_type": "code",
   "execution_count": 6,
   "id": "063f4ccb-2a7f-45ad-a3ae-da10ff4ff3d8",
   "metadata": {},
   "outputs": [
    {
     "data": {
      "text/plain": [
       "8"
      ]
     },
     "execution_count": 6,
     "metadata": {},
     "output_type": "execute_result"
    }
   ],
   "source": [
    "len(numara_listesi)"
   ]
  },
  {
   "cell_type": "code",
   "execution_count": 7,
   "id": "c89b79a3-73fa-42b8-9f71-8ff52aab71c2",
   "metadata": {},
   "outputs": [
    {
     "data": {
      "text/plain": [
       "list"
      ]
     },
     "execution_count": 7,
     "metadata": {},
     "output_type": "execute_result"
    }
   ],
   "source": [
    "type(numara_listesi)"
   ]
  },
  {
   "cell_type": "code",
   "execution_count": 8,
   "id": "b02435b0-6cdf-46f9-b6fc-5a793371d3f7",
   "metadata": {},
   "outputs": [],
   "source": [
    "isim = \"atıl\""
   ]
  },
  {
   "cell_type": "code",
   "execution_count": 9,
   "id": "6a9ec453-3512-4d2a-a8ec-f7bb6eac106a",
   "metadata": {},
   "outputs": [
    {
     "data": {
      "text/plain": [
       "'a'"
      ]
     },
     "execution_count": 9,
     "metadata": {},
     "output_type": "execute_result"
    }
   ],
   "source": [
    "isim[0]"
   ]
  },
  {
   "cell_type": "code",
   "execution_count": 11,
   "id": "21dafa7d-7882-48a6-9503-455ac396ad19",
   "metadata": {},
   "outputs": [],
   "source": [
    "# isim[0] = \"b\" -> bu çalışmaz"
   ]
  },
  {
   "cell_type": "code",
   "execution_count": 12,
   "id": "4fce426c-b988-4654-8ce1-d7e9fefa2b9d",
   "metadata": {},
   "outputs": [
    {
     "data": {
      "text/plain": [
       "[10, 20, 30, 40, 50, 60, 70, 80]"
      ]
     },
     "execution_count": 12,
     "metadata": {},
     "output_type": "execute_result"
    }
   ],
   "source": [
    "numara_listesi"
   ]
  },
  {
   "cell_type": "code",
   "execution_count": 13,
   "id": "f107609f-17ca-46c8-80be-989f7234a6d7",
   "metadata": {},
   "outputs": [],
   "source": [
    "numara_listesi[0] = 100"
   ]
  },
  {
   "cell_type": "code",
   "execution_count": 14,
   "id": "c9d9f0e4-7c15-48b4-a620-895d9f8c9f99",
   "metadata": {},
   "outputs": [
    {
     "data": {
      "text/plain": [
       "[100, 20, 30, 40, 50, 60, 70, 80]"
      ]
     },
     "execution_count": 14,
     "metadata": {},
     "output_type": "execute_result"
    }
   ],
   "source": [
    "numara_listesi"
   ]
  },
  {
   "cell_type": "code",
   "execution_count": 15,
   "id": "0ed5075e-21e8-44b2-bca3-078ff5d780fd",
   "metadata": {},
   "outputs": [],
   "source": [
    "# [starting_index : stopping_index : step_size]"
   ]
  },
  {
   "cell_type": "code",
   "execution_count": 16,
   "id": "c4b8ebc3-7670-4a72-88e5-6c1d15b3ad05",
   "metadata": {},
   "outputs": [
    {
     "data": {
      "text/plain": [
       "[50, 60, 70, 80]"
      ]
     },
     "execution_count": 16,
     "metadata": {},
     "output_type": "execute_result"
    }
   ],
   "source": [
    "numara_listesi[4::]"
   ]
  },
  {
   "cell_type": "code",
   "execution_count": 17,
   "id": "0d77d5a3-0921-4832-bb2d-1bb9d019beb9",
   "metadata": {},
   "outputs": [
    {
     "data": {
      "text/plain": [
       "[100, 20, 30, 40, 50]"
      ]
     },
     "execution_count": 17,
     "metadata": {},
     "output_type": "execute_result"
    }
   ],
   "source": [
    "numara_listesi[:5:]"
   ]
  },
  {
   "cell_type": "code",
   "execution_count": 18,
   "id": "4ef330d3-b608-4069-a4a5-b099d512208e",
   "metadata": {},
   "outputs": [
    {
     "data": {
      "text/plain": [
       "[100, 30, 50, 70]"
      ]
     },
     "execution_count": 18,
     "metadata": {},
     "output_type": "execute_result"
    }
   ],
   "source": [
    "numara_listesi[::2]"
   ]
  },
  {
   "cell_type": "code",
   "execution_count": 19,
   "id": "4a2ee14d-8f05-45df-9e76-a67264197306",
   "metadata": {},
   "outputs": [
    {
     "data": {
      "text/plain": [
       "[20, 40, 60]"
      ]
     },
     "execution_count": 19,
     "metadata": {},
     "output_type": "execute_result"
    }
   ],
   "source": [
    "numara_listesi[1:6:2]"
   ]
  },
  {
   "cell_type": "code",
   "execution_count": 20,
   "id": "c68cdda9-f56b-41cf-b3d4-0843f60dbf43",
   "metadata": {},
   "outputs": [
    {
     "data": {
      "text/plain": [
       "[100, 20, 30, 40, 50, 60, 70, 80]"
      ]
     },
     "execution_count": 20,
     "metadata": {},
     "output_type": "execute_result"
    }
   ],
   "source": [
    "numara_listesi"
   ]
  },
  {
   "cell_type": "code",
   "execution_count": 21,
   "id": "78a9deef-ea1a-4b12-801f-95160ddfbaa0",
   "metadata": {},
   "outputs": [],
   "source": [
    "numara_listesi.append(90)"
   ]
  },
  {
   "cell_type": "code",
   "execution_count": 22,
   "id": "e4743ccc-1de0-4fb8-b551-9f8b15dd5d29",
   "metadata": {},
   "outputs": [
    {
     "data": {
      "text/plain": [
       "[100, 20, 30, 40, 50, 60, 70, 80, 90]"
      ]
     },
     "execution_count": 22,
     "metadata": {},
     "output_type": "execute_result"
    }
   ],
   "source": [
    "numara_listesi"
   ]
  },
  {
   "cell_type": "code",
   "execution_count": 23,
   "id": "c705d856-da20-488c-9523-ffcde2dd786d",
   "metadata": {},
   "outputs": [],
   "source": [
    "yeni_liste = numara_listesi.copy()"
   ]
  },
  {
   "cell_type": "code",
   "execution_count": 24,
   "id": "c422edf5-0372-499c-9a21-13f4bde082d6",
   "metadata": {},
   "outputs": [
    {
     "data": {
      "text/plain": [
       "[100, 20, 30, 40, 50, 60, 70, 80, 90]"
      ]
     },
     "execution_count": 24,
     "metadata": {},
     "output_type": "execute_result"
    }
   ],
   "source": [
    "yeni_liste"
   ]
  },
  {
   "cell_type": "code",
   "execution_count": 25,
   "id": "71a04436-7017-4169-8ad5-f1709dd2121a",
   "metadata": {},
   "outputs": [
    {
     "data": {
      "text/plain": [
       "[100, 20, 30, 40, 50, 60, 70, 80, 90]"
      ]
     },
     "execution_count": 25,
     "metadata": {},
     "output_type": "execute_result"
    }
   ],
   "source": [
    "numara_listesi"
   ]
  },
  {
   "cell_type": "code",
   "execution_count": 26,
   "id": "85e0d260-19df-4b3d-85a5-db13e5e76f0d",
   "metadata": {},
   "outputs": [
    {
     "data": {
      "text/plain": [
       "1"
      ]
     },
     "execution_count": 26,
     "metadata": {},
     "output_type": "execute_result"
    }
   ],
   "source": [
    "numara_listesi.count(20)"
   ]
  },
  {
   "cell_type": "code",
   "execution_count": 27,
   "id": "fcbf73b8-932b-40a0-b9e7-c460f4c1621c",
   "metadata": {},
   "outputs": [
    {
     "data": {
      "text/plain": [
       "0"
      ]
     },
     "execution_count": 27,
     "metadata": {},
     "output_type": "execute_result"
    }
   ],
   "source": [
    "numara_listesi.count(25)"
   ]
  },
  {
   "cell_type": "code",
   "execution_count": 28,
   "id": "25b21abf-75f1-4cc0-acf1-121bd1f80098",
   "metadata": {},
   "outputs": [],
   "source": [
    "liste1 = [10,20,30]\n",
    "liste2 = [30,40,50]"
   ]
  },
  {
   "cell_type": "code",
   "execution_count": 29,
   "id": "8d564bb1-0b55-4666-a0c6-75b3cf82a320",
   "metadata": {},
   "outputs": [],
   "source": [
    "liste1.extend(liste2)"
   ]
  },
  {
   "cell_type": "code",
   "execution_count": 30,
   "id": "a30cf90e-0904-49c7-a225-60b4f0da2d8b",
   "metadata": {},
   "outputs": [
    {
     "data": {
      "text/plain": [
       "[10, 20, 30, 30, 40, 50]"
      ]
     },
     "execution_count": 30,
     "metadata": {},
     "output_type": "execute_result"
    }
   ],
   "source": [
    "liste1"
   ]
  },
  {
   "cell_type": "code",
   "execution_count": 31,
   "id": "f0fa5912-67f4-485b-bb9f-ec7a62933d1a",
   "metadata": {},
   "outputs": [
    {
     "data": {
      "text/plain": [
       "[100, 20, 30, 40, 50, 60, 70, 80, 90]"
      ]
     },
     "execution_count": 31,
     "metadata": {},
     "output_type": "execute_result"
    }
   ],
   "source": [
    "numara_listesi"
   ]
  },
  {
   "cell_type": "code",
   "execution_count": 32,
   "id": "124095e6-6808-46d8-bf3c-6628b6ba67b9",
   "metadata": {},
   "outputs": [
    {
     "data": {
      "text/plain": [
       "2"
      ]
     },
     "execution_count": 32,
     "metadata": {},
     "output_type": "execute_result"
    }
   ],
   "source": [
    "numara_listesi.index(30)"
   ]
  },
  {
   "cell_type": "code",
   "execution_count": 33,
   "id": "fac87189-0d41-45c9-897b-e5827c41111f",
   "metadata": {},
   "outputs": [
    {
     "name": "stdout",
     "output_type": "stream",
     "text": [
      "Help on built-in function insert:\n",
      "\n",
      "insert(index, object, /) method of builtins.list instance\n",
      "    Insert object before index.\n",
      "\n"
     ]
    }
   ],
   "source": [
    "help(numara_listesi.insert)"
   ]
  },
  {
   "cell_type": "code",
   "execution_count": 34,
   "id": "3d8e7b48-b1ae-4523-9ad1-d29c017d2e67",
   "metadata": {},
   "outputs": [],
   "source": [
    "numara_listesi.insert(2, 250)"
   ]
  },
  {
   "cell_type": "code",
   "execution_count": 35,
   "id": "ed59c7ae-f61f-4ab7-be67-8b3a3442330d",
   "metadata": {},
   "outputs": [
    {
     "data": {
      "text/plain": [
       "[100, 20, 250, 30, 40, 50, 60, 70, 80, 90]"
      ]
     },
     "execution_count": 35,
     "metadata": {},
     "output_type": "execute_result"
    }
   ],
   "source": [
    "numara_listesi"
   ]
  },
  {
   "cell_type": "code",
   "execution_count": 36,
   "id": "f00cc6f2-bfe4-4952-91ce-7fdc8ce765dd",
   "metadata": {},
   "outputs": [
    {
     "data": {
      "text/plain": [
       "90"
      ]
     },
     "execution_count": 36,
     "metadata": {},
     "output_type": "execute_result"
    }
   ],
   "source": [
    "numara_listesi.pop()"
   ]
  },
  {
   "cell_type": "code",
   "execution_count": 37,
   "id": "0dc08c5d-0a25-4e65-bb95-e58fbd2e43e0",
   "metadata": {},
   "outputs": [
    {
     "data": {
      "text/plain": [
       "[100, 20, 250, 30, 40, 50, 60, 70, 80]"
      ]
     },
     "execution_count": 37,
     "metadata": {},
     "output_type": "execute_result"
    }
   ],
   "source": [
    "numara_listesi"
   ]
  },
  {
   "cell_type": "code",
   "execution_count": 38,
   "id": "eaf859d4-c009-4300-b774-34c609440ea0",
   "metadata": {},
   "outputs": [],
   "source": [
    "numara_listesi.remove(250)"
   ]
  },
  {
   "cell_type": "code",
   "execution_count": 39,
   "id": "f86d6deb-070b-4730-8d26-fa7ae65d35ff",
   "metadata": {},
   "outputs": [
    {
     "data": {
      "text/plain": [
       "[100, 20, 30, 40, 50, 60, 70, 80]"
      ]
     },
     "execution_count": 39,
     "metadata": {},
     "output_type": "execute_result"
    }
   ],
   "source": [
    "numara_listesi"
   ]
  },
  {
   "cell_type": "code",
   "execution_count": 40,
   "id": "79fe7f37-615f-4200-8c3b-7fa5dfdc8699",
   "metadata": {},
   "outputs": [],
   "source": [
    "numara_listesi.reverse()"
   ]
  },
  {
   "cell_type": "code",
   "execution_count": 41,
   "id": "0db6ee9f-7781-448c-aa9c-456f0534175c",
   "metadata": {},
   "outputs": [
    {
     "data": {
      "text/plain": [
       "[80, 70, 60, 50, 40, 30, 20, 100]"
      ]
     },
     "execution_count": 41,
     "metadata": {},
     "output_type": "execute_result"
    }
   ],
   "source": [
    "numara_listesi"
   ]
  },
  {
   "cell_type": "code",
   "execution_count": 42,
   "id": "7ed0eb16-fc47-49af-990e-89575ebdaa2b",
   "metadata": {},
   "outputs": [],
   "source": [
    "numara_listesi.sort()"
   ]
  },
  {
   "cell_type": "code",
   "execution_count": 43,
   "id": "3084ce30-3c9a-4b5b-9198-420816fea1e4",
   "metadata": {},
   "outputs": [
    {
     "data": {
      "text/plain": [
       "[20, 30, 40, 50, 60, 70, 80, 100]"
      ]
     },
     "execution_count": 43,
     "metadata": {},
     "output_type": "execute_result"
    }
   ],
   "source": [
    "numara_listesi"
   ]
  },
  {
   "cell_type": "code",
   "execution_count": 44,
   "id": "ce78a8f3-a096-4cff-82fc-9d4562871298",
   "metadata": {},
   "outputs": [],
   "source": [
    "liste1 = [10,20,30]\n",
    "liste2 = [20,30,40]"
   ]
  },
  {
   "cell_type": "code",
   "execution_count": 45,
   "id": "fcb4355a-5064-4d63-9d02-e6d638798090",
   "metadata": {},
   "outputs": [
    {
     "data": {
      "text/plain": [
       "[10, 20, 30, 20, 30, 40]"
      ]
     },
     "execution_count": 45,
     "metadata": {},
     "output_type": "execute_result"
    }
   ],
   "source": [
    "liste1 + liste2"
   ]
  },
  {
   "cell_type": "code",
   "execution_count": 46,
   "id": "f53a5e6d-5289-4c05-94a2-fcae552abf65",
   "metadata": {},
   "outputs": [],
   "source": [
    "liste_toplami = liste1 + liste2"
   ]
  },
  {
   "cell_type": "code",
   "execution_count": 47,
   "id": "a21d1f64-d168-4870-bc49-33b85cbf2fc5",
   "metadata": {},
   "outputs": [
    {
     "data": {
      "text/plain": [
       "[10, 20, 30, 20, 30, 40]"
      ]
     },
     "execution_count": 47,
     "metadata": {},
     "output_type": "execute_result"
    }
   ],
   "source": [
    "liste_toplami"
   ]
  },
  {
   "cell_type": "code",
   "execution_count": 51,
   "id": "f298ec92-0664-4b26-b444-228d9416ef6b",
   "metadata": {},
   "outputs": [
    {
     "data": {
      "text/plain": [
       "[10, 20, 30, 10, 20, 30, 10, 20, 30]"
      ]
     },
     "execution_count": 51,
     "metadata": {},
     "output_type": "execute_result"
    }
   ],
   "source": [
    "liste1 * 3"
   ]
  },
  {
   "cell_type": "code",
   "execution_count": 52,
   "id": "152d5f61-7e03-43da-9f77-61807de5f976",
   "metadata": {},
   "outputs": [],
   "source": [
    "string_listesi = [\"atıl\", \"samancıoğlu\", \"mehmet\", \"ahmet\", \"ayşe\", \"dfsd\"]"
   ]
  },
  {
   "cell_type": "code",
   "execution_count": 53,
   "id": "693c664a-b375-4b69-bbb6-e95477903237",
   "metadata": {},
   "outputs": [
    {
     "data": {
      "text/plain": [
       "6"
      ]
     },
     "execution_count": 53,
     "metadata": {},
     "output_type": "execute_result"
    }
   ],
   "source": [
    "len(string_listesi)"
   ]
  },
  {
   "cell_type": "code",
   "execution_count": 54,
   "id": "8e336e8d-4313-4412-88c4-46a03ee01aae",
   "metadata": {},
   "outputs": [],
   "source": [
    "string_listesi[-1] = \"zeynep\""
   ]
  },
  {
   "cell_type": "code",
   "execution_count": 55,
   "id": "f3e31fbf-e7c8-40f1-ae6d-801655347b7b",
   "metadata": {},
   "outputs": [
    {
     "data": {
      "text/plain": [
       "['atıl', 'samancıoğlu', 'mehmet', 'ahmet', 'ayşe', 'zeynep']"
      ]
     },
     "execution_count": 55,
     "metadata": {},
     "output_type": "execute_result"
    }
   ],
   "source": [
    "string_listesi"
   ]
  },
  {
   "cell_type": "code",
   "execution_count": 56,
   "id": "072f23be-d8a4-4627-a284-3020b368d439",
   "metadata": {},
   "outputs": [],
   "source": [
    "string_listesi.sort()"
   ]
  },
  {
   "cell_type": "code",
   "execution_count": 57,
   "id": "24b19cab-3062-4f90-b8f7-0fa51c4fdace",
   "metadata": {},
   "outputs": [
    {
     "data": {
      "text/plain": [
       "['ahmet', 'atıl', 'ayşe', 'mehmet', 'samancıoğlu', 'zeynep']"
      ]
     },
     "execution_count": 57,
     "metadata": {},
     "output_type": "execute_result"
    }
   ],
   "source": [
    "string_listesi"
   ]
  },
  {
   "cell_type": "code",
   "execution_count": 58,
   "id": "49ab0ef1-baa8-4584-9456-e5cb342ac63f",
   "metadata": {},
   "outputs": [],
   "source": [
    "karisik_liste = [100, 200, 5.25, 3.14, \"atıl\"]"
   ]
  },
  {
   "cell_type": "code",
   "execution_count": 59,
   "id": "9ba7e68b-3283-4368-9200-5541c9f8da50",
   "metadata": {},
   "outputs": [
    {
     "data": {
      "text/plain": [
       "10000"
      ]
     },
     "execution_count": 59,
     "metadata": {},
     "output_type": "execute_result"
    }
   ],
   "source": [
    "karisik_liste[0] * 100"
   ]
  },
  {
   "cell_type": "code",
   "execution_count": 60,
   "id": "5c97d37a-8d20-456f-9ab0-1eb18753e9da",
   "metadata": {},
   "outputs": [
    {
     "data": {
      "text/plain": [
       "'atılatıl'"
      ]
     },
     "execution_count": 60,
     "metadata": {},
     "output_type": "execute_result"
    }
   ],
   "source": [
    "karisik_liste[-1] * 2"
   ]
  },
  {
   "cell_type": "code",
   "execution_count": 61,
   "id": "49a7652d-5c30-4325-b493-97f10c182d27",
   "metadata": {},
   "outputs": [
    {
     "data": {
      "text/plain": [
       "5"
      ]
     },
     "execution_count": 61,
     "metadata": {},
     "output_type": "execute_result"
    }
   ],
   "source": [
    "len(karisik_liste)"
   ]
  },
  {
   "cell_type": "code",
   "execution_count": 62,
   "id": "e80c389c-5db9-46db-83ed-193371bc40af",
   "metadata": {},
   "outputs": [],
   "source": [
    "#nested_list"
   ]
  },
  {
   "cell_type": "code",
   "execution_count": 63,
   "id": "4a7c951a-0f91-47e8-a12b-9f25b15c57f2",
   "metadata": {},
   "outputs": [],
   "source": [
    "ornek_liste = [100, 200, \"atıl\", [10,20,30], 5.25]"
   ]
  },
  {
   "cell_type": "code",
   "execution_count": 64,
   "id": "ad3010c8-f1a5-474c-a65f-f8ce8d038ff0",
   "metadata": {},
   "outputs": [
    {
     "data": {
      "text/plain": [
       "5"
      ]
     },
     "execution_count": 64,
     "metadata": {},
     "output_type": "execute_result"
    }
   ],
   "source": [
    "len(ornek_liste)"
   ]
  },
  {
   "cell_type": "code",
   "execution_count": 66,
   "id": "3d56fd42-0f01-4d51-8a63-456cea5a50a2",
   "metadata": {},
   "outputs": [],
   "source": [
    "ic_liste = ornek_liste[3]"
   ]
  },
  {
   "cell_type": "code",
   "execution_count": 68,
   "id": "27f3de59-bd2e-47bc-905a-289600b7a16d",
   "metadata": {},
   "outputs": [
    {
     "data": {
      "text/plain": [
       "30"
      ]
     },
     "execution_count": 68,
     "metadata": {},
     "output_type": "execute_result"
    }
   ],
   "source": [
    "ic_liste[-1]"
   ]
  },
  {
   "cell_type": "code",
   "execution_count": 71,
   "id": "98e9afe8-61c4-464b-9548-25e609966a0e",
   "metadata": {},
   "outputs": [
    {
     "data": {
      "text/plain": [
       "30"
      ]
     },
     "execution_count": 71,
     "metadata": {},
     "output_type": "execute_result"
    }
   ],
   "source": [
    "ornek_liste[3][-1]"
   ]
  },
  {
   "cell_type": "code",
   "execution_count": 76,
   "id": "3f0b59c0-a799-4cb2-b2f9-6685e90da9fc",
   "metadata": {},
   "outputs": [],
   "source": [
    "matrix_listesi = [\n",
    "    [10,20,30], \n",
    "    [40,50,60], \n",
    "    [70,80,90]\n",
    "]"
   ]
  },
  {
   "cell_type": "code",
   "execution_count": 77,
   "id": "c0b13963-d612-4b14-8f29-4c1d5df04cd5",
   "metadata": {},
   "outputs": [
    {
     "data": {
      "text/plain": [
       "3"
      ]
     },
     "execution_count": 77,
     "metadata": {},
     "output_type": "execute_result"
    }
   ],
   "source": [
    "len(matrix_listesi)"
   ]
  },
  {
   "cell_type": "code",
   "execution_count": 78,
   "id": "6042cab7-fbbb-434f-827d-1b524b57c806",
   "metadata": {},
   "outputs": [
    {
     "data": {
      "text/plain": [
       "20"
      ]
     },
     "execution_count": 78,
     "metadata": {},
     "output_type": "execute_result"
    }
   ],
   "source": [
    "matrix_listesi[0][1]"
   ]
  },
  {
   "cell_type": "code",
   "execution_count": 79,
   "id": "ec0fad15-2a57-4090-ab69-36224b556faa",
   "metadata": {},
   "outputs": [
    {
     "data": {
      "text/plain": [
       "70"
      ]
     },
     "execution_count": 79,
     "metadata": {},
     "output_type": "execute_result"
    }
   ],
   "source": [
    "matrix_listesi[2][0]"
   ]
  },
  {
   "cell_type": "code",
   "execution_count": null,
   "id": "9fe19dbd-b6a2-4196-b651-50531306d5de",
   "metadata": {},
   "outputs": [],
   "source": []
  }
 ],
 "metadata": {
  "kernelspec": {
   "display_name": "Python 3 (ipykernel)",
   "language": "python",
   "name": "python3"
  },
  "language_info": {
   "codemirror_mode": {
    "name": "ipython",
    "version": 3
   },
   "file_extension": ".py",
   "mimetype": "text/x-python",
   "name": "python",
   "nbconvert_exporter": "python",
   "pygments_lexer": "ipython3",
   "version": "3.12.7"
  }
 },
 "nbformat": 4,
 "nbformat_minor": 5
}
