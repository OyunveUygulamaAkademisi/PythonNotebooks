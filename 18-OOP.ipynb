{
 "cells": [
  {
   "cell_type": "code",
   "execution_count": 1,
   "id": "0c91d838",
   "metadata": {},
   "outputs": [],
   "source": [
    "# inheritance"
   ]
  },
  {
   "cell_type": "code",
   "execution_count": 6,
   "id": "780528cd",
   "metadata": {},
   "outputs": [],
   "source": [
    "class Muzisyen():\n",
    "    \n",
    "    def __init__(self, isim, yas):\n",
    "        self.isim = isim\n",
    "        self.yas = yas\n",
    "        print(\"muzisyen sınıfından bir obje oluşturuldu\")\n",
    "    \n",
    "    def ornek1(self):\n",
    "        print(\"örnek 1\")\n",
    "        \n",
    "    def ornek2(self):\n",
    "        print(\"örnek 2\")"
   ]
  },
  {
   "cell_type": "code",
   "execution_count": 7,
   "id": "1345c762",
   "metadata": {},
   "outputs": [
    {
     "name": "stdout",
     "output_type": "stream",
     "text": [
      "muzisyen sınıfından bir obje oluşturuldu\n"
     ]
    }
   ],
   "source": [
    "atil = Muzisyen(\"Atıl\", 38)"
   ]
  },
  {
   "cell_type": "code",
   "execution_count": 8,
   "id": "21bed12b",
   "metadata": {},
   "outputs": [
    {
     "name": "stdout",
     "output_type": "stream",
     "text": [
      "örnek 1\n"
     ]
    }
   ],
   "source": [
    "atil.ornek1()"
   ]
  },
  {
   "cell_type": "code",
   "execution_count": 25,
   "id": "02f3c8dc",
   "metadata": {},
   "outputs": [],
   "source": [
    "class OzelMuzisyen(Muzisyen):\n",
    "    \n",
    "    def __init__(self, isim, yas):\n",
    "        Muzisyen.__init__(self, isim, yas)\n",
    "        print(\"Özel Muzisyen sınıfından bir obje oluşturuldu\")\n",
    "        \n",
    "    def ornek3(self):\n",
    "        print(\"örnek 3\")\n",
    "    \n",
    "    #override\n",
    "    def ornek1(self):\n",
    "        print(\"örnek 1 çalıştırıldı ama özel müzisyen\")"
   ]
  },
  {
   "cell_type": "code",
   "execution_count": 20,
   "id": "f58cfc21",
   "metadata": {},
   "outputs": [
    {
     "name": "stdout",
     "output_type": "stream",
     "text": [
      "muzisyen sınıfından bir obje oluşturuldu\n",
      "Özel Muzisyen sınıfından bir obje oluşturuldu\n"
     ]
    }
   ],
   "source": [
    "atlas = OzelMuzisyen(\"Atlas\", 5)"
   ]
  },
  {
   "cell_type": "code",
   "execution_count": 21,
   "id": "fad42306",
   "metadata": {},
   "outputs": [
    {
     "name": "stdout",
     "output_type": "stream",
     "text": [
      "örnek 1 çalıştırıldı ama özel müzisyen\n"
     ]
    }
   ],
   "source": [
    "atlas.ornek1()"
   ]
  },
  {
   "cell_type": "code",
   "execution_count": 22,
   "id": "248d16d2",
   "metadata": {},
   "outputs": [
    {
     "name": "stdout",
     "output_type": "stream",
     "text": [
      "örnek 2\n"
     ]
    }
   ],
   "source": [
    "atlas.ornek2()"
   ]
  },
  {
   "cell_type": "code",
   "execution_count": 23,
   "id": "efc27c98",
   "metadata": {},
   "outputs": [
    {
     "name": "stdout",
     "output_type": "stream",
     "text": [
      "örnek 3\n"
     ]
    }
   ],
   "source": [
    "atlas.ornek3()"
   ]
  },
  {
   "cell_type": "code",
   "execution_count": 24,
   "id": "78481f3e",
   "metadata": {},
   "outputs": [
    {
     "name": "stdout",
     "output_type": "stream",
     "text": [
      "örnek 1\n"
     ]
    }
   ],
   "source": [
    "atil.ornek1()"
   ]
  },
  {
   "cell_type": "code",
   "execution_count": 26,
   "id": "ec673376",
   "metadata": {},
   "outputs": [],
   "source": [
    "#polymorphism"
   ]
  },
  {
   "cell_type": "code",
   "execution_count": 27,
   "id": "e335fc41",
   "metadata": {},
   "outputs": [],
   "source": [
    "class Muz:\n",
    "    \n",
    "    def __init__(self, isim):\n",
    "        self.isim = isim\n",
    "    \n",
    "    def bilgi_ver(self):\n",
    "        return f\"{self.isim} 100 kaloridir\"\n",
    "        \n",
    "class Elma:\n",
    "    \n",
    "    def __init__(self, isim):\n",
    "        self.isim = isim\n",
    "        \n",
    "    def bilgi_ver(self):\n",
    "        return f\"{self.isim} 150 kaloridir\""
   ]
  },
  {
   "cell_type": "code",
   "execution_count": 28,
   "id": "38f76d15",
   "metadata": {},
   "outputs": [],
   "source": [
    "muz = Muz(\"muz\")"
   ]
  },
  {
   "cell_type": "code",
   "execution_count": 29,
   "id": "2859b527",
   "metadata": {},
   "outputs": [
    {
     "data": {
      "text/plain": [
       "'muz 100 kaloridir'"
      ]
     },
     "execution_count": 29,
     "metadata": {},
     "output_type": "execute_result"
    }
   ],
   "source": [
    "muz.bilgi_ver()"
   ]
  },
  {
   "cell_type": "code",
   "execution_count": 30,
   "id": "f3ecc710",
   "metadata": {},
   "outputs": [],
   "source": [
    "elma = Elma(\"elma\")"
   ]
  },
  {
   "cell_type": "code",
   "execution_count": 31,
   "id": "07c2d4dc",
   "metadata": {},
   "outputs": [
    {
     "data": {
      "text/plain": [
       "'elma 150 kaloridir'"
      ]
     },
     "execution_count": 31,
     "metadata": {},
     "output_type": "execute_result"
    }
   ],
   "source": [
    "elma.bilgi_ver()"
   ]
  },
  {
   "cell_type": "code",
   "execution_count": 32,
   "id": "55fcc86e",
   "metadata": {},
   "outputs": [],
   "source": [
    "meyveler = [muz, elma]"
   ]
  },
  {
   "cell_type": "code",
   "execution_count": 33,
   "id": "8619dfa0",
   "metadata": {},
   "outputs": [
    {
     "name": "stdout",
     "output_type": "stream",
     "text": [
      "muz 100 kaloridir\n",
      "elma 150 kaloridir\n"
     ]
    }
   ],
   "source": [
    "for meyve in meyveler:\n",
    "    print(meyve.bilgi_ver())"
   ]
  },
  {
   "cell_type": "code",
   "execution_count": 36,
   "id": "8a64b2fc",
   "metadata": {},
   "outputs": [],
   "source": [
    "#encapsulation"
   ]
  },
  {
   "cell_type": "code",
   "execution_count": 71,
   "id": "8959ceec",
   "metadata": {},
   "outputs": [],
   "source": [
    "class Telefon:\n",
    "    \n",
    "    def __init__(self, isim, fiyat):\n",
    "        self.__isim = isim\n",
    "        self.fiyat = fiyat\n",
    "        \n",
    "    def bilgi_ver(self):\n",
    "        print(f\"{self.__isim} in fiyatı: {self.fiyat}\")\n",
    "        \n",
    "    def isim_degistir(self, isim):\n",
    "        self.__isim = isim\n",
    "        \n",
    "    def __gizli_method(self):\n",
    "        print(\"gizli method çalıştırıldı\")\n",
    "    \n",
    "    def test_methodu(self, ornek_parola):\n",
    "        if ornek_parola == \"parola123\":\n",
    "            self.__gizli_method()"
   ]
  },
  {
   "cell_type": "code",
   "execution_count": 72,
   "id": "a186c50b",
   "metadata": {},
   "outputs": [],
   "source": [
    "pixel = Telefon(\"Pixel XL\", 500)"
   ]
  },
  {
   "cell_type": "code",
   "execution_count": 73,
   "id": "4ad081af",
   "metadata": {},
   "outputs": [
    {
     "name": "stdout",
     "output_type": "stream",
     "text": [
      "Pixel XL in fiyatı: 500\n"
     ]
    }
   ],
   "source": [
    "pixel.bilgi_ver()"
   ]
  },
  {
   "cell_type": "code",
   "execution_count": 74,
   "id": "b26b1c4a",
   "metadata": {},
   "outputs": [],
   "source": [
    "pixel.isim = \"Pixel XXL\""
   ]
  },
  {
   "cell_type": "code",
   "execution_count": 75,
   "id": "c049a1ae",
   "metadata": {},
   "outputs": [
    {
     "name": "stdout",
     "output_type": "stream",
     "text": [
      "Pixel XL in fiyatı: 500\n"
     ]
    }
   ],
   "source": [
    "pixel.bilgi_ver()"
   ]
  },
  {
   "cell_type": "code",
   "execution_count": 76,
   "id": "66378095",
   "metadata": {},
   "outputs": [],
   "source": [
    "pixel.isim_degistir(\"Pixel XXL\")"
   ]
  },
  {
   "cell_type": "code",
   "execution_count": 77,
   "id": "7dc90161",
   "metadata": {},
   "outputs": [
    {
     "name": "stdout",
     "output_type": "stream",
     "text": [
      "Pixel XXL in fiyatı: 500\n"
     ]
    }
   ],
   "source": [
    "pixel.bilgi_ver()"
   ]
  },
  {
   "cell_type": "code",
   "execution_count": 80,
   "id": "9e03ca6f",
   "metadata": {},
   "outputs": [
    {
     "name": "stdout",
     "output_type": "stream",
     "text": [
      "gizli method çalıştırıldı\n"
     ]
    }
   ],
   "source": [
    "pixel.test_methodu(\"parola123\")"
   ]
  },
  {
   "cell_type": "code",
   "execution_count": 81,
   "id": "886e1999",
   "metadata": {},
   "outputs": [],
   "source": [
    "#abstraction"
   ]
  },
  {
   "cell_type": "code",
   "execution_count": 82,
   "id": "c493a3ef",
   "metadata": {},
   "outputs": [],
   "source": [
    "from abc import ABC, abstractmethod"
   ]
  },
  {
   "cell_type": "code",
   "execution_count": 83,
   "id": "918314e3",
   "metadata": {},
   "outputs": [],
   "source": [
    "class Araba(ABC):\n",
    "    \n",
    "    @abstractmethod\n",
    "    def max_hiz(self):\n",
    "        pass\n",
    "    \n",
    "    @abstractmethod\n",
    "    def beygir_gucu(self):\n",
    "        pass"
   ]
  },
  {
   "cell_type": "code",
   "execution_count": 85,
   "id": "80570ecb",
   "metadata": {},
   "outputs": [],
   "source": [
    "class Ornek():\n",
    "    \n",
    "    def ornek(self):\n",
    "        pass"
   ]
  },
  {
   "cell_type": "code",
   "execution_count": 86,
   "id": "254195f8",
   "metadata": {},
   "outputs": [],
   "source": [
    "ornek = Ornek()"
   ]
  },
  {
   "cell_type": "code",
   "execution_count": 91,
   "id": "c3cd0a5f",
   "metadata": {},
   "outputs": [],
   "source": [
    "class Mercedes(Araba):\n",
    "    \n",
    "    def __init__(self, isim):\n",
    "        self.isim = isim\n",
    "        \n",
    "    def beygir_gucu(self):\n",
    "        return 500\n",
    "    \n",
    "    def max_hiz(self):\n",
    "        return 100"
   ]
  },
  {
   "cell_type": "code",
   "execution_count": 93,
   "id": "37d28085",
   "metadata": {},
   "outputs": [],
   "source": [
    "merc = Mercedes(\"mercedes c 200\")"
   ]
  },
  {
   "cell_type": "code",
   "execution_count": 94,
   "id": "9e7088f7",
   "metadata": {},
   "outputs": [
    {
     "data": {
      "text/plain": [
       "500"
      ]
     },
     "execution_count": 94,
     "metadata": {},
     "output_type": "execute_result"
    }
   ],
   "source": [
    "merc.beygir_gucu()"
   ]
  },
  {
   "cell_type": "code",
   "execution_count": 95,
   "id": "5b4647d8",
   "metadata": {},
   "outputs": [
    {
     "data": {
      "text/plain": [
       "100"
      ]
     },
     "execution_count": 95,
     "metadata": {},
     "output_type": "execute_result"
    }
   ],
   "source": [
    "merc.max_hiz()"
   ]
  },
  {
   "cell_type": "code",
   "execution_count": 100,
   "id": "daa705dd",
   "metadata": {},
   "outputs": [],
   "source": [
    "class Meyve:\n",
    "    \n",
    "    def __init__(self, isim, kalori):\n",
    "        self.isim = isim\n",
    "        self.kalori = kalori\n",
    "        \n",
    "    def __str__(self):\n",
    "        return f\"{self.isim} 'ın kalorisi şudur: {self.kalori}'\"\n",
    "    \n",
    "    def __len__(self):\n",
    "        return self.kalori"
   ]
  },
  {
   "cell_type": "code",
   "execution_count": 101,
   "id": "a40292fc",
   "metadata": {},
   "outputs": [],
   "source": [
    "portakal = Meyve(\"portakal\", 200)"
   ]
  },
  {
   "cell_type": "code",
   "execution_count": 102,
   "id": "3ae06f94",
   "metadata": {},
   "outputs": [
    {
     "name": "stdout",
     "output_type": "stream",
     "text": [
      "portakal 'ın kalorisi şudur: 200'\n"
     ]
    }
   ],
   "source": [
    "print(portakal)"
   ]
  },
  {
   "cell_type": "code",
   "execution_count": 103,
   "id": "b2c051a6",
   "metadata": {},
   "outputs": [
    {
     "data": {
      "text/plain": [
       "200"
      ]
     },
     "execution_count": 103,
     "metadata": {},
     "output_type": "execute_result"
    }
   ],
   "source": [
    "len(portakal)"
   ]
  },
  {
   "cell_type": "code",
   "execution_count": 104,
   "id": "46b1d566",
   "metadata": {},
   "outputs": [],
   "source": [
    "uzum = Meyve(\"üzüm\", 250)"
   ]
  },
  {
   "cell_type": "code",
   "execution_count": 105,
   "id": "ffd3c3ea",
   "metadata": {},
   "outputs": [
    {
     "data": {
      "text/plain": [
       "250"
      ]
     },
     "execution_count": 105,
     "metadata": {},
     "output_type": "execute_result"
    }
   ],
   "source": [
    "len(uzum)"
   ]
  },
  {
   "cell_type": "code",
   "execution_count": 106,
   "id": "52e3021a",
   "metadata": {},
   "outputs": [
    {
     "name": "stdout",
     "output_type": "stream",
     "text": [
      "üzüm 'ın kalorisi şudur: 250'\n"
     ]
    }
   ],
   "source": [
    "print(uzum)"
   ]
  },
  {
   "cell_type": "code",
   "execution_count": null,
   "id": "616545ea",
   "metadata": {},
   "outputs": [],
   "source": []
  }
 ],
 "metadata": {
  "kernelspec": {
   "display_name": "Python 3 (ipykernel)",
   "language": "python",
   "name": "python3"
  },
  "language_info": {
   "codemirror_mode": {
    "name": "ipython",
    "version": 3
   },
   "file_extension": ".py",
   "mimetype": "text/x-python",
   "name": "python",
   "nbconvert_exporter": "python",
   "pygments_lexer": "ipython3",
   "version": "3.10.9"
  }
 },
 "nbformat": 4,
 "nbformat_minor": 5
}
