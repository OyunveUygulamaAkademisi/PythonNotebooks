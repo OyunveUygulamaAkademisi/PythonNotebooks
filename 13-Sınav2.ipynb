{
 "cells": [
  {
   "cell_type": "code",
   "execution_count": 1,
   "id": "1d01beaa",
   "metadata": {},
   "outputs": [],
   "source": [
    "# 1) Aşağıdaki kodun çıktısı ne olacaktır?"
   ]
  },
  {
   "cell_type": "code",
   "execution_count": 2,
   "id": "e3aefb0e",
   "metadata": {},
   "outputs": [],
   "source": [
    "x = 9\n",
    "y = 11\n",
    "z = 7"
   ]
  },
  {
   "cell_type": "markdown",
   "id": "f9c03161",
   "metadata": {},
   "source": [
    "x > y or z < x"
   ]
  },
  {
   "cell_type": "code",
   "execution_count": 3,
   "id": "92370c91",
   "metadata": {},
   "outputs": [],
   "source": [
    "# 2) Aşağıdaki kodun çıktısı ne olacaktır?"
   ]
  },
  {
   "cell_type": "code",
   "execution_count": 4,
   "id": "a72645d6",
   "metadata": {},
   "outputs": [
    {
     "data": {
      "text/plain": [
       "'\\na = 15\\nb = 20\\n\\nif a > 10 and b < 30:\\n    print(\"A\")\\nelif a > 20 or b == 20:\\n    print(\"B\")\\nelse:\\n    print(\"C\")\\n'"
      ]
     },
     "execution_count": 4,
     "metadata": {},
     "output_type": "execute_result"
    }
   ],
   "source": [
    "'''\n",
    "a = 15\n",
    "b = 20\n",
    "\n",
    "if a > 10 and b < 30:\n",
    "    print(\"A\")\n",
    "elif a > 20 or b == 20:\n",
    "    print(\"B\")\n",
    "else:\n",
    "    print(\"C\")\n",
    "'''"
   ]
  },
  {
   "cell_type": "code",
   "execution_count": 5,
   "id": "ca77effe",
   "metadata": {},
   "outputs": [],
   "source": [
    "#3) Aşağıdaki sözlükte, değerler içinde u harfinin geçip geçmediğini gösteren bir koşul yazınız"
   ]
  },
  {
   "cell_type": "code",
   "execution_count": 6,
   "id": "ce33ac14",
   "metadata": {},
   "outputs": [],
   "source": [
    "my_dictionary = {\"a\":100,\"b\":\"atıl\",\"c\":330,\"d\":\"u\"}"
   ]
  },
  {
   "cell_type": "code",
   "execution_count": 7,
   "id": "b4b734a2",
   "metadata": {},
   "outputs": [],
   "source": [
    "#4) Aşağıdaki sözlükte, anahtarlar içinde k harfinin geçip geçmediğini gösteren bir koşul yazınız"
   ]
  },
  {
   "cell_type": "code",
   "execution_count": 8,
   "id": "b9792e67",
   "metadata": {},
   "outputs": [],
   "source": [
    "my_other_dictionary = {\"x\":20,\"y\":\"a\",\"k\":40,\"e\":\"fa\"}"
   ]
  },
  {
   "cell_type": "code",
   "execution_count": 9,
   "id": "c5529dbc",
   "metadata": {},
   "outputs": [],
   "source": [
    "#5) Aşağıdaki listedeki sayılardan sadece çift sayı olanları yazdıran bir kod yazınız."
   ]
  },
  {
   "cell_type": "code",
   "execution_count": 10,
   "id": "021f08ff",
   "metadata": {},
   "outputs": [],
   "source": [
    "my_numbers = [3,2,5,4,7,6,19,20,32,20,1111,23,44]"
   ]
  },
  {
   "cell_type": "code",
   "execution_count": 11,
   "id": "1c16fa79",
   "metadata": {},
   "outputs": [],
   "source": [
    "#6) Aşağıdaki listedeki sayılar bir dairenin yarı çapını vermektedir. "
   ]
  },
  {
   "cell_type": "code",
   "execution_count": 12,
   "id": "404e0d3c",
   "metadata": {},
   "outputs": [],
   "source": [
    "#Tüm dairelerin çevresini içeren başka yeni bir liste oluşturunuz. (İpucu: 2 * pi * r)  Pi 3.14 alınabilir."
   ]
  },
  {
   "cell_type": "code",
   "execution_count": 13,
   "id": "25bb2cef",
   "metadata": {},
   "outputs": [],
   "source": [
    "r_list = [1,2,5,8,7,10,9,14]"
   ]
  },
  {
   "cell_type": "code",
   "execution_count": 14,
   "id": "2376d840",
   "metadata": {},
   "outputs": [],
   "source": [
    "#7) Aşağıdaki listede isim - yaş eşleşmelerinin bulunduğu yapılar mevcuttur."
   ]
  },
  {
   "cell_type": "code",
   "execution_count": 15,
   "id": "10518846",
   "metadata": {},
   "outputs": [],
   "source": [
    "# Sadece yaşların olduğu yeni ve ayrı bir liste oluşturunuz."
   ]
  },
  {
   "cell_type": "code",
   "execution_count": 16,
   "id": "43f5acbb",
   "metadata": {},
   "outputs": [],
   "source": [
    "age_name_list = [(\"Atıl\",30),(\"Ayse\",20),(\"Ahmet\",65),(\"Mahmut\",25)]"
   ]
  },
  {
   "cell_type": "code",
   "execution_count": 17,
   "id": "b5ec5e57",
   "metadata": {},
   "outputs": [],
   "source": [
    "#8) Aşağıdaki isimlerden birini rastgele yazdıran bir kod yazınız"
   ]
  },
  {
   "cell_type": "code",
   "execution_count": 18,
   "id": "e09e39d6",
   "metadata": {},
   "outputs": [],
   "source": [
    "isimler = [\"Atıl\",\"Ahmet\",\"Mehmet\",\"Zeynep\",\"Fatma\"]"
   ]
  },
  {
   "cell_type": "code",
   "execution_count": 19,
   "id": "27d61db9",
   "metadata": {},
   "outputs": [],
   "source": [
    "#9) Aşağıdaki kodun çıktısı ne olacaktır?"
   ]
  },
  {
   "cell_type": "code",
   "execution_count": 20,
   "id": "0ffa2a46",
   "metadata": {},
   "outputs": [],
   "source": [
    "number_list = [4,7,12,19,20,8,45,240]"
   ]
  },
  {
   "cell_type": "markdown",
   "id": "72f23935",
   "metadata": {},
   "source": [
    "[num % 2 == 0 for num in number_list]"
   ]
  },
  {
   "cell_type": "code",
   "execution_count": 21,
   "id": "f0e32dc9",
   "metadata": {},
   "outputs": [],
   "source": [
    "#10) math modülünden sin fonksiyonunu hangi kodu yazarak projenizin içerisine getirebilirsiniz?"
   ]
  },
  {
   "cell_type": "code",
   "execution_count": null,
   "id": "14946711",
   "metadata": {},
   "outputs": [],
   "source": []
  }
 ],
 "metadata": {
  "kernelspec": {
   "display_name": "Python 3 (ipykernel)",
   "language": "python",
   "name": "python3"
  },
  "language_info": {
   "codemirror_mode": {
    "name": "ipython",
    "version": 3
   },
   "file_extension": ".py",
   "mimetype": "text/x-python",
   "name": "python",
   "nbconvert_exporter": "python",
   "pygments_lexer": "ipython3",
   "version": "3.10.9"
  }
 },
 "nbformat": 4,
 "nbformat_minor": 5
}
