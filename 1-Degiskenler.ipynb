{
 "cells": [
  {
   "cell_type": "code",
   "execution_count": 1,
   "id": "0ac0bea3-54ac-4a9a-9e25-92ceb537e4f7",
   "metadata": {},
   "outputs": [
    {
     "data": {
      "text/plain": [
       "7"
      ]
     },
     "execution_count": 1,
     "metadata": {},
     "output_type": "execute_result"
    }
   ],
   "source": [
    "4+3"
   ]
  },
  {
   "cell_type": "code",
   "execution_count": 2,
   "id": "cbef0815-086f-4d25-8f72-b4f9df9b2f53",
   "metadata": {},
   "outputs": [
    {
     "data": {
      "text/plain": [
       "20"
      ]
     },
     "execution_count": 2,
     "metadata": {},
     "output_type": "execute_result"
    }
   ],
   "source": [
    "4 * 5"
   ]
  },
  {
   "cell_type": "code",
   "execution_count": 3,
   "id": "e8baa740-3dd9-4c94-83fd-31fe875e1b1a",
   "metadata": {},
   "outputs": [],
   "source": [
    "# yorum satırı, bu satır kod olarak çalıştırılmaz"
   ]
  },
  {
   "cell_type": "code",
   "execution_count": 4,
   "id": "8e912086-5def-4de3-9c3e-b91c1f615c8b",
   "metadata": {},
   "outputs": [
    {
     "data": {
      "text/plain": [
       "5"
      ]
     },
     "execution_count": 4,
     "metadata": {},
     "output_type": "execute_result"
    }
   ],
   "source": [
    "10 - 5"
   ]
  },
  {
   "cell_type": "code",
   "execution_count": 5,
   "id": "142c5544-8dc3-4bb3-8f4b-8e04d9deda2e",
   "metadata": {},
   "outputs": [
    {
     "data": {
      "text/plain": [
       "2.0"
      ]
     },
     "execution_count": 5,
     "metadata": {},
     "output_type": "execute_result"
    }
   ],
   "source": [
    "10 / 5"
   ]
  },
  {
   "cell_type": "code",
   "execution_count": 6,
   "id": "ed749ac8-16c4-4db0-be15-34572849fa63",
   "metadata": {},
   "outputs": [
    {
     "data": {
      "text/plain": [
       "3125"
      ]
     },
     "execution_count": 6,
     "metadata": {},
     "output_type": "execute_result"
    }
   ],
   "source": [
    "5 * 5 * 5 * 5 * 5"
   ]
  },
  {
   "cell_type": "code",
   "execution_count": 7,
   "id": "2cd41b53-3bb9-4886-a88e-c9487275c859",
   "metadata": {},
   "outputs": [
    {
     "data": {
      "text/plain": [
       "3125"
      ]
     },
     "execution_count": 7,
     "metadata": {},
     "output_type": "execute_result"
    }
   ],
   "source": [
    "5 ** 5"
   ]
  },
  {
   "cell_type": "code",
   "execution_count": 8,
   "id": "24988c8f-244a-472f-9da7-0e21bb609a48",
   "metadata": {},
   "outputs": [
    {
     "data": {
      "text/plain": [
       "125"
      ]
     },
     "execution_count": 8,
     "metadata": {},
     "output_type": "execute_result"
    }
   ],
   "source": [
    "5 ** 3"
   ]
  },
  {
   "cell_type": "code",
   "execution_count": 9,
   "id": "42624d07-625e-4fad-9a93-4c21fe3bef37",
   "metadata": {},
   "outputs": [
    {
     "data": {
      "text/plain": [
       "243"
      ]
     },
     "execution_count": 9,
     "metadata": {},
     "output_type": "execute_result"
    }
   ],
   "source": [
    "3 ** 5"
   ]
  },
  {
   "cell_type": "code",
   "execution_count": 10,
   "id": "b992ebd2-81c1-47ca-ad05-a4f940cc04f8",
   "metadata": {},
   "outputs": [
    {
     "data": {
      "text/plain": [
       "-30"
      ]
     },
     "execution_count": 10,
     "metadata": {},
     "output_type": "execute_result"
    }
   ],
   "source": [
    "-10 - 20"
   ]
  },
  {
   "cell_type": "code",
   "execution_count": 11,
   "id": "a68d335b-53ef-4f01-8aa5-a1de0dfcbcda",
   "metadata": {},
   "outputs": [],
   "source": [
    "#kalanını bulmak (remainder)"
   ]
  },
  {
   "cell_type": "code",
   "execution_count": 12,
   "id": "a22bb148-62d9-4b1d-8c25-f537e2ea5707",
   "metadata": {},
   "outputs": [
    {
     "data": {
      "text/plain": [
       "1"
      ]
     },
     "execution_count": 12,
     "metadata": {},
     "output_type": "execute_result"
    }
   ],
   "source": [
    "10 % 3"
   ]
  },
  {
   "cell_type": "code",
   "execution_count": 13,
   "id": "dbb087c7-3c62-43db-9739-899bc0bd54cb",
   "metadata": {},
   "outputs": [
    {
     "data": {
      "text/plain": [
       "2"
      ]
     },
     "execution_count": 13,
     "metadata": {},
     "output_type": "execute_result"
    }
   ],
   "source": [
    "10 % 4"
   ]
  },
  {
   "cell_type": "code",
   "execution_count": 14,
   "id": "8188c0ae-0019-4fbd-87b3-9e078908923d",
   "metadata": {},
   "outputs": [],
   "source": [
    "x = 5"
   ]
  },
  {
   "cell_type": "code",
   "execution_count": 15,
   "id": "de401e8b-3865-4b7a-9bfa-fc5be6707c36",
   "metadata": {},
   "outputs": [
    {
     "data": {
      "text/plain": [
       "5"
      ]
     },
     "execution_count": 15,
     "metadata": {},
     "output_type": "execute_result"
    }
   ],
   "source": [
    "x"
   ]
  },
  {
   "cell_type": "code",
   "execution_count": 16,
   "id": "6f01aecd-3e7c-48ef-967d-56553f838dc2",
   "metadata": {},
   "outputs": [
    {
     "name": "stdout",
     "output_type": "stream",
     "text": [
      "5\n"
     ]
    }
   ],
   "source": [
    "print(x)"
   ]
  },
  {
   "cell_type": "code",
   "execution_count": 17,
   "id": "70d6d241-2247-455e-b0f9-be22aad9bbb6",
   "metadata": {},
   "outputs": [
    {
     "data": {
      "text/plain": [
       "20"
      ]
     },
     "execution_count": 17,
     "metadata": {},
     "output_type": "execute_result"
    }
   ],
   "source": [
    "x * 4"
   ]
  },
  {
   "cell_type": "code",
   "execution_count": 19,
   "id": "12cd73ab-b5ae-481f-97e0-a9defa967251",
   "metadata": {},
   "outputs": [],
   "source": [
    "y = 10"
   ]
  },
  {
   "cell_type": "code",
   "execution_count": 20,
   "id": "3d421d33-1fac-465b-a3d0-28b77ba6ca79",
   "metadata": {},
   "outputs": [
    {
     "data": {
      "text/plain": [
       "15"
      ]
     },
     "execution_count": 20,
     "metadata": {},
     "output_type": "execute_result"
    }
   ],
   "source": [
    "x + y"
   ]
  },
  {
   "cell_type": "code",
   "execution_count": 21,
   "id": "84621741-db02-4fcd-ab41-64ac469fd343",
   "metadata": {},
   "outputs": [],
   "source": [
    "x = 20"
   ]
  },
  {
   "cell_type": "code",
   "execution_count": 22,
   "id": "0a9dfc30-6a0b-48d8-a534-4fb66dd85870",
   "metadata": {},
   "outputs": [
    {
     "data": {
      "text/plain": [
       "200"
      ]
     },
     "execution_count": 22,
     "metadata": {},
     "output_type": "execute_result"
    }
   ],
   "source": [
    "x * y"
   ]
  },
  {
   "cell_type": "code",
   "execution_count": 23,
   "id": "e35b6493-fb38-40de-a1c7-f5a70c5ded28",
   "metadata": {},
   "outputs": [
    {
     "data": {
      "text/plain": [
       "30"
      ]
     },
     "execution_count": 23,
     "metadata": {},
     "output_type": "execute_result"
    }
   ],
   "source": [
    "x + y"
   ]
  },
  {
   "cell_type": "code",
   "execution_count": 24,
   "id": "5847eb86-a011-462e-9a35-0ef141fab1fc",
   "metadata": {},
   "outputs": [],
   "source": [
    "sonuc = x + y"
   ]
  },
  {
   "cell_type": "code",
   "execution_count": 25,
   "id": "2aed674f-b988-4664-8eca-43ff5ce849c9",
   "metadata": {},
   "outputs": [
    {
     "data": {
      "text/plain": [
       "30"
      ]
     },
     "execution_count": 25,
     "metadata": {},
     "output_type": "execute_result"
    }
   ],
   "source": [
    "sonuc"
   ]
  },
  {
   "cell_type": "code",
   "execution_count": 26,
   "id": "3905f77e-163b-4a4e-ac0a-943972600b03",
   "metadata": {},
   "outputs": [],
   "source": [
    "# veri tipleri (data types)"
   ]
  },
  {
   "cell_type": "code",
   "execution_count": 27,
   "id": "e60ce455-6f8f-4295-8785-9a7ea0732c5f",
   "metadata": {},
   "outputs": [],
   "source": [
    "# int -> integer -> tam sayı"
   ]
  },
  {
   "cell_type": "code",
   "execution_count": 28,
   "id": "792f80e5-8cfb-41d0-9cf6-67b4a3248558",
   "metadata": {},
   "outputs": [],
   "source": [
    "x = 10"
   ]
  },
  {
   "cell_type": "code",
   "execution_count": 29,
   "id": "a5c2f86f-d436-40cc-9528-ab680046a3dc",
   "metadata": {},
   "outputs": [],
   "source": [
    "pi = 3.14"
   ]
  },
  {
   "cell_type": "code",
   "execution_count": 30,
   "id": "fceecb2d-1ef1-4e3f-a389-deb8904c5c4f",
   "metadata": {},
   "outputs": [
    {
     "data": {
      "text/plain": [
       "13.14"
      ]
     },
     "execution_count": 30,
     "metadata": {},
     "output_type": "execute_result"
    }
   ],
   "source": [
    "x + pi"
   ]
  },
  {
   "cell_type": "code",
   "execution_count": 31,
   "id": "074203f9-61e9-40f5-b37e-2ac72165a307",
   "metadata": {},
   "outputs": [
    {
     "data": {
      "text/plain": [
       "int"
      ]
     },
     "execution_count": 31,
     "metadata": {},
     "output_type": "execute_result"
    }
   ],
   "source": [
    "type(x)"
   ]
  },
  {
   "cell_type": "code",
   "execution_count": 32,
   "id": "61196c4c-eb3e-4664-8a21-355ad645bb05",
   "metadata": {},
   "outputs": [
    {
     "data": {
      "text/plain": [
       "float"
      ]
     },
     "execution_count": 32,
     "metadata": {},
     "output_type": "execute_result"
    }
   ],
   "source": [
    "type(pi)"
   ]
  },
  {
   "cell_type": "code",
   "execution_count": 33,
   "id": "1ae454ea-05f4-4089-81fd-a5fa3e16ef01",
   "metadata": {},
   "outputs": [
    {
     "data": {
      "text/plain": [
       "2.5"
      ]
     },
     "execution_count": 33,
     "metadata": {},
     "output_type": "execute_result"
    }
   ],
   "source": [
    "5 / 2"
   ]
  },
  {
   "cell_type": "code",
   "execution_count": 34,
   "id": "b3231e6e-bf43-4355-88df-cf0a8d7dadb5",
   "metadata": {},
   "outputs": [
    {
     "data": {
      "text/plain": [
       "7"
      ]
     },
     "execution_count": 34,
     "metadata": {},
     "output_type": "execute_result"
    }
   ],
   "source": [
    "3 + 4"
   ]
  },
  {
   "cell_type": "code",
   "execution_count": 35,
   "id": "5aa423f5-ec22-4ada-b6d2-5251f95253d8",
   "metadata": {},
   "outputs": [
    {
     "data": {
      "text/plain": [
       "2.0"
      ]
     },
     "execution_count": 35,
     "metadata": {},
     "output_type": "execute_result"
    }
   ],
   "source": [
    "4 / 2"
   ]
  },
  {
   "cell_type": "code",
   "execution_count": 36,
   "id": "b4e12cdc-585b-4047-a5ed-02c86eaec6c6",
   "metadata": {},
   "outputs": [],
   "source": [
    "x = 10"
   ]
  },
  {
   "cell_type": "code",
   "execution_count": 37,
   "id": "3382fdf8-1b4d-42ec-b395-01dc103e664c",
   "metadata": {},
   "outputs": [],
   "source": [
    "a = 5.25"
   ]
  },
  {
   "cell_type": "code",
   "execution_count": 38,
   "id": "912c2723-5600-4462-ab3b-bb2194827eea",
   "metadata": {},
   "outputs": [],
   "source": [
    "b = 4.0"
   ]
  },
  {
   "cell_type": "code",
   "execution_count": 39,
   "id": "ce034aab-372d-46b2-9f6c-7010d731fa42",
   "metadata": {},
   "outputs": [],
   "source": [
    "y = 25"
   ]
  },
  {
   "cell_type": "code",
   "execution_count": 40,
   "id": "2da25ab6-027a-4310-b106-71769575ec83",
   "metadata": {},
   "outputs": [
    {
     "data": {
      "text/plain": [
       "float"
      ]
     },
     "execution_count": 40,
     "metadata": {},
     "output_type": "execute_result"
    }
   ],
   "source": [
    "type(b)"
   ]
  },
  {
   "cell_type": "code",
   "execution_count": 41,
   "id": "29c11f43-e599-47be-8624-78f341c93918",
   "metadata": {},
   "outputs": [
    {
     "data": {
      "text/plain": [
       "2.0"
      ]
     },
     "execution_count": 41,
     "metadata": {},
     "output_type": "execute_result"
    }
   ],
   "source": [
    "4 / 2"
   ]
  },
  {
   "cell_type": "code",
   "execution_count": 42,
   "id": "bc2b7748-7c65-4e68-a873-3fc37e6fa4a9",
   "metadata": {},
   "outputs": [
    {
     "data": {
      "text/plain": [
       "15.25"
      ]
     },
     "execution_count": 42,
     "metadata": {},
     "output_type": "execute_result"
    }
   ],
   "source": [
    "x + a"
   ]
  },
  {
   "cell_type": "code",
   "execution_count": 43,
   "id": "ef6a3bc0-d91a-434d-b5b2-c73d78372618",
   "metadata": {},
   "outputs": [
    {
     "data": {
      "text/plain": [
       "6.25"
      ]
     },
     "execution_count": 43,
     "metadata": {},
     "output_type": "execute_result"
    }
   ],
   "source": [
    "y / b"
   ]
  },
  {
   "cell_type": "code",
   "execution_count": 44,
   "id": "9fe44019-7fbd-4d11-bcda-6f02ab8469c2",
   "metadata": {},
   "outputs": [],
   "source": [
    "# islemsonucu -> genelde bunu kullanmayız\n",
    "# islem_sonucu -> snake_case\n",
    "# islemSonucu -> camelCase"
   ]
  },
  {
   "cell_type": "code",
   "execution_count": 45,
   "id": "c2d3e3dc-5036-4898-a9f5-eca45b94b8ef",
   "metadata": {},
   "outputs": [],
   "source": [
    "islem_sonucu = x + a"
   ]
  },
  {
   "cell_type": "code",
   "execution_count": 46,
   "id": "faf299f2-afcf-4a1d-98c1-e34135fd89f2",
   "metadata": {},
   "outputs": [
    {
     "data": {
      "text/plain": [
       "15.25"
      ]
     },
     "execution_count": 46,
     "metadata": {},
     "output_type": "execute_result"
    }
   ],
   "source": [
    "islem_sonucu"
   ]
  },
  {
   "cell_type": "code",
   "execution_count": 47,
   "id": "2ecaa8a0-03b6-4b7f-a91b-0e23c77f371a",
   "metadata": {},
   "outputs": [
    {
     "data": {
      "text/plain": [
       "10"
      ]
     },
     "execution_count": 47,
     "metadata": {},
     "output_type": "execute_result"
    }
   ],
   "source": [
    "x"
   ]
  },
  {
   "cell_type": "code",
   "execution_count": 48,
   "id": "6244e436-9fa0-4a1d-a204-d4b7567ae12e",
   "metadata": {},
   "outputs": [
    {
     "data": {
      "text/plain": [
       "4.0"
      ]
     },
     "execution_count": 48,
     "metadata": {},
     "output_type": "execute_result"
    }
   ],
   "source": [
    "b"
   ]
  },
  {
   "cell_type": "code",
   "execution_count": 49,
   "id": "7f3a128d-c07d-4302-95ae-f099b1cf0d32",
   "metadata": {},
   "outputs": [
    {
     "data": {
      "text/plain": [
       "25"
      ]
     },
     "execution_count": 49,
     "metadata": {},
     "output_type": "execute_result"
    }
   ],
   "source": [
    "y"
   ]
  },
  {
   "cell_type": "code",
   "execution_count": 50,
   "id": "35d7566b-acbe-48cc-a141-1d59891e76d9",
   "metadata": {},
   "outputs": [
    {
     "data": {
      "text/plain": [
       "110.0"
      ]
     },
     "execution_count": 50,
     "metadata": {},
     "output_type": "execute_result"
    }
   ],
   "source": [
    "x + b * y"
   ]
  },
  {
   "cell_type": "code",
   "execution_count": 51,
   "id": "a9ebd73b-5ecd-4dba-901d-ba71c42aa316",
   "metadata": {},
   "outputs": [
    {
     "data": {
      "text/plain": [
       "110.0"
      ]
     },
     "execution_count": 51,
     "metadata": {},
     "output_type": "execute_result"
    }
   ],
   "source": [
    "x + (b * y)"
   ]
  },
  {
   "cell_type": "code",
   "execution_count": null,
   "id": "68bb6284-2630-40b6-bd7a-34951a78a7b9",
   "metadata": {},
   "outputs": [],
   "source": []
  }
 ],
 "metadata": {
  "kernelspec": {
   "display_name": "Python 3 (ipykernel)",
   "language": "python",
   "name": "python3"
  },
  "language_info": {
   "codemirror_mode": {
    "name": "ipython",
    "version": 3
   },
   "file_extension": ".py",
   "mimetype": "text/x-python",
   "name": "python",
   "nbconvert_exporter": "python",
   "pygments_lexer": "ipython3",
   "version": "3.12.7"
  }
 },
 "nbformat": 4,
 "nbformat_minor": 5
}
