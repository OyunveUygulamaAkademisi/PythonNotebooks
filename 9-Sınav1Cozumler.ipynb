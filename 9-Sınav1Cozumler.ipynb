{
 "cells": [
  {
   "cell_type": "code",
   "execution_count": 1,
   "id": "216f08bd-56b8-47bb-98a1-9ad6fede0f4d",
   "metadata": {},
   "outputs": [],
   "source": [
    "# 1) Asagidaki string'in 8. harfini, index yöntemini kullanarak bir degiskene atayiniz"
   ]
  },
  {
   "cell_type": "code",
   "execution_count": 2,
   "id": "6a9def95-6119-4559-9599-afafcd8b35af",
   "metadata": {},
   "outputs": [],
   "source": [
    "my_string = \"YapayZekaVeTeknolojiAkademisi\""
   ]
  },
  {
   "cell_type": "code",
   "execution_count": 3,
   "id": "ac601134-7b5b-47f5-ab88-adf50d783227",
   "metadata": {},
   "outputs": [],
   "source": [
    "harf = my_string[7]"
   ]
  },
  {
   "cell_type": "code",
   "execution_count": 4,
   "id": "4a77bb7d-a974-447d-9234-caee0959a518",
   "metadata": {},
   "outputs": [
    {
     "data": {
      "text/plain": [
       "'k'"
      ]
     },
     "execution_count": 4,
     "metadata": {},
     "output_type": "execute_result"
    }
   ],
   "source": [
    "harf"
   ]
  },
  {
   "cell_type": "code",
   "execution_count": 5,
   "id": "1d214f61-5ccc-4288-885b-20490daf0318",
   "metadata": {},
   "outputs": [],
   "source": [
    "# 2) Asagidaki String'in 8. ve 12. karakteri arasindaki tum harflerini yazdiriniz (8 ve 12 dahil)"
   ]
  },
  {
   "cell_type": "code",
   "execution_count": 6,
   "id": "49238a15-cddb-4c27-a745-855b2cff096f",
   "metadata": {},
   "outputs": [],
   "source": [
    "my_new_string = \"PythonaMerhabaDiyelim\""
   ]
  },
  {
   "cell_type": "code",
   "execution_count": 7,
   "id": "86d17cc8-095e-4742-b9c8-ac697792842d",
   "metadata": {},
   "outputs": [
    {
     "data": {
      "text/plain": [
       "'Merha'"
      ]
     },
     "execution_count": 7,
     "metadata": {},
     "output_type": "execute_result"
    }
   ],
   "source": [
    "my_new_string[7:12:]"
   ]
  },
  {
   "cell_type": "code",
   "execution_count": 8,
   "id": "7a08f48d-9502-4ec8-9857-991b53957724",
   "metadata": {},
   "outputs": [],
   "source": [
    "# 3) Asagidaki String'i kod ile tersten yazin"
   ]
  },
  {
   "cell_type": "code",
   "execution_count": 9,
   "id": "0d3a2d49-388a-4fce-9e75-8af1740cf9b9",
   "metadata": {},
   "outputs": [],
   "source": [
    "my_last_string = \"Afyonkarahisarlilastiramadiklarimizdanmisiniz\""
   ]
  },
  {
   "cell_type": "code",
   "execution_count": 10,
   "id": "31e5a677-a692-41ab-98ea-1938f5a3c6fa",
   "metadata": {},
   "outputs": [
    {
     "data": {
      "text/plain": [
       "'zinisimnadzimiralkidamaritsalilrasiharaknoyfA'"
      ]
     },
     "execution_count": 10,
     "metadata": {},
     "output_type": "execute_result"
    }
   ],
   "source": [
    "my_last_string[::-1]"
   ]
  },
  {
   "cell_type": "code",
   "execution_count": 11,
   "id": "73306daf-4df2-43e9-b54c-5fec186c67cb",
   "metadata": {},
   "outputs": [],
   "source": [
    "# 4) Asagidaki islemin sonucu hangi veri tipinde olacaktir?"
   ]
  },
  {
   "cell_type": "markdown",
   "id": "506463fb-aaf6-4ad5-9377-59ff3b9a37b2",
   "metadata": {},
   "source": [
    "8 + 9.2 + 32"
   ]
  },
  {
   "cell_type": "code",
   "execution_count": 12,
   "id": "467f70f6-2da6-44be-a996-ded4dc7c87d5",
   "metadata": {},
   "outputs": [
    {
     "data": {
      "text/plain": [
       "float"
      ]
     },
     "execution_count": 12,
     "metadata": {},
     "output_type": "execute_result"
    }
   ],
   "source": [
    "type(8+9.2+32)"
   ]
  },
  {
   "cell_type": "code",
   "execution_count": 13,
   "id": "de82f8bf-d469-4608-b829-145df3b586a7",
   "metadata": {},
   "outputs": [],
   "source": [
    "# 5) Asagidaki islemin sonucu kactir?"
   ]
  },
  {
   "cell_type": "markdown",
   "id": "6684ccd5-0faa-4c2f-86ac-87b6d846d521",
   "metadata": {},
   "source": [
    "6 + 4 * 12"
   ]
  },
  {
   "cell_type": "code",
   "execution_count": 14,
   "id": "2cc7f20a-51f0-4010-b662-bb2ef55051b2",
   "metadata": {},
   "outputs": [
    {
     "data": {
      "text/plain": [
       "54"
      ]
     },
     "execution_count": 14,
     "metadata": {},
     "output_type": "execute_result"
    }
   ],
   "source": [
    "6 + 4 * 12"
   ]
  },
  {
   "cell_type": "code",
   "execution_count": 15,
   "id": "d2f2960d-9cef-4068-a85e-a8a56c7e2208",
   "metadata": {},
   "outputs": [],
   "source": [
    "# 6) Bu listeyi en az 2 farkli yoldan olusturunuz: [2,5,\"b\"]"
   ]
  },
  {
   "cell_type": "code",
   "execution_count": 16,
   "id": "ef6b6643-d872-4dc9-8ee0-b7dd5aebde65",
   "metadata": {},
   "outputs": [],
   "source": [
    "yeni_liste = []"
   ]
  },
  {
   "cell_type": "code",
   "execution_count": 17,
   "id": "18350b90-1d41-4b3b-8248-9de4bb79bb0f",
   "metadata": {},
   "outputs": [],
   "source": [
    "yeni_liste.append(2)\n",
    "yeni_liste.append(5)\n",
    "yeni_liste.append(\"b\")"
   ]
  },
  {
   "cell_type": "code",
   "execution_count": 18,
   "id": "1a5699fc-396b-41a0-a3e5-684d09f3c774",
   "metadata": {},
   "outputs": [
    {
     "data": {
      "text/plain": [
       "[2, 5, 'b']"
      ]
     },
     "execution_count": 18,
     "metadata": {},
     "output_type": "execute_result"
    }
   ],
   "source": [
    "yeni_liste"
   ]
  },
  {
   "cell_type": "code",
   "execution_count": 19,
   "id": "123bb43e-ddfd-43f3-902b-182515682183",
   "metadata": {},
   "outputs": [],
   "source": [
    "yeni_liste = list()\n",
    "yeni_liste.append(2)\n",
    "yeni_liste.append(5)\n",
    "yeni_liste.append(\"b\")"
   ]
  },
  {
   "cell_type": "code",
   "execution_count": 20,
   "id": "c6b534b4-e7d7-484f-b069-2ba2d25d29af",
   "metadata": {},
   "outputs": [
    {
     "data": {
      "text/plain": [
       "[2, 5, 'b']"
      ]
     },
     "execution_count": 20,
     "metadata": {},
     "output_type": "execute_result"
    }
   ],
   "source": [
    "yeni_liste"
   ]
  },
  {
   "cell_type": "code",
   "execution_count": 21,
   "id": "f7bee1a6-3640-4125-8b9c-27e84710451f",
   "metadata": {},
   "outputs": [],
   "source": [
    "liste1 = [2]\n",
    "liste2 = [5,\"b\"]\n",
    "yeni_liste = liste1 + liste2"
   ]
  },
  {
   "cell_type": "code",
   "execution_count": 22,
   "id": "9676d8a4-3fac-4afa-99e0-f6b7e6af6c80",
   "metadata": {},
   "outputs": [
    {
     "data": {
      "text/plain": [
       "[2, 5, 'b']"
      ]
     },
     "execution_count": 22,
     "metadata": {},
     "output_type": "execute_result"
    }
   ],
   "source": [
    "yeni_liste"
   ]
  },
  {
   "cell_type": "code",
   "execution_count": 23,
   "id": "0410bbf9-04e1-4a6a-b427-1a8c10b49ab9",
   "metadata": {},
   "outputs": [],
   "source": [
    "# 7) Asagidaki \"c\"'yi tek satirda yazdırınız:"
   ]
  },
  {
   "cell_type": "code",
   "execution_count": 24,
   "id": "543de5db-18fe-4c15-b935-37e1b92b9fd5",
   "metadata": {},
   "outputs": [],
   "source": [
    "my_list = [5.12,500,[1,4,\"c\"],False]"
   ]
  },
  {
   "cell_type": "code",
   "execution_count": 25,
   "id": "909dcece-85c2-4400-bf89-5268dee76153",
   "metadata": {},
   "outputs": [
    {
     "data": {
      "text/plain": [
       "'c'"
      ]
     },
     "execution_count": 25,
     "metadata": {},
     "output_type": "execute_result"
    }
   ],
   "source": [
    "my_list[2][2]"
   ]
  },
  {
   "cell_type": "code",
   "execution_count": 26,
   "id": "4f9b2730-42ac-49f8-8940-dded6a4a0b01",
   "metadata": {},
   "outputs": [],
   "source": [
    "# 8) Asagidaki \"g\"'yi tek satirda yazdırınız:"
   ]
  },
  {
   "cell_type": "code",
   "execution_count": 27,
   "id": "89fdb64a-4a1b-4cdc-a070-9e0e71c63dcd",
   "metadata": {},
   "outputs": [],
   "source": [
    "my_dictionary = {\"k1\":3.14, \"k2\":[320,{\"k3\":\"g\"}]}"
   ]
  },
  {
   "cell_type": "code",
   "execution_count": 28,
   "id": "dac53901-66e7-46fe-a7c3-e6001966d11f",
   "metadata": {},
   "outputs": [
    {
     "data": {
      "text/plain": [
       "'g'"
      ]
     },
     "execution_count": 28,
     "metadata": {},
     "output_type": "execute_result"
    }
   ],
   "source": [
    "my_dictionary[\"k2\"][-1][\"k3\"]"
   ]
  },
  {
   "cell_type": "code",
   "execution_count": 29,
   "id": "d4968929-e341-4f32-adf3-bb7fb1c73cc7",
   "metadata": {},
   "outputs": [],
   "source": [
    "# 9) Asagidaki liste set'e cevirilince hangi degerler icinde kalacaktir?"
   ]
  },
  {
   "cell_type": "code",
   "execution_count": 30,
   "id": "865075b8-ae06-47ad-80c0-72a1409cd1e2",
   "metadata": {},
   "outputs": [],
   "source": [
    "my_list_to_be_set = [2,3,8,2,20,21,3,2,8,9,20,21]"
   ]
  },
  {
   "cell_type": "code",
   "execution_count": 31,
   "id": "aa2efe14-94f6-4b40-a625-306e9b9d7362",
   "metadata": {},
   "outputs": [
    {
     "data": {
      "text/plain": [
       "{2, 3, 8, 9, 20, 21}"
      ]
     },
     "execution_count": 31,
     "metadata": {},
     "output_type": "execute_result"
    }
   ],
   "source": [
    "set(my_list_to_be_set)"
   ]
  },
  {
   "cell_type": "code",
   "execution_count": 32,
   "id": "e7c50cbe-e482-4d03-a39b-45c24d5c615c",
   "metadata": {},
   "outputs": [],
   "source": [
    "# 10) Asagidaki ifadenin sonucu ne olacaktir?"
   ]
  },
  {
   "cell_type": "code",
   "execution_count": 33,
   "id": "857ccd24-2584-4796-98a5-71b34c7811e1",
   "metadata": {},
   "outputs": [],
   "source": [
    "x = 40 * 5 + 3"
   ]
  },
  {
   "cell_type": "code",
   "execution_count": 34,
   "id": "b35bc769-23fa-4237-987a-34e5ff090bb0",
   "metadata": {},
   "outputs": [],
   "source": [
    "y = 208 - 2 * 4"
   ]
  },
  {
   "cell_type": "markdown",
   "id": "1bfb6756-1ea4-478e-937c-c66a7a06475a",
   "metadata": {},
   "source": [
    "x < y"
   ]
  },
  {
   "cell_type": "code",
   "execution_count": 35,
   "id": "a7fcd4b2-1f85-4c47-af78-ae10915396c1",
   "metadata": {},
   "outputs": [
    {
     "data": {
      "text/plain": [
       "False"
      ]
     },
     "execution_count": 35,
     "metadata": {},
     "output_type": "execute_result"
    }
   ],
   "source": [
    "x<y"
   ]
  },
  {
   "cell_type": "code",
   "execution_count": null,
   "id": "8d847227-75c8-48fa-b058-478f301ee14d",
   "metadata": {},
   "outputs": [],
   "source": []
  }
 ],
 "metadata": {
  "kernelspec": {
   "display_name": "Python 3 (ipykernel)",
   "language": "python",
   "name": "python3"
  },
  "language_info": {
   "codemirror_mode": {
    "name": "ipython",
    "version": 3
   },
   "file_extension": ".py",
   "mimetype": "text/x-python",
   "name": "python",
   "nbconvert_exporter": "python",
   "pygments_lexer": "ipython3",
   "version": "3.12.7"
  }
 },
 "nbformat": 4,
 "nbformat_minor": 5
}
