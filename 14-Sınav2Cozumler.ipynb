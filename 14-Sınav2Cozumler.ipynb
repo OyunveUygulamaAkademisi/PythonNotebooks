{
 "cells": [
  {
   "cell_type": "code",
   "execution_count": 1,
   "id": "1d01beaa",
   "metadata": {},
   "outputs": [],
   "source": [
    "# 1) Aşağıdaki kodun çıktısı ne olacaktır?"
   ]
  },
  {
   "cell_type": "code",
   "execution_count": 2,
   "id": "e3aefb0e",
   "metadata": {},
   "outputs": [],
   "source": [
    "x = 9\n",
    "y = 11\n",
    "z = 7"
   ]
  },
  {
   "cell_type": "markdown",
   "id": "f9c03161",
   "metadata": {},
   "source": [
    "x > y or z < x"
   ]
  },
  {
   "cell_type": "code",
   "execution_count": 3,
   "id": "2fbe0261",
   "metadata": {},
   "outputs": [
    {
     "data": {
      "text/plain": [
       "True"
      ]
     },
     "execution_count": 3,
     "metadata": {},
     "output_type": "execute_result"
    }
   ],
   "source": [
    "x > y or z < x"
   ]
  },
  {
   "cell_type": "code",
   "execution_count": 4,
   "id": "92370c91",
   "metadata": {},
   "outputs": [],
   "source": [
    "# 2) Aşağıdaki kodun çıktısı ne olacaktır?"
   ]
  },
  {
   "cell_type": "code",
   "execution_count": 5,
   "id": "a72645d6",
   "metadata": {},
   "outputs": [
    {
     "data": {
      "text/plain": [
       "'\\na = 15\\nb = 20\\n\\nif a > 10 and b < 30:\\n    print(\"A\")\\nelif a > 20 or b == 20:\\n    print(\"B\")\\nelse:\\n    print(\"C\")\\n'"
      ]
     },
     "execution_count": 5,
     "metadata": {},
     "output_type": "execute_result"
    }
   ],
   "source": [
    "'''\n",
    "a = 15\n",
    "b = 20\n",
    "\n",
    "if a > 10 and b < 30:\n",
    "    print(\"A\")\n",
    "elif a > 20 or b == 20:\n",
    "    print(\"B\")\n",
    "else:\n",
    "    print(\"C\")\n",
    "'''"
   ]
  },
  {
   "cell_type": "code",
   "execution_count": 6,
   "id": "5aaa048d",
   "metadata": {},
   "outputs": [
    {
     "name": "stdout",
     "output_type": "stream",
     "text": [
      "A\n"
     ]
    }
   ],
   "source": [
    "a = 15\n",
    "b = 20\n",
    "\n",
    "if a > 10 and b < 30:\n",
    "    print(\"A\")\n",
    "elif a > 20 or b == 20:\n",
    "    print(\"B\")\n",
    "else:\n",
    "    print(\"C\")"
   ]
  },
  {
   "cell_type": "code",
   "execution_count": 7,
   "id": "ca77effe",
   "metadata": {},
   "outputs": [],
   "source": [
    "#3) Aşağıdaki sözlükte, değerler içinde u harfinin geçip geçmediğini gösteren bir koşul yazınız"
   ]
  },
  {
   "cell_type": "code",
   "execution_count": 8,
   "id": "ce33ac14",
   "metadata": {},
   "outputs": [],
   "source": [
    "my_dictionary = {\"a\":100,\"b\":\"atıl\",\"c\":330,\"d\":\"u\"}"
   ]
  },
  {
   "cell_type": "code",
   "execution_count": 9,
   "id": "5bcc4ac0",
   "metadata": {},
   "outputs": [
    {
     "data": {
      "text/plain": [
       "True"
      ]
     },
     "execution_count": 9,
     "metadata": {},
     "output_type": "execute_result"
    }
   ],
   "source": [
    "\"u\" in my_dictionary.values()"
   ]
  },
  {
   "cell_type": "code",
   "execution_count": 10,
   "id": "b4b734a2",
   "metadata": {},
   "outputs": [],
   "source": [
    "#4) Aşağıdaki sözlükte, anahtarlar içinde k harfinin geçip geçmediğini gösteren bir koşul yazınız"
   ]
  },
  {
   "cell_type": "code",
   "execution_count": 11,
   "id": "b9792e67",
   "metadata": {},
   "outputs": [],
   "source": [
    "my_other_dictionary = {\"x\":20,\"y\":\"a\",\"k\":40,\"e\":\"fa\"}"
   ]
  },
  {
   "cell_type": "code",
   "execution_count": 13,
   "id": "ab7625fa",
   "metadata": {},
   "outputs": [
    {
     "data": {
      "text/plain": [
       "True"
      ]
     },
     "execution_count": 13,
     "metadata": {},
     "output_type": "execute_result"
    }
   ],
   "source": [
    "\"k\" in my_other_dictionary.keys()"
   ]
  },
  {
   "cell_type": "code",
   "execution_count": 14,
   "id": "c5529dbc",
   "metadata": {},
   "outputs": [],
   "source": [
    "#5) Aşağıdaki listedeki sayılardan sadece çift sayı olanları yazdıran bir kod yazınız."
   ]
  },
  {
   "cell_type": "code",
   "execution_count": 15,
   "id": "021f08ff",
   "metadata": {},
   "outputs": [],
   "source": [
    "my_numbers = [3,2,5,4,7,6,19,20,32,20,1111,23,44]"
   ]
  },
  {
   "cell_type": "code",
   "execution_count": 16,
   "id": "8ece61ca",
   "metadata": {},
   "outputs": [
    {
     "name": "stdout",
     "output_type": "stream",
     "text": [
      "2\n",
      "4\n",
      "6\n",
      "20\n",
      "32\n",
      "20\n",
      "44\n"
     ]
    }
   ],
   "source": [
    "for num in my_numbers:\n",
    "    if num % 2 == 0:\n",
    "        print(num)"
   ]
  },
  {
   "cell_type": "code",
   "execution_count": 17,
   "id": "1c16fa79",
   "metadata": {},
   "outputs": [],
   "source": [
    "#6) Aşağıdaki listedeki sayılar bir dairenin yarı çapını vermektedir. "
   ]
  },
  {
   "cell_type": "code",
   "execution_count": 18,
   "id": "404e0d3c",
   "metadata": {},
   "outputs": [],
   "source": [
    "#Tüm dairelerin çevresini içeren başka yeni bir liste oluşturunuz. (İpucu: 2 * pi * r)  Pi 3.14 alınabilir."
   ]
  },
  {
   "cell_type": "code",
   "execution_count": 19,
   "id": "25bb2cef",
   "metadata": {},
   "outputs": [],
   "source": [
    "r_list = [1,2,5,8,7,10,9,14]"
   ]
  },
  {
   "cell_type": "code",
   "execution_count": 20,
   "id": "87e1c59e",
   "metadata": {},
   "outputs": [],
   "source": [
    "cevreler = []\n",
    "pi = 3.14\n",
    "for r in r_list:\n",
    "    cevreler.append(r * 2 * pi)"
   ]
  },
  {
   "cell_type": "code",
   "execution_count": 21,
   "id": "92d26a5e",
   "metadata": {},
   "outputs": [
    {
     "data": {
      "text/plain": [
       "[6.28,\n",
       " 12.56,\n",
       " 31.400000000000002,\n",
       " 50.24,\n",
       " 43.96,\n",
       " 62.800000000000004,\n",
       " 56.52,\n",
       " 87.92]"
      ]
     },
     "execution_count": 21,
     "metadata": {},
     "output_type": "execute_result"
    }
   ],
   "source": [
    "cevreler"
   ]
  },
  {
   "cell_type": "code",
   "execution_count": 22,
   "id": "2376d840",
   "metadata": {},
   "outputs": [],
   "source": [
    "#7) Aşağıdaki listede isim - yaş eşleşmelerinin bulunduğu yapılar mevcuttur."
   ]
  },
  {
   "cell_type": "code",
   "execution_count": 23,
   "id": "10518846",
   "metadata": {},
   "outputs": [],
   "source": [
    "# Sadece yaşların olduğu yeni ve ayrı bir liste oluşturunuz."
   ]
  },
  {
   "cell_type": "code",
   "execution_count": 24,
   "id": "43f5acbb",
   "metadata": {},
   "outputs": [],
   "source": [
    "age_name_list = [(\"Atıl\",30),(\"Ayse\",20),(\"Ahmet\",65),(\"Mahmut\",25)]"
   ]
  },
  {
   "cell_type": "code",
   "execution_count": 27,
   "id": "ec8a7e7b",
   "metadata": {},
   "outputs": [],
   "source": [
    "yaslar = []\n",
    "for isim,yas in age_name_list:\n",
    "    yaslar.append(yas)"
   ]
  },
  {
   "cell_type": "code",
   "execution_count": 28,
   "id": "a8d16f79",
   "metadata": {},
   "outputs": [
    {
     "data": {
      "text/plain": [
       "[30, 20, 65, 25]"
      ]
     },
     "execution_count": 28,
     "metadata": {},
     "output_type": "execute_result"
    }
   ],
   "source": [
    "yaslar"
   ]
  },
  {
   "cell_type": "code",
   "execution_count": 29,
   "id": "b5ec5e57",
   "metadata": {},
   "outputs": [],
   "source": [
    "#8) Aşağıdaki isimlerden birini rastgele yazdıran bir kod yazınız"
   ]
  },
  {
   "cell_type": "code",
   "execution_count": 30,
   "id": "e09e39d6",
   "metadata": {},
   "outputs": [],
   "source": [
    "isimler = [\"Atıl\",\"Ahmet\",\"Mehmet\",\"Zeynep\",\"Fatma\"]"
   ]
  },
  {
   "cell_type": "code",
   "execution_count": 31,
   "id": "3a8bdbdd",
   "metadata": {},
   "outputs": [],
   "source": [
    "from random import randint"
   ]
  },
  {
   "cell_type": "code",
   "execution_count": 37,
   "id": "0a023dd4",
   "metadata": {},
   "outputs": [
    {
     "data": {
      "text/plain": [
       "'Fatma'"
      ]
     },
     "execution_count": 37,
     "metadata": {},
     "output_type": "execute_result"
    }
   ],
   "source": [
    "isimler[randint(0,len(isimler)-1)]"
   ]
  },
  {
   "cell_type": "code",
   "execution_count": 38,
   "id": "27d61db9",
   "metadata": {},
   "outputs": [],
   "source": [
    "#9) Aşağıdaki kodun çıktısı ne olacaktır?"
   ]
  },
  {
   "cell_type": "code",
   "execution_count": 39,
   "id": "0ffa2a46",
   "metadata": {},
   "outputs": [],
   "source": [
    "number_list = [4,7,12,19,20,8,45,240]"
   ]
  },
  {
   "cell_type": "markdown",
   "id": "72f23935",
   "metadata": {},
   "source": [
    "[num % 2 == 0 for num in number_list]"
   ]
  },
  {
   "cell_type": "code",
   "execution_count": 40,
   "id": "2b96bb67",
   "metadata": {},
   "outputs": [
    {
     "data": {
      "text/plain": [
       "[True, False, True, False, True, True, False, True]"
      ]
     },
     "execution_count": 40,
     "metadata": {},
     "output_type": "execute_result"
    }
   ],
   "source": [
    "[num % 2 == 0 for num in number_list]"
   ]
  },
  {
   "cell_type": "code",
   "execution_count": 21,
   "id": "f0e32dc9",
   "metadata": {},
   "outputs": [],
   "source": [
    "#10) math modülünden sin fonksiyonunu hangi kodu yazarak projenizin içerisine getirebilirsiniz?"
   ]
  },
  {
   "cell_type": "code",
   "execution_count": 41,
   "id": "14946711",
   "metadata": {},
   "outputs": [],
   "source": [
    "from math import sin"
   ]
  },
  {
   "cell_type": "code",
   "execution_count": 45,
   "id": "091d3a45",
   "metadata": {},
   "outputs": [
    {
     "data": {
      "text/plain": [
       "0.8509035245341184"
      ]
     },
     "execution_count": 45,
     "metadata": {},
     "output_type": "execute_result"
    }
   ],
   "source": [
    "sin(45)"
   ]
  },
  {
   "cell_type": "code",
   "execution_count": null,
   "id": "6a492f1c",
   "metadata": {},
   "outputs": [],
   "source": []
  }
 ],
 "metadata": {
  "kernelspec": {
   "display_name": "Python 3 (ipykernel)",
   "language": "python",
   "name": "python3"
  },
  "language_info": {
   "codemirror_mode": {
    "name": "ipython",
    "version": 3
   },
   "file_extension": ".py",
   "mimetype": "text/x-python",
   "name": "python",
   "nbconvert_exporter": "python",
   "pygments_lexer": "ipython3",
   "version": "3.10.9"
  }
 },
 "nbformat": 4,
 "nbformat_minor": 5
}
