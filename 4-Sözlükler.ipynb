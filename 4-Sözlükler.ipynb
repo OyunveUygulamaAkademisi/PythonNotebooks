{
 "cells": [
  {
   "cell_type": "code",
   "execution_count": 1,
   "id": "638d1129-866b-49bc-9894-7d71de6a9b0e",
   "metadata": {},
   "outputs": [],
   "source": [
    "# sözlük, dictionary, dict"
   ]
  },
  {
   "cell_type": "code",
   "execution_count": 2,
   "id": "e2b35e46-cb5c-49f9-9a68-223d4a7ad90a",
   "metadata": {},
   "outputs": [],
   "source": [
    "# key-value pairing - anahtar-değer eşleşmeleri"
   ]
  },
  {
   "cell_type": "code",
   "execution_count": 3,
   "id": "6ed258cf-ee12-4b75-ad4a-6b8d88ab95f8",
   "metadata": {},
   "outputs": [],
   "source": [
    "spor_listesi = [\"koşma\", \"yüzme\", \"basketbol\"]\n",
    "kalori_listesi = [100, 150, 200]"
   ]
  },
  {
   "cell_type": "code",
   "execution_count": 4,
   "id": "3d29564b-5ca9-4876-be8e-29b7a08cefdd",
   "metadata": {},
   "outputs": [
    {
     "data": {
      "text/plain": [
       "'koşma'"
      ]
     },
     "execution_count": 4,
     "metadata": {},
     "output_type": "execute_result"
    }
   ],
   "source": [
    "spor_listesi[0]"
   ]
  },
  {
   "cell_type": "code",
   "execution_count": 5,
   "id": "ac5b0dba-ce7c-4b5d-aa8e-92e5e792c7bd",
   "metadata": {},
   "outputs": [
    {
     "data": {
      "text/plain": [
       "100"
      ]
     },
     "execution_count": 5,
     "metadata": {},
     "output_type": "execute_result"
    }
   ],
   "source": [
    "kalori_listesi[0]"
   ]
  },
  {
   "cell_type": "code",
   "execution_count": 6,
   "id": "e3802087-5dfa-4c23-85b1-a71783e0b386",
   "metadata": {},
   "outputs": [],
   "source": [
    "secilen_index = 1"
   ]
  },
  {
   "cell_type": "code",
   "execution_count": 9,
   "id": "105476be-a33f-4c7e-81e4-faa3d8096bdf",
   "metadata": {},
   "outputs": [
    {
     "name": "stdout",
     "output_type": "stream",
     "text": [
      "yüzme 150\n"
     ]
    }
   ],
   "source": [
    "print(spor_listesi[secilen_index], kalori_listesi[secilen_index])"
   ]
  },
  {
   "cell_type": "code",
   "execution_count": 13,
   "id": "f240cb05-4a9d-4a40-ad07-a604fc41bada",
   "metadata": {},
   "outputs": [
    {
     "name": "stdout",
     "output_type": "stream",
     "text": [
      "şu spor: yüzme , şu kaloriye sahip: 150 \n"
     ]
    }
   ],
   "source": [
    "print(f\"şu spor: {spor_listesi[secilen_index]} , şu kaloriye sahip: {kalori_listesi[secilen_index]} \")"
   ]
  },
  {
   "cell_type": "code",
   "execution_count": 14,
   "id": "aba84b04-a80c-4bfb-9733-b69f7b9868f8",
   "metadata": {},
   "outputs": [],
   "source": [
    "spor_sozlugu = {\"koşma\":100, \"yüzme\":150, \"basketbol\":200}"
   ]
  },
  {
   "cell_type": "code",
   "execution_count": 15,
   "id": "a9e7b87f-a312-4633-b277-ba7a9b020e05",
   "metadata": {},
   "outputs": [
    {
     "data": {
      "text/plain": [
       "100"
      ]
     },
     "execution_count": 15,
     "metadata": {},
     "output_type": "execute_result"
    }
   ],
   "source": [
    "spor_sozlugu[\"koşma\"]"
   ]
  },
  {
   "cell_type": "code",
   "execution_count": 16,
   "id": "48c48877-837d-4182-85e8-b60355c7a897",
   "metadata": {},
   "outputs": [
    {
     "data": {
      "text/plain": [
       "150"
      ]
     },
     "execution_count": 16,
     "metadata": {},
     "output_type": "execute_result"
    }
   ],
   "source": [
    "spor_sozlugu[\"yüzme\"]"
   ]
  },
  {
   "cell_type": "code",
   "execution_count": 17,
   "id": "fa6969c2-8345-419f-9418-e8e28331104d",
   "metadata": {},
   "outputs": [
    {
     "data": {
      "text/plain": [
       "dict"
      ]
     },
     "execution_count": 17,
     "metadata": {},
     "output_type": "execute_result"
    }
   ],
   "source": [
    "type(spor_sozlugu)"
   ]
  },
  {
   "cell_type": "code",
   "execution_count": 22,
   "id": "d2b6e913-d413-4dca-9662-00688ef0e479",
   "metadata": {},
   "outputs": [
    {
     "name": "stdout",
     "output_type": "stream",
     "text": [
      "Help on built-in function get:\n",
      "\n",
      "get(key, default=None, /) method of builtins.dict instance\n",
      "    Return the value for key if key is in the dictionary, else default.\n",
      "\n"
     ]
    }
   ],
   "source": [
    "help(spor_sozlugu.get)"
   ]
  },
  {
   "cell_type": "code",
   "execution_count": 26,
   "id": "55f654b7-1a1b-4648-bee4-43438072d192",
   "metadata": {},
   "outputs": [
    {
     "data": {
      "text/plain": [
       "0"
      ]
     },
     "execution_count": 26,
     "metadata": {},
     "output_type": "execute_result"
    }
   ],
   "source": [
    "spor_sozlugu.get(\"futbol\",0)"
   ]
  },
  {
   "cell_type": "code",
   "execution_count": 27,
   "id": "5c64f560-e468-4ff6-b40a-302855dc654d",
   "metadata": {},
   "outputs": [
    {
     "data": {
      "text/plain": [
       "150"
      ]
     },
     "execution_count": 27,
     "metadata": {},
     "output_type": "execute_result"
    }
   ],
   "source": [
    "spor_sozlugu.get(\"yüzme\",0)"
   ]
  },
  {
   "cell_type": "code",
   "execution_count": 28,
   "id": "e6f3e85a-ac62-450a-b5b9-9eb5cf393455",
   "metadata": {},
   "outputs": [],
   "source": [
    "spor_sozlugu[\"tenis\"] = 300"
   ]
  },
  {
   "cell_type": "code",
   "execution_count": 29,
   "id": "d609023a-a0de-43b2-87b2-a04ff4ea09a5",
   "metadata": {},
   "outputs": [
    {
     "data": {
      "text/plain": [
       "{'koşma': 100, 'yüzme': 150, 'basketbol': 200, 'tenis': 300}"
      ]
     },
     "execution_count": 29,
     "metadata": {},
     "output_type": "execute_result"
    }
   ],
   "source": [
    "spor_sozlugu"
   ]
  },
  {
   "cell_type": "code",
   "execution_count": 30,
   "id": "1e617123-23fa-4763-b875-9f8685502e04",
   "metadata": {},
   "outputs": [],
   "source": [
    "spor_sozlugu[\"koşma\"] = 120"
   ]
  },
  {
   "cell_type": "code",
   "execution_count": 31,
   "id": "3015d5db-b474-403b-b540-15938bb8df91",
   "metadata": {},
   "outputs": [
    {
     "data": {
      "text/plain": [
       "{'koşma': 120, 'yüzme': 150, 'basketbol': 200, 'tenis': 300}"
      ]
     },
     "execution_count": 31,
     "metadata": {},
     "output_type": "execute_result"
    }
   ],
   "source": [
    "spor_sozlugu"
   ]
  },
  {
   "cell_type": "code",
   "execution_count": 32,
   "id": "29dbb734-d1fc-4d69-99d2-ce8ca21feee1",
   "metadata": {},
   "outputs": [
    {
     "data": {
      "text/plain": [
       "dict_keys(['koşma', 'yüzme', 'basketbol', 'tenis'])"
      ]
     },
     "execution_count": 32,
     "metadata": {},
     "output_type": "execute_result"
    }
   ],
   "source": [
    "spor_sozlugu.keys()"
   ]
  },
  {
   "cell_type": "code",
   "execution_count": 33,
   "id": "5c78e0aa-c791-442b-8ef7-972bee4654a4",
   "metadata": {},
   "outputs": [
    {
     "data": {
      "text/plain": [
       "dict_values([120, 150, 200, 300])"
      ]
     },
     "execution_count": 33,
     "metadata": {},
     "output_type": "execute_result"
    }
   ],
   "source": [
    "spor_sozlugu.values()"
   ]
  },
  {
   "cell_type": "code",
   "execution_count": 34,
   "id": "1419c123-a415-4ee5-b312-2ac813b78bb9",
   "metadata": {},
   "outputs": [
    {
     "data": {
      "text/plain": [
       "dict_items([('koşma', 120), ('yüzme', 150), ('basketbol', 200), ('tenis', 300)])"
      ]
     },
     "execution_count": 34,
     "metadata": {},
     "output_type": "execute_result"
    }
   ],
   "source": [
    "spor_sozlugu.items()"
   ]
  },
  {
   "cell_type": "code",
   "execution_count": 35,
   "id": "196c05ed-747e-4da1-bca7-344e95e5ba5e",
   "metadata": {},
   "outputs": [],
   "source": [
    "anlamsiz_sozluk = {1:10, 2:20, 3:30}"
   ]
  },
  {
   "cell_type": "code",
   "execution_count": 37,
   "id": "eaa82420-d7ed-414c-8979-8843f8a0c990",
   "metadata": {},
   "outputs": [
    {
     "data": {
      "text/plain": [
       "20"
      ]
     },
     "execution_count": 37,
     "metadata": {},
     "output_type": "execute_result"
    }
   ],
   "source": [
    "anlamsiz_sozluk[2]"
   ]
  },
  {
   "cell_type": "code",
   "execution_count": 38,
   "id": "fedfb394-a4fb-4968-9e07-362c7b7742b3",
   "metadata": {},
   "outputs": [],
   "source": [
    "string_sozluk = {\"a\": \"atıl\", \"b\":\"birant\", \"c\":\"ceyhun\"}"
   ]
  },
  {
   "cell_type": "code",
   "execution_count": 40,
   "id": "ef270cad-634f-46ce-9314-bd7f975015e5",
   "metadata": {},
   "outputs": [
    {
     "data": {
      "text/plain": [
       "'ceyhun'"
      ]
     },
     "execution_count": 40,
     "metadata": {},
     "output_type": "execute_result"
    }
   ],
   "source": [
    "string_sozluk[\"c\"]"
   ]
  },
  {
   "cell_type": "code",
   "execution_count": 41,
   "id": "8ad9cda9-889c-4aea-b45e-33dd9bf3d6ee",
   "metadata": {},
   "outputs": [],
   "source": [
    "karisik_sozluk = {\"a\": 100, \"b\": 5.25, \"c\": [10,20,30], \"d\" : {\"k1\":500, \"k2\":600}}"
   ]
  },
  {
   "cell_type": "code",
   "execution_count": 43,
   "id": "10dbafc7-b485-4ef4-8d98-06200fb9d611",
   "metadata": {},
   "outputs": [
    {
     "data": {
      "text/plain": [
       "30"
      ]
     },
     "execution_count": 43,
     "metadata": {},
     "output_type": "execute_result"
    }
   ],
   "source": [
    "karisik_sozluk[\"c\"][2]"
   ]
  },
  {
   "cell_type": "code",
   "execution_count": 45,
   "id": "e9196279-9a14-4e96-9a43-fd70642bb917",
   "metadata": {},
   "outputs": [
    {
     "data": {
      "text/plain": [
       "500"
      ]
     },
     "execution_count": 45,
     "metadata": {},
     "output_type": "execute_result"
    }
   ],
   "source": [
    "karisik_sozluk[\"d\"][\"k1\"]"
   ]
  },
  {
   "cell_type": "code",
   "execution_count": null,
   "id": "e42d78f6-065f-43b1-bfea-0d3b908bb298",
   "metadata": {},
   "outputs": [],
   "source": []
  }
 ],
 "metadata": {
  "kernelspec": {
   "display_name": "Python 3 (ipykernel)",
   "language": "python",
   "name": "python3"
  },
  "language_info": {
   "codemirror_mode": {
    "name": "ipython",
    "version": 3
   },
   "file_extension": ".py",
   "mimetype": "text/x-python",
   "name": "python",
   "nbconvert_exporter": "python",
   "pygments_lexer": "ipython3",
   "version": "3.12.7"
  }
 },
 "nbformat": 4,
 "nbformat_minor": 5
}
