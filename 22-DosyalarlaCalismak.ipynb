{
 "cells": [
  {
   "cell_type": "code",
   "execution_count": 2,
   "id": "1a75672d",
   "metadata": {},
   "outputs": [
    {
     "name": "stdout",
     "output_type": "stream",
     "text": [
      "Writing ornekdosya.txt\n"
     ]
    }
   ],
   "source": [
    "%%writefile ornekdosya.txt\n",
    "test 1\n",
    "test 2 \n",
    "test 3"
   ]
  },
  {
   "cell_type": "code",
   "execution_count": 3,
   "id": "ab11621d",
   "metadata": {},
   "outputs": [
    {
     "name": "stdout",
     "output_type": "stream",
     "text": [
      "test 1\n",
      "test 2 \n",
      "test 3\n",
      "\n"
     ]
    }
   ],
   "source": [
    "with open('ornekdosya.txt') as ornek_dosya:\n",
    "    print(ornek_dosya.read())"
   ]
  },
  {
   "cell_type": "code",
   "execution_count": 4,
   "id": "a55b295f",
   "metadata": {},
   "outputs": [],
   "source": [
    "ornek_dosya = open('ornekdosya.txt')"
   ]
  },
  {
   "cell_type": "code",
   "execution_count": 5,
   "id": "35dfd72a",
   "metadata": {},
   "outputs": [
    {
     "data": {
      "text/plain": [
       "_io.TextIOWrapper"
      ]
     },
     "execution_count": 5,
     "metadata": {},
     "output_type": "execute_result"
    }
   ],
   "source": [
    "type(ornek_dosya)"
   ]
  },
  {
   "cell_type": "code",
   "execution_count": 6,
   "id": "b75d2b72",
   "metadata": {},
   "outputs": [
    {
     "data": {
      "text/plain": [
       "'test 1\\ntest 2 \\ntest 3\\n'"
      ]
     },
     "execution_count": 6,
     "metadata": {},
     "output_type": "execute_result"
    }
   ],
   "source": [
    "ornek_dosya.read()"
   ]
  },
  {
   "cell_type": "code",
   "execution_count": 7,
   "id": "b9455280",
   "metadata": {},
   "outputs": [
    {
     "data": {
      "text/plain": [
       "''"
      ]
     },
     "execution_count": 7,
     "metadata": {},
     "output_type": "execute_result"
    }
   ],
   "source": [
    "ornek_dosya.read()"
   ]
  },
  {
   "cell_type": "code",
   "execution_count": 8,
   "id": "49956ede",
   "metadata": {},
   "outputs": [
    {
     "data": {
      "text/plain": [
       "0"
      ]
     },
     "execution_count": 8,
     "metadata": {},
     "output_type": "execute_result"
    }
   ],
   "source": [
    "ornek_dosya.seek(0)"
   ]
  },
  {
   "cell_type": "code",
   "execution_count": 9,
   "id": "6a11d998",
   "metadata": {},
   "outputs": [
    {
     "data": {
      "text/plain": [
       "'test 1\\ntest 2 \\ntest 3\\n'"
      ]
     },
     "execution_count": 9,
     "metadata": {},
     "output_type": "execute_result"
    }
   ],
   "source": [
    "ornek_dosya.read()"
   ]
  },
  {
   "cell_type": "code",
   "execution_count": 10,
   "id": "6cd5a7c8",
   "metadata": {},
   "outputs": [],
   "source": [
    "ornek_dosya.close()"
   ]
  },
  {
   "cell_type": "code",
   "execution_count": 11,
   "id": "fa614bd9",
   "metadata": {},
   "outputs": [
    {
     "name": "stdout",
     "output_type": "stream",
     "text": [
      "test 1\n",
      "test 2 \n",
      "test 3\n",
      "\n"
     ]
    }
   ],
   "source": [
    "with open('ornekdosya.txt') as ornek_dosya:\n",
    "    print(ornek_dosya.read())"
   ]
  },
  {
   "cell_type": "code",
   "execution_count": 12,
   "id": "6ebc1b20",
   "metadata": {},
   "outputs": [
    {
     "name": "stdout",
     "output_type": "stream",
     "text": [
      "test 1\n",
      "test 2 \n",
      "test 3\n",
      "\n"
     ]
    }
   ],
   "source": [
    "with open('ornekdosya.txt') as ornek_dosya:\n",
    "    print(ornek_dosya.read())"
   ]
  },
  {
   "cell_type": "code",
   "execution_count": 13,
   "id": "91c949e7",
   "metadata": {},
   "outputs": [],
   "source": [
    "# w->write, r->read, a->append\n",
    "with open('ornekdosya.txt', mode=\"w\") as yeni_dosya:\n",
    "    yeni_dosya.write(\"test 4\")"
   ]
  },
  {
   "cell_type": "code",
   "execution_count": 15,
   "id": "ee9d1af3",
   "metadata": {
    "scrolled": true
   },
   "outputs": [
    {
     "name": "stdout",
     "output_type": "stream",
     "text": [
      "test 4\n"
     ]
    }
   ],
   "source": [
    "with open('ornekdosya.txt', mode=\"r\") as ornek_dosya:\n",
    "    print(ornek_dosya.read())"
   ]
  },
  {
   "cell_type": "code",
   "execution_count": 16,
   "id": "05e3635e",
   "metadata": {},
   "outputs": [],
   "source": [
    "with open('ornekdosya.txt', mode=\"a\") as yeni_dosya:\n",
    "    yeni_dosya.write(\"test 5\")"
   ]
  },
  {
   "cell_type": "code",
   "execution_count": 17,
   "id": "ad4df6fe",
   "metadata": {},
   "outputs": [
    {
     "name": "stdout",
     "output_type": "stream",
     "text": [
      "test 4test 5\n"
     ]
    }
   ],
   "source": [
    "with open('ornekdosya.txt', mode=\"r\") as ornek_dosya:\n",
    "    print(ornek_dosya.read())"
   ]
  },
  {
   "cell_type": "code",
   "execution_count": null,
   "id": "6b15f1e4",
   "metadata": {},
   "outputs": [],
   "source": []
  }
 ],
 "metadata": {
  "kernelspec": {
   "display_name": "Python 3 (ipykernel)",
   "language": "python",
   "name": "python3"
  },
  "language_info": {
   "codemirror_mode": {
    "name": "ipython",
    "version": 3
   },
   "file_extension": ".py",
   "mimetype": "text/x-python",
   "name": "python",
   "nbconvert_exporter": "python",
   "pygments_lexer": "ipython3",
   "version": "3.10.9"
  }
 },
 "nbformat": 4,
 "nbformat_minor": 5
}
