{
 "cells": [
  {
   "cell_type": "code",
   "execution_count": 1,
   "id": "496fa473-e133-4e2b-ba42-78dd699bf3e9",
   "metadata": {},
   "outputs": [],
   "source": [
    "#immutability"
   ]
  },
  {
   "cell_type": "code",
   "execution_count": 2,
   "id": "69ca3dc8-c28e-4253-9805-a2f34612181b",
   "metadata": {},
   "outputs": [],
   "source": [
    "ornek_tuple = (10,20,30,40,50)"
   ]
  },
  {
   "cell_type": "code",
   "execution_count": 3,
   "id": "c82cf5bb-47ee-4202-802e-c5f031d431c3",
   "metadata": {},
   "outputs": [
    {
     "data": {
      "text/plain": [
       "tuple"
      ]
     },
     "execution_count": 3,
     "metadata": {},
     "output_type": "execute_result"
    }
   ],
   "source": [
    "type(ornek_tuple)"
   ]
  },
  {
   "cell_type": "code",
   "execution_count": 4,
   "id": "806f4217-4559-4f0e-ad87-38be5d6b97ee",
   "metadata": {},
   "outputs": [
    {
     "data": {
      "text/plain": [
       "1"
      ]
     },
     "execution_count": 4,
     "metadata": {},
     "output_type": "execute_result"
    }
   ],
   "source": [
    "ornek_tuple.count(10)"
   ]
  },
  {
   "cell_type": "code",
   "execution_count": 5,
   "id": "0f49727e-7ff5-4335-b153-8618adf19413",
   "metadata": {},
   "outputs": [
    {
     "data": {
      "text/plain": [
       "2"
      ]
     },
     "execution_count": 5,
     "metadata": {},
     "output_type": "execute_result"
    }
   ],
   "source": [
    "ornek_tuple.index(30)"
   ]
  },
  {
   "cell_type": "code",
   "execution_count": 6,
   "id": "873f6ff7-a36c-4bee-9d13-e551e72f850d",
   "metadata": {},
   "outputs": [
    {
     "data": {
      "text/plain": [
       "10"
      ]
     },
     "execution_count": 6,
     "metadata": {},
     "output_type": "execute_result"
    }
   ],
   "source": [
    "ornek_tuple[0]"
   ]
  },
  {
   "cell_type": "code",
   "execution_count": 8,
   "id": "fb87be96-5a33-4f15-b797-42f06c1b68e4",
   "metadata": {},
   "outputs": [],
   "source": [
    "#ornek_tuple[0] = 100"
   ]
  },
  {
   "cell_type": "code",
   "execution_count": 9,
   "id": "aaaca7b0-864b-4858-9dc7-eb17f1290eab",
   "metadata": {},
   "outputs": [
    {
     "data": {
      "text/plain": [
       "[10, 20, 30, 40, 50]"
      ]
     },
     "execution_count": 9,
     "metadata": {},
     "output_type": "execute_result"
    }
   ],
   "source": [
    "list(ornek_tuple)"
   ]
  },
  {
   "cell_type": "code",
   "execution_count": 10,
   "id": "347c5378-1cd1-441c-9aa6-011ad8cee541",
   "metadata": {},
   "outputs": [],
   "source": [
    "ornek_liste = [190,400,500]"
   ]
  },
  {
   "cell_type": "code",
   "execution_count": 11,
   "id": "e3676e7e-5051-4b1f-b2bd-13f748b7d4ab",
   "metadata": {},
   "outputs": [
    {
     "data": {
      "text/plain": [
       "(190, 400, 500)"
      ]
     },
     "execution_count": 11,
     "metadata": {},
     "output_type": "execute_result"
    }
   ],
   "source": [
    "tuple(ornek_liste)"
   ]
  },
  {
   "cell_type": "code",
   "execution_count": null,
   "id": "8b7c4b88-818e-48da-9795-4376eb724683",
   "metadata": {},
   "outputs": [],
   "source": []
  }
 ],
 "metadata": {
  "kernelspec": {
   "display_name": "Python 3 (ipykernel)",
   "language": "python",
   "name": "python3"
  },
  "language_info": {
   "codemirror_mode": {
    "name": "ipython",
    "version": 3
   },
   "file_extension": ".py",
   "mimetype": "text/x-python",
   "name": "python",
   "nbconvert_exporter": "python",
   "pygments_lexer": "ipython3",
   "version": "3.12.7"
  }
 },
 "nbformat": 4,
 "nbformat_minor": 5
}
